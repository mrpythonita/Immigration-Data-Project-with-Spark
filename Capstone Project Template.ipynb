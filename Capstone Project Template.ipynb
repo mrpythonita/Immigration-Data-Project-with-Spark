{
 "cells": [
  {
   "cell_type": "markdown",
   "metadata": {},
   "source": [
    "# Project : United States Immigration Data \n",
    "\n",
    "\n",
    "\n",
    "<img align=\"left\" src=\"i94data.jpg\" width=\"700\" height=\"150\">"
   ]
  },
  {
   "cell_type": "code",
   "execution_count": null,
   "metadata": {},
   "outputs": [],
   "source": [
    "### The project follows the steps below:\n",
    "\n",
    "* Step 1: Scope the Project and Gather Data\n",
    "* Step 2: Explore and Assess the Data\n",
    "* Step 3: Define the Data Model\n",
    "* Step 4: Run ETL to Model the Data\n",
    "* Step 5: Complete Project Write Up"
   ]
  },
  {
   "cell_type": "code",
   "execution_count": null,
   "metadata": {},
   "outputs": [],
   "source": [
    "### Scope\n",
    "\n",
    "This project explores United States immigration data with the intentent of analyzing the following aspects:\n",
    "- <i>Correlation between travel volumes and the entry ports</i>     \n",
    "- <i>Correlation between travel volumes and the variation of dempographics in different cities</i>\n",
    "- <i>The seasonality componente of travelling\n",
    "- <i>The impact of temperatures on travellers' volume</i>\n"
   ]
  },
  {
   "cell_type": "code",
   "execution_count": null,
   "metadata": {},
   "outputs": [],
   "source": [
    "### Data Sets\n",
    "\n",
    "* **I94 Immigration Data**: This data comes from the US National Tourism and Trade Office and includes the contents of the i94 form on entry to the united states. A data dictionary is included in the workspace.\n",
    "* **countries.csv** : Country codes extracted from the data dictionary\n",
    "* **i94portCodes.csv**: City codes used extracted from the data dictionary\n",
    "\n",
    "* **World Temperature Data**: This data set comes from Kaggle, and includes temperatures from several cities worldwide from 1743 to 2013.\n",
    "* **U.S. City Demographic Data**: This data set comes from OpenSoft, and includes US cities demographics from the US Census Bureau's 2015 American Community Survey.\n",
    "* **Airport Code Table**: Airport codes and corresponding cities."
   ]
  },
  {
   "cell_type": "markdown",
   "metadata": {},
   "source": [
    "### Importing libraries"
   ]
  },
  {
   "cell_type": "code",
   "execution_count": 1,
   "metadata": {},
   "outputs": [],
   "source": [
    "from pyspark.sql import SparkSession\n",
    "from pyspark.sql.functions import udf, date_add\n",
    "from pyspark.sql.types import StringType\n",
    "from pyspark.sql.types import IntegerType\n",
    "from pyspark.sql.functions import desc\n",
    "from pyspark.sql.functions import asc\n",
    "from pyspark.sql.functions import sum as Fsum\n",
    "import datetime\n",
    "import numpy as np\n",
    "import pandas as pd\n",
    "import seaborn as sns\n",
    "import matplotlib.pyplot as plt"
   ]
  },
  {
   "cell_type": "markdown",
   "metadata": {},
   "source": [
    "### Immigration dataset\n",
    "\n",
    "For this project we will be using the immigration data set which is comprised of three millions rows. However, to have a quick look at the data, we will be loading a subset (immigration_data_sample.csv)"
   ]
  },
  {
   "cell_type": "code",
   "execution_count": 2,
   "metadata": {},
   "outputs": [],
   "source": [
    "# Read in the data here\n",
    "immigration_df = pd.read_csv('immigration_data_sample.csv')"
   ]
  },
  {
   "cell_type": "code",
   "execution_count": 3,
   "metadata": {},
   "outputs": [
    {
     "name": "stdout",
     "output_type": "stream",
     "text": [
      "The sample data set is composed of 1000 rows and 29 columns\n"
     ]
    }
   ],
   "source": [
    "print(f'The sample data set is composed of {immigration_df.shape[0]} rows and {immigration_df.shape[1]} columns')"
   ]
  },
  {
   "cell_type": "code",
   "execution_count": 4,
   "metadata": {},
   "outputs": [
    {
     "data": {
      "text/html": [
       "<style  type=\"text/css\" >\n",
       "</style>  \n",
       "<table id=\"T_80db983e_a80f_11eb_9c19_0242ac120002\" > \n",
       "<thead>    <tr> \n",
       "        <th class=\"col_heading level0 col0\" >Unnamed: 0</th> \n",
       "        <th class=\"col_heading level0 col1\" >cicid</th> \n",
       "        <th class=\"col_heading level0 col2\" >i94yr</th> \n",
       "        <th class=\"col_heading level0 col3\" >i94mon</th> \n",
       "        <th class=\"col_heading level0 col4\" >i94cit</th> \n",
       "        <th class=\"col_heading level0 col5\" >i94res</th> \n",
       "        <th class=\"col_heading level0 col6\" >i94port</th> \n",
       "        <th class=\"col_heading level0 col7\" >arrdate</th> \n",
       "        <th class=\"col_heading level0 col8\" >i94mode</th> \n",
       "        <th class=\"col_heading level0 col9\" >i94addr</th> \n",
       "        <th class=\"col_heading level0 col10\" >depdate</th> \n",
       "        <th class=\"col_heading level0 col11\" >i94bir</th> \n",
       "        <th class=\"col_heading level0 col12\" >i94visa</th> \n",
       "        <th class=\"col_heading level0 col13\" >count</th> \n",
       "        <th class=\"col_heading level0 col14\" >dtadfile</th> \n",
       "        <th class=\"col_heading level0 col15\" >visapost</th> \n",
       "        <th class=\"col_heading level0 col16\" >occup</th> \n",
       "        <th class=\"col_heading level0 col17\" >entdepa</th> \n",
       "        <th class=\"col_heading level0 col18\" >entdepd</th> \n",
       "        <th class=\"col_heading level0 col19\" >entdepu</th> \n",
       "        <th class=\"col_heading level0 col20\" >matflag</th> \n",
       "        <th class=\"col_heading level0 col21\" >biryear</th> \n",
       "        <th class=\"col_heading level0 col22\" >dtaddto</th> \n",
       "        <th class=\"col_heading level0 col23\" >gender</th> \n",
       "        <th class=\"col_heading level0 col24\" >insnum</th> \n",
       "        <th class=\"col_heading level0 col25\" >airline</th> \n",
       "        <th class=\"col_heading level0 col26\" >admnum</th> \n",
       "        <th class=\"col_heading level0 col27\" >fltno</th> \n",
       "        <th class=\"col_heading level0 col28\" >visatype</th> \n",
       "    </tr></thead> \n",
       "<tbody>    <tr> \n",
       "        <td id=\"T_80db983e_a80f_11eb_9c19_0242ac120002row0_col0\" class=\"data row0 col0\" >2027561</td> \n",
       "        <td id=\"T_80db983e_a80f_11eb_9c19_0242ac120002row0_col1\" class=\"data row0 col1\" >4.08432e+06</td> \n",
       "        <td id=\"T_80db983e_a80f_11eb_9c19_0242ac120002row0_col2\" class=\"data row0 col2\" >2016</td> \n",
       "        <td id=\"T_80db983e_a80f_11eb_9c19_0242ac120002row0_col3\" class=\"data row0 col3\" >4</td> \n",
       "        <td id=\"T_80db983e_a80f_11eb_9c19_0242ac120002row0_col4\" class=\"data row0 col4\" >209</td> \n",
       "        <td id=\"T_80db983e_a80f_11eb_9c19_0242ac120002row0_col5\" class=\"data row0 col5\" >209</td> \n",
       "        <td id=\"T_80db983e_a80f_11eb_9c19_0242ac120002row0_col6\" class=\"data row0 col6\" >HHW</td> \n",
       "        <td id=\"T_80db983e_a80f_11eb_9c19_0242ac120002row0_col7\" class=\"data row0 col7\" >20566</td> \n",
       "        <td id=\"T_80db983e_a80f_11eb_9c19_0242ac120002row0_col8\" class=\"data row0 col8\" >1</td> \n",
       "        <td id=\"T_80db983e_a80f_11eb_9c19_0242ac120002row0_col9\" class=\"data row0 col9\" >HI</td> \n",
       "        <td id=\"T_80db983e_a80f_11eb_9c19_0242ac120002row0_col10\" class=\"data row0 col10\" >20573</td> \n",
       "        <td id=\"T_80db983e_a80f_11eb_9c19_0242ac120002row0_col11\" class=\"data row0 col11\" >61</td> \n",
       "        <td id=\"T_80db983e_a80f_11eb_9c19_0242ac120002row0_col12\" class=\"data row0 col12\" >2</td> \n",
       "        <td id=\"T_80db983e_a80f_11eb_9c19_0242ac120002row0_col13\" class=\"data row0 col13\" >1</td> \n",
       "        <td id=\"T_80db983e_a80f_11eb_9c19_0242ac120002row0_col14\" class=\"data row0 col14\" >20160422</td> \n",
       "        <td id=\"T_80db983e_a80f_11eb_9c19_0242ac120002row0_col15\" class=\"data row0 col15\" >nan</td> \n",
       "        <td id=\"T_80db983e_a80f_11eb_9c19_0242ac120002row0_col16\" class=\"data row0 col16\" >nan</td> \n",
       "        <td id=\"T_80db983e_a80f_11eb_9c19_0242ac120002row0_col17\" class=\"data row0 col17\" >G</td> \n",
       "        <td id=\"T_80db983e_a80f_11eb_9c19_0242ac120002row0_col18\" class=\"data row0 col18\" >O</td> \n",
       "        <td id=\"T_80db983e_a80f_11eb_9c19_0242ac120002row0_col19\" class=\"data row0 col19\" >nan</td> \n",
       "        <td id=\"T_80db983e_a80f_11eb_9c19_0242ac120002row0_col20\" class=\"data row0 col20\" >M</td> \n",
       "        <td id=\"T_80db983e_a80f_11eb_9c19_0242ac120002row0_col21\" class=\"data row0 col21\" >1955</td> \n",
       "        <td id=\"T_80db983e_a80f_11eb_9c19_0242ac120002row0_col22\" class=\"data row0 col22\" >07202016</td> \n",
       "        <td id=\"T_80db983e_a80f_11eb_9c19_0242ac120002row0_col23\" class=\"data row0 col23\" >F</td> \n",
       "        <td id=\"T_80db983e_a80f_11eb_9c19_0242ac120002row0_col24\" class=\"data row0 col24\" >nan</td> \n",
       "        <td id=\"T_80db983e_a80f_11eb_9c19_0242ac120002row0_col25\" class=\"data row0 col25\" >JL</td> \n",
       "        <td id=\"T_80db983e_a80f_11eb_9c19_0242ac120002row0_col26\" class=\"data row0 col26\" >5.65827e+10</td> \n",
       "        <td id=\"T_80db983e_a80f_11eb_9c19_0242ac120002row0_col27\" class=\"data row0 col27\" >00782</td> \n",
       "        <td id=\"T_80db983e_a80f_11eb_9c19_0242ac120002row0_col28\" class=\"data row0 col28\" >WT</td> \n",
       "    </tr>    <tr> \n",
       "        <td id=\"T_80db983e_a80f_11eb_9c19_0242ac120002row1_col0\" class=\"data row1 col0\" >2171295</td> \n",
       "        <td id=\"T_80db983e_a80f_11eb_9c19_0242ac120002row1_col1\" class=\"data row1 col1\" >4.42264e+06</td> \n",
       "        <td id=\"T_80db983e_a80f_11eb_9c19_0242ac120002row1_col2\" class=\"data row1 col2\" >2016</td> \n",
       "        <td id=\"T_80db983e_a80f_11eb_9c19_0242ac120002row1_col3\" class=\"data row1 col3\" >4</td> \n",
       "        <td id=\"T_80db983e_a80f_11eb_9c19_0242ac120002row1_col4\" class=\"data row1 col4\" >582</td> \n",
       "        <td id=\"T_80db983e_a80f_11eb_9c19_0242ac120002row1_col5\" class=\"data row1 col5\" >582</td> \n",
       "        <td id=\"T_80db983e_a80f_11eb_9c19_0242ac120002row1_col6\" class=\"data row1 col6\" >MCA</td> \n",
       "        <td id=\"T_80db983e_a80f_11eb_9c19_0242ac120002row1_col7\" class=\"data row1 col7\" >20567</td> \n",
       "        <td id=\"T_80db983e_a80f_11eb_9c19_0242ac120002row1_col8\" class=\"data row1 col8\" >1</td> \n",
       "        <td id=\"T_80db983e_a80f_11eb_9c19_0242ac120002row1_col9\" class=\"data row1 col9\" >TX</td> \n",
       "        <td id=\"T_80db983e_a80f_11eb_9c19_0242ac120002row1_col10\" class=\"data row1 col10\" >20568</td> \n",
       "        <td id=\"T_80db983e_a80f_11eb_9c19_0242ac120002row1_col11\" class=\"data row1 col11\" >26</td> \n",
       "        <td id=\"T_80db983e_a80f_11eb_9c19_0242ac120002row1_col12\" class=\"data row1 col12\" >2</td> \n",
       "        <td id=\"T_80db983e_a80f_11eb_9c19_0242ac120002row1_col13\" class=\"data row1 col13\" >1</td> \n",
       "        <td id=\"T_80db983e_a80f_11eb_9c19_0242ac120002row1_col14\" class=\"data row1 col14\" >20160423</td> \n",
       "        <td id=\"T_80db983e_a80f_11eb_9c19_0242ac120002row1_col15\" class=\"data row1 col15\" >MTR</td> \n",
       "        <td id=\"T_80db983e_a80f_11eb_9c19_0242ac120002row1_col16\" class=\"data row1 col16\" >nan</td> \n",
       "        <td id=\"T_80db983e_a80f_11eb_9c19_0242ac120002row1_col17\" class=\"data row1 col17\" >G</td> \n",
       "        <td id=\"T_80db983e_a80f_11eb_9c19_0242ac120002row1_col18\" class=\"data row1 col18\" >R</td> \n",
       "        <td id=\"T_80db983e_a80f_11eb_9c19_0242ac120002row1_col19\" class=\"data row1 col19\" >nan</td> \n",
       "        <td id=\"T_80db983e_a80f_11eb_9c19_0242ac120002row1_col20\" class=\"data row1 col20\" >M</td> \n",
       "        <td id=\"T_80db983e_a80f_11eb_9c19_0242ac120002row1_col21\" class=\"data row1 col21\" >1990</td> \n",
       "        <td id=\"T_80db983e_a80f_11eb_9c19_0242ac120002row1_col22\" class=\"data row1 col22\" >10222016</td> \n",
       "        <td id=\"T_80db983e_a80f_11eb_9c19_0242ac120002row1_col23\" class=\"data row1 col23\" >M</td> \n",
       "        <td id=\"T_80db983e_a80f_11eb_9c19_0242ac120002row1_col24\" class=\"data row1 col24\" >nan</td> \n",
       "        <td id=\"T_80db983e_a80f_11eb_9c19_0242ac120002row1_col25\" class=\"data row1 col25\" >*GA</td> \n",
       "        <td id=\"T_80db983e_a80f_11eb_9c19_0242ac120002row1_col26\" class=\"data row1 col26\" >9.4362e+10</td> \n",
       "        <td id=\"T_80db983e_a80f_11eb_9c19_0242ac120002row1_col27\" class=\"data row1 col27\" >XBLNG</td> \n",
       "        <td id=\"T_80db983e_a80f_11eb_9c19_0242ac120002row1_col28\" class=\"data row1 col28\" >B2</td> \n",
       "    </tr>    <tr> \n",
       "        <td id=\"T_80db983e_a80f_11eb_9c19_0242ac120002row2_col0\" class=\"data row2 col0\" >589494</td> \n",
       "        <td id=\"T_80db983e_a80f_11eb_9c19_0242ac120002row2_col1\" class=\"data row2 col1\" >1.1956e+06</td> \n",
       "        <td id=\"T_80db983e_a80f_11eb_9c19_0242ac120002row2_col2\" class=\"data row2 col2\" >2016</td> \n",
       "        <td id=\"T_80db983e_a80f_11eb_9c19_0242ac120002row2_col3\" class=\"data row2 col3\" >4</td> \n",
       "        <td id=\"T_80db983e_a80f_11eb_9c19_0242ac120002row2_col4\" class=\"data row2 col4\" >148</td> \n",
       "        <td id=\"T_80db983e_a80f_11eb_9c19_0242ac120002row2_col5\" class=\"data row2 col5\" >112</td> \n",
       "        <td id=\"T_80db983e_a80f_11eb_9c19_0242ac120002row2_col6\" class=\"data row2 col6\" >OGG</td> \n",
       "        <td id=\"T_80db983e_a80f_11eb_9c19_0242ac120002row2_col7\" class=\"data row2 col7\" >20551</td> \n",
       "        <td id=\"T_80db983e_a80f_11eb_9c19_0242ac120002row2_col8\" class=\"data row2 col8\" >1</td> \n",
       "        <td id=\"T_80db983e_a80f_11eb_9c19_0242ac120002row2_col9\" class=\"data row2 col9\" >FL</td> \n",
       "        <td id=\"T_80db983e_a80f_11eb_9c19_0242ac120002row2_col10\" class=\"data row2 col10\" >20571</td> \n",
       "        <td id=\"T_80db983e_a80f_11eb_9c19_0242ac120002row2_col11\" class=\"data row2 col11\" >76</td> \n",
       "        <td id=\"T_80db983e_a80f_11eb_9c19_0242ac120002row2_col12\" class=\"data row2 col12\" >2</td> \n",
       "        <td id=\"T_80db983e_a80f_11eb_9c19_0242ac120002row2_col13\" class=\"data row2 col13\" >1</td> \n",
       "        <td id=\"T_80db983e_a80f_11eb_9c19_0242ac120002row2_col14\" class=\"data row2 col14\" >20160407</td> \n",
       "        <td id=\"T_80db983e_a80f_11eb_9c19_0242ac120002row2_col15\" class=\"data row2 col15\" >nan</td> \n",
       "        <td id=\"T_80db983e_a80f_11eb_9c19_0242ac120002row2_col16\" class=\"data row2 col16\" >nan</td> \n",
       "        <td id=\"T_80db983e_a80f_11eb_9c19_0242ac120002row2_col17\" class=\"data row2 col17\" >G</td> \n",
       "        <td id=\"T_80db983e_a80f_11eb_9c19_0242ac120002row2_col18\" class=\"data row2 col18\" >O</td> \n",
       "        <td id=\"T_80db983e_a80f_11eb_9c19_0242ac120002row2_col19\" class=\"data row2 col19\" >nan</td> \n",
       "        <td id=\"T_80db983e_a80f_11eb_9c19_0242ac120002row2_col20\" class=\"data row2 col20\" >M</td> \n",
       "        <td id=\"T_80db983e_a80f_11eb_9c19_0242ac120002row2_col21\" class=\"data row2 col21\" >1940</td> \n",
       "        <td id=\"T_80db983e_a80f_11eb_9c19_0242ac120002row2_col22\" class=\"data row2 col22\" >07052016</td> \n",
       "        <td id=\"T_80db983e_a80f_11eb_9c19_0242ac120002row2_col23\" class=\"data row2 col23\" >M</td> \n",
       "        <td id=\"T_80db983e_a80f_11eb_9c19_0242ac120002row2_col24\" class=\"data row2 col24\" >nan</td> \n",
       "        <td id=\"T_80db983e_a80f_11eb_9c19_0242ac120002row2_col25\" class=\"data row2 col25\" >LH</td> \n",
       "        <td id=\"T_80db983e_a80f_11eb_9c19_0242ac120002row2_col26\" class=\"data row2 col26\" >5.57805e+10</td> \n",
       "        <td id=\"T_80db983e_a80f_11eb_9c19_0242ac120002row2_col27\" class=\"data row2 col27\" >00464</td> \n",
       "        <td id=\"T_80db983e_a80f_11eb_9c19_0242ac120002row2_col28\" class=\"data row2 col28\" >WT</td> \n",
       "    </tr></tbody> \n",
       "</table> "
      ],
      "text/plain": [
       "<pandas.io.formats.style.Styler at 0x7f329f7a48d0>"
      ]
     },
     "execution_count": 4,
     "metadata": {},
     "output_type": "execute_result"
    }
   ],
   "source": [
    "pd.options.display.width = 0\n",
    "immigration_df.head(3).style.hide_index()"
   ]
  },
  {
   "cell_type": "code",
   "execution_count": 5,
   "metadata": {},
   "outputs": [
    {
     "data": {
      "text/html": [
       "<style  type=\"text/css\" >\n",
       "</style>  \n",
       "<table id=\"T_80e0066c_a80f_11eb_9c19_0242ac120002\" > \n",
       "<thead>    <tr> \n",
       "        <th class=\"col_heading level0 col0\" >Column_Names</th> \n",
       "    </tr></thead> \n",
       "<tbody>    <tr> \n",
       "        <td id=\"T_80e0066c_a80f_11eb_9c19_0242ac120002row0_col0\" class=\"data row0 col0\" >Unnamed: 0</td> \n",
       "    </tr>    <tr> \n",
       "        <td id=\"T_80e0066c_a80f_11eb_9c19_0242ac120002row1_col0\" class=\"data row1 col0\" >cicid</td> \n",
       "    </tr>    <tr> \n",
       "        <td id=\"T_80e0066c_a80f_11eb_9c19_0242ac120002row2_col0\" class=\"data row2 col0\" >i94yr</td> \n",
       "    </tr>    <tr> \n",
       "        <td id=\"T_80e0066c_a80f_11eb_9c19_0242ac120002row3_col0\" class=\"data row3 col0\" >i94mon</td> \n",
       "    </tr>    <tr> \n",
       "        <td id=\"T_80e0066c_a80f_11eb_9c19_0242ac120002row4_col0\" class=\"data row4 col0\" >i94cit</td> \n",
       "    </tr>    <tr> \n",
       "        <td id=\"T_80e0066c_a80f_11eb_9c19_0242ac120002row5_col0\" class=\"data row5 col0\" >i94res</td> \n",
       "    </tr>    <tr> \n",
       "        <td id=\"T_80e0066c_a80f_11eb_9c19_0242ac120002row6_col0\" class=\"data row6 col0\" >i94port</td> \n",
       "    </tr>    <tr> \n",
       "        <td id=\"T_80e0066c_a80f_11eb_9c19_0242ac120002row7_col0\" class=\"data row7 col0\" >arrdate</td> \n",
       "    </tr>    <tr> \n",
       "        <td id=\"T_80e0066c_a80f_11eb_9c19_0242ac120002row8_col0\" class=\"data row8 col0\" >i94mode</td> \n",
       "    </tr>    <tr> \n",
       "        <td id=\"T_80e0066c_a80f_11eb_9c19_0242ac120002row9_col0\" class=\"data row9 col0\" >i94addr</td> \n",
       "    </tr>    <tr> \n",
       "        <td id=\"T_80e0066c_a80f_11eb_9c19_0242ac120002row10_col0\" class=\"data row10 col0\" >depdate</td> \n",
       "    </tr>    <tr> \n",
       "        <td id=\"T_80e0066c_a80f_11eb_9c19_0242ac120002row11_col0\" class=\"data row11 col0\" >i94bir</td> \n",
       "    </tr>    <tr> \n",
       "        <td id=\"T_80e0066c_a80f_11eb_9c19_0242ac120002row12_col0\" class=\"data row12 col0\" >i94visa</td> \n",
       "    </tr>    <tr> \n",
       "        <td id=\"T_80e0066c_a80f_11eb_9c19_0242ac120002row13_col0\" class=\"data row13 col0\" >count</td> \n",
       "    </tr>    <tr> \n",
       "        <td id=\"T_80e0066c_a80f_11eb_9c19_0242ac120002row14_col0\" class=\"data row14 col0\" >dtadfile</td> \n",
       "    </tr>    <tr> \n",
       "        <td id=\"T_80e0066c_a80f_11eb_9c19_0242ac120002row15_col0\" class=\"data row15 col0\" >visapost</td> \n",
       "    </tr>    <tr> \n",
       "        <td id=\"T_80e0066c_a80f_11eb_9c19_0242ac120002row16_col0\" class=\"data row16 col0\" >occup</td> \n",
       "    </tr>    <tr> \n",
       "        <td id=\"T_80e0066c_a80f_11eb_9c19_0242ac120002row17_col0\" class=\"data row17 col0\" >entdepa</td> \n",
       "    </tr>    <tr> \n",
       "        <td id=\"T_80e0066c_a80f_11eb_9c19_0242ac120002row18_col0\" class=\"data row18 col0\" >entdepd</td> \n",
       "    </tr>    <tr> \n",
       "        <td id=\"T_80e0066c_a80f_11eb_9c19_0242ac120002row19_col0\" class=\"data row19 col0\" >entdepu</td> \n",
       "    </tr>    <tr> \n",
       "        <td id=\"T_80e0066c_a80f_11eb_9c19_0242ac120002row20_col0\" class=\"data row20 col0\" >matflag</td> \n",
       "    </tr>    <tr> \n",
       "        <td id=\"T_80e0066c_a80f_11eb_9c19_0242ac120002row21_col0\" class=\"data row21 col0\" >biryear</td> \n",
       "    </tr>    <tr> \n",
       "        <td id=\"T_80e0066c_a80f_11eb_9c19_0242ac120002row22_col0\" class=\"data row22 col0\" >dtaddto</td> \n",
       "    </tr>    <tr> \n",
       "        <td id=\"T_80e0066c_a80f_11eb_9c19_0242ac120002row23_col0\" class=\"data row23 col0\" >gender</td> \n",
       "    </tr>    <tr> \n",
       "        <td id=\"T_80e0066c_a80f_11eb_9c19_0242ac120002row24_col0\" class=\"data row24 col0\" >insnum</td> \n",
       "    </tr>    <tr> \n",
       "        <td id=\"T_80e0066c_a80f_11eb_9c19_0242ac120002row25_col0\" class=\"data row25 col0\" >airline</td> \n",
       "    </tr>    <tr> \n",
       "        <td id=\"T_80e0066c_a80f_11eb_9c19_0242ac120002row26_col0\" class=\"data row26 col0\" >admnum</td> \n",
       "    </tr>    <tr> \n",
       "        <td id=\"T_80e0066c_a80f_11eb_9c19_0242ac120002row27_col0\" class=\"data row27 col0\" >fltno</td> \n",
       "    </tr>    <tr> \n",
       "        <td id=\"T_80e0066c_a80f_11eb_9c19_0242ac120002row28_col0\" class=\"data row28 col0\" >visatype</td> \n",
       "    </tr></tbody> \n",
       "</table> "
      ],
      "text/plain": [
       "<pandas.io.formats.style.Styler at 0x7f329ed02cf8>"
      ]
     },
     "execution_count": 5,
     "metadata": {},
     "output_type": "execute_result"
    }
   ],
   "source": [
    "columns_names = immigration_df.columns\n",
    "pd.DataFrame(columns_names, columns=['Column_Names']).style.hide_index()"
   ]
  },
  {
   "cell_type": "markdown",
   "metadata": {},
   "source": [
    "<nobr><i> Immigration dataframe fields description can be found in the file <b>I94_SAS_Lables_Description.SAS</b></i>"
   ]
  },
  {
   "cell_type": "markdown",
   "metadata": {},
   "source": [
    "#### Mapping I94CIT & I94RES to Countries"
   ]
  },
  {
   "cell_type": "code",
   "execution_count": 6,
   "metadata": {},
   "outputs": [
    {
     "data": {
      "text/html": [
       "<style  type=\"text/css\" >\n",
       "</style>  \n",
       "<table id=\"T_82221862_a80f_11eb_9c19_0242ac120002\" > \n",
       "<thead>    <tr> \n",
       "        <th class=\"col_heading level0 col0\" >code</th> \n",
       "        <th class=\"col_heading level0 col1\" >country</th> \n",
       "    </tr></thead> \n",
       "<tbody>    <tr> \n",
       "        <td id=\"T_82221862_a80f_11eb_9c19_0242ac120002row0_col0\" class=\"data row0 col0\" >582</td> \n",
       "        <td id=\"T_82221862_a80f_11eb_9c19_0242ac120002row0_col1\" class=\"data row0 col1\" >MEXICO </td> \n",
       "    </tr>    <tr> \n",
       "        <td id=\"T_82221862_a80f_11eb_9c19_0242ac120002row1_col0\" class=\"data row1 col0\" >236</td> \n",
       "        <td id=\"T_82221862_a80f_11eb_9c19_0242ac120002row1_col1\" class=\"data row1 col1\" >AFGHANISTAN</td> \n",
       "    </tr>    <tr> \n",
       "        <td id=\"T_82221862_a80f_11eb_9c19_0242ac120002row2_col0\" class=\"data row2 col0\" >101</td> \n",
       "        <td id=\"T_82221862_a80f_11eb_9c19_0242ac120002row2_col1\" class=\"data row2 col1\" >ALBANIA</td> \n",
       "    </tr>    <tr> \n",
       "        <td id=\"T_82221862_a80f_11eb_9c19_0242ac120002row3_col0\" class=\"data row3 col0\" >316</td> \n",
       "        <td id=\"T_82221862_a80f_11eb_9c19_0242ac120002row3_col1\" class=\"data row3 col1\" >ALGERIA</td> \n",
       "    </tr>    <tr> \n",
       "        <td id=\"T_82221862_a80f_11eb_9c19_0242ac120002row4_col0\" class=\"data row4 col0\" >102</td> \n",
       "        <td id=\"T_82221862_a80f_11eb_9c19_0242ac120002row4_col1\" class=\"data row4 col1\" >ANDORRA</td> \n",
       "    </tr>    <tr> \n",
       "        <td id=\"T_82221862_a80f_11eb_9c19_0242ac120002row5_col0\" class=\"data row5 col0\" >324</td> \n",
       "        <td id=\"T_82221862_a80f_11eb_9c19_0242ac120002row5_col1\" class=\"data row5 col1\" >ANGOLA</td> \n",
       "    </tr>    <tr> \n",
       "        <td id=\"T_82221862_a80f_11eb_9c19_0242ac120002row6_col0\" class=\"data row6 col0\" >529</td> \n",
       "        <td id=\"T_82221862_a80f_11eb_9c19_0242ac120002row6_col1\" class=\"data row6 col1\" >ANGUILLA</td> \n",
       "    </tr>    <tr> \n",
       "        <td id=\"T_82221862_a80f_11eb_9c19_0242ac120002row7_col0\" class=\"data row7 col0\" >518</td> \n",
       "        <td id=\"T_82221862_a80f_11eb_9c19_0242ac120002row7_col1\" class=\"data row7 col1\" >ANTIGUA-BARBUDA</td> \n",
       "    </tr>    <tr> \n",
       "        <td id=\"T_82221862_a80f_11eb_9c19_0242ac120002row8_col0\" class=\"data row8 col0\" >687</td> \n",
       "        <td id=\"T_82221862_a80f_11eb_9c19_0242ac120002row8_col1\" class=\"data row8 col1\" >ARGENTINA </td> \n",
       "    </tr>    <tr> \n",
       "        <td id=\"T_82221862_a80f_11eb_9c19_0242ac120002row9_col0\" class=\"data row9 col0\" >151</td> \n",
       "        <td id=\"T_82221862_a80f_11eb_9c19_0242ac120002row9_col1\" class=\"data row9 col1\" >ARMENIA</td> \n",
       "    </tr></tbody> \n",
       "</table> "
      ],
      "text/plain": [
       "<pandas.io.formats.style.Styler at 0x7f32a6af2c18>"
      ]
     },
     "metadata": {},
     "output_type": "display_data"
    }
   ],
   "source": [
    "country_codes_df = pd.read_csv('countries.csv')\n",
    "display(country_codes_df.head(10).style.hide_index())"
   ]
  },
  {
   "cell_type": "markdown",
   "metadata": {},
   "source": [
    "#### Mapping  I94PORT to location, state"
   ]
  },
  {
   "cell_type": "code",
   "execution_count": 7,
   "metadata": {},
   "outputs": [
    {
     "data": {
      "text/html": [
       "<style  type=\"text/css\" >\n",
       "</style>  \n",
       "<table id=\"T_82c805e2_a80f_11eb_9c19_0242ac120002\" > \n",
       "<thead>    <tr> \n",
       "        <th class=\"col_heading level0 col0\" >code</th> \n",
       "        <th class=\"col_heading level0 col1\" >location</th> \n",
       "        <th class=\"col_heading level0 col2\" >state</th> \n",
       "    </tr></thead> \n",
       "<tbody>    <tr> \n",
       "        <td id=\"T_82c805e2_a80f_11eb_9c19_0242ac120002row0_col0\" class=\"data row0 col0\" >ALC</td> \n",
       "        <td id=\"T_82c805e2_a80f_11eb_9c19_0242ac120002row0_col1\" class=\"data row0 col1\" >ALCAN</td> \n",
       "        <td id=\"T_82c805e2_a80f_11eb_9c19_0242ac120002row0_col2\" class=\"data row0 col2\" >AK</td> \n",
       "    </tr>    <tr> \n",
       "        <td id=\"T_82c805e2_a80f_11eb_9c19_0242ac120002row1_col0\" class=\"data row1 col0\" >ANC</td> \n",
       "        <td id=\"T_82c805e2_a80f_11eb_9c19_0242ac120002row1_col1\" class=\"data row1 col1\" >ANCHORAGE</td> \n",
       "        <td id=\"T_82c805e2_a80f_11eb_9c19_0242ac120002row1_col2\" class=\"data row1 col2\" >AK</td> \n",
       "    </tr>    <tr> \n",
       "        <td id=\"T_82c805e2_a80f_11eb_9c19_0242ac120002row2_col0\" class=\"data row2 col0\" >BAR</td> \n",
       "        <td id=\"T_82c805e2_a80f_11eb_9c19_0242ac120002row2_col1\" class=\"data row2 col1\" >BAKER AAF - BAKER ISLAND</td> \n",
       "        <td id=\"T_82c805e2_a80f_11eb_9c19_0242ac120002row2_col2\" class=\"data row2 col2\" >AK</td> \n",
       "    </tr>    <tr> \n",
       "        <td id=\"T_82c805e2_a80f_11eb_9c19_0242ac120002row3_col0\" class=\"data row3 col0\" >DAC</td> \n",
       "        <td id=\"T_82c805e2_a80f_11eb_9c19_0242ac120002row3_col1\" class=\"data row3 col1\" >DALTONS CACHE</td> \n",
       "        <td id=\"T_82c805e2_a80f_11eb_9c19_0242ac120002row3_col2\" class=\"data row3 col2\" >AK</td> \n",
       "    </tr>    <tr> \n",
       "        <td id=\"T_82c805e2_a80f_11eb_9c19_0242ac120002row4_col0\" class=\"data row4 col0\" >PIZ</td> \n",
       "        <td id=\"T_82c805e2_a80f_11eb_9c19_0242ac120002row4_col1\" class=\"data row4 col1\" >DEW STATION PT LAY DEW</td> \n",
       "        <td id=\"T_82c805e2_a80f_11eb_9c19_0242ac120002row4_col2\" class=\"data row4 col2\" >AK</td> \n",
       "    </tr></tbody> \n",
       "</table> "
      ],
      "text/plain": [
       "<pandas.io.formats.style.Styler at 0x7f329ece69e8>"
      ]
     },
     "execution_count": 7,
     "metadata": {},
     "output_type": "execute_result"
    }
   ],
   "source": [
    "i94_port_df =pd.read_csv('i94ports_coding.csv')\n",
    "i94_port_df.head().style.hide_index()"
   ]
  },
  {
   "cell_type": "markdown",
   "metadata": {},
   "source": [
    "#### Demographic Data"
   ]
  },
  {
   "cell_type": "code",
   "execution_count": 8,
   "metadata": {},
   "outputs": [
    {
     "data": {
      "text/html": [
       "<style  type=\"text/css\" >\n",
       "</style>  \n",
       "<table id=\"T_836dced2_a80f_11eb_9c19_0242ac120002\" > \n",
       "<thead>    <tr> \n",
       "        <th class=\"col_heading level0 col0\" >City</th> \n",
       "        <th class=\"col_heading level0 col1\" >State</th> \n",
       "        <th class=\"col_heading level0 col2\" >Median Age</th> \n",
       "        <th class=\"col_heading level0 col3\" >Male Population</th> \n",
       "        <th class=\"col_heading level0 col4\" >Female Population</th> \n",
       "        <th class=\"col_heading level0 col5\" >Total Population</th> \n",
       "        <th class=\"col_heading level0 col6\" >Number of Veterans</th> \n",
       "        <th class=\"col_heading level0 col7\" >Foreign-born</th> \n",
       "        <th class=\"col_heading level0 col8\" >Average Household Size</th> \n",
       "        <th class=\"col_heading level0 col9\" >State Code</th> \n",
       "        <th class=\"col_heading level0 col10\" >Race</th> \n",
       "        <th class=\"col_heading level0 col11\" >Count</th> \n",
       "    </tr></thead> \n",
       "<tbody>    <tr> \n",
       "        <td id=\"T_836dced2_a80f_11eb_9c19_0242ac120002row0_col0\" class=\"data row0 col0\" >Silver Spring</td> \n",
       "        <td id=\"T_836dced2_a80f_11eb_9c19_0242ac120002row0_col1\" class=\"data row0 col1\" >Maryland</td> \n",
       "        <td id=\"T_836dced2_a80f_11eb_9c19_0242ac120002row0_col2\" class=\"data row0 col2\" >33.8</td> \n",
       "        <td id=\"T_836dced2_a80f_11eb_9c19_0242ac120002row0_col3\" class=\"data row0 col3\" >40601</td> \n",
       "        <td id=\"T_836dced2_a80f_11eb_9c19_0242ac120002row0_col4\" class=\"data row0 col4\" >41862</td> \n",
       "        <td id=\"T_836dced2_a80f_11eb_9c19_0242ac120002row0_col5\" class=\"data row0 col5\" >82463</td> \n",
       "        <td id=\"T_836dced2_a80f_11eb_9c19_0242ac120002row0_col6\" class=\"data row0 col6\" >1562</td> \n",
       "        <td id=\"T_836dced2_a80f_11eb_9c19_0242ac120002row0_col7\" class=\"data row0 col7\" >30908</td> \n",
       "        <td id=\"T_836dced2_a80f_11eb_9c19_0242ac120002row0_col8\" class=\"data row0 col8\" >2.6</td> \n",
       "        <td id=\"T_836dced2_a80f_11eb_9c19_0242ac120002row0_col9\" class=\"data row0 col9\" >MD</td> \n",
       "        <td id=\"T_836dced2_a80f_11eb_9c19_0242ac120002row0_col10\" class=\"data row0 col10\" >Hispanic or Latino</td> \n",
       "        <td id=\"T_836dced2_a80f_11eb_9c19_0242ac120002row0_col11\" class=\"data row0 col11\" >25924</td> \n",
       "    </tr>    <tr> \n",
       "        <td id=\"T_836dced2_a80f_11eb_9c19_0242ac120002row1_col0\" class=\"data row1 col0\" >Quincy</td> \n",
       "        <td id=\"T_836dced2_a80f_11eb_9c19_0242ac120002row1_col1\" class=\"data row1 col1\" >Massachusetts</td> \n",
       "        <td id=\"T_836dced2_a80f_11eb_9c19_0242ac120002row1_col2\" class=\"data row1 col2\" >41</td> \n",
       "        <td id=\"T_836dced2_a80f_11eb_9c19_0242ac120002row1_col3\" class=\"data row1 col3\" >44129</td> \n",
       "        <td id=\"T_836dced2_a80f_11eb_9c19_0242ac120002row1_col4\" class=\"data row1 col4\" >49500</td> \n",
       "        <td id=\"T_836dced2_a80f_11eb_9c19_0242ac120002row1_col5\" class=\"data row1 col5\" >93629</td> \n",
       "        <td id=\"T_836dced2_a80f_11eb_9c19_0242ac120002row1_col6\" class=\"data row1 col6\" >4147</td> \n",
       "        <td id=\"T_836dced2_a80f_11eb_9c19_0242ac120002row1_col7\" class=\"data row1 col7\" >32935</td> \n",
       "        <td id=\"T_836dced2_a80f_11eb_9c19_0242ac120002row1_col8\" class=\"data row1 col8\" >2.39</td> \n",
       "        <td id=\"T_836dced2_a80f_11eb_9c19_0242ac120002row1_col9\" class=\"data row1 col9\" >MA</td> \n",
       "        <td id=\"T_836dced2_a80f_11eb_9c19_0242ac120002row1_col10\" class=\"data row1 col10\" >White</td> \n",
       "        <td id=\"T_836dced2_a80f_11eb_9c19_0242ac120002row1_col11\" class=\"data row1 col11\" >58723</td> \n",
       "    </tr>    <tr> \n",
       "        <td id=\"T_836dced2_a80f_11eb_9c19_0242ac120002row2_col0\" class=\"data row2 col0\" >Hoover</td> \n",
       "        <td id=\"T_836dced2_a80f_11eb_9c19_0242ac120002row2_col1\" class=\"data row2 col1\" >Alabama</td> \n",
       "        <td id=\"T_836dced2_a80f_11eb_9c19_0242ac120002row2_col2\" class=\"data row2 col2\" >38.5</td> \n",
       "        <td id=\"T_836dced2_a80f_11eb_9c19_0242ac120002row2_col3\" class=\"data row2 col3\" >38040</td> \n",
       "        <td id=\"T_836dced2_a80f_11eb_9c19_0242ac120002row2_col4\" class=\"data row2 col4\" >46799</td> \n",
       "        <td id=\"T_836dced2_a80f_11eb_9c19_0242ac120002row2_col5\" class=\"data row2 col5\" >84839</td> \n",
       "        <td id=\"T_836dced2_a80f_11eb_9c19_0242ac120002row2_col6\" class=\"data row2 col6\" >4819</td> \n",
       "        <td id=\"T_836dced2_a80f_11eb_9c19_0242ac120002row2_col7\" class=\"data row2 col7\" >8229</td> \n",
       "        <td id=\"T_836dced2_a80f_11eb_9c19_0242ac120002row2_col8\" class=\"data row2 col8\" >2.58</td> \n",
       "        <td id=\"T_836dced2_a80f_11eb_9c19_0242ac120002row2_col9\" class=\"data row2 col9\" >AL</td> \n",
       "        <td id=\"T_836dced2_a80f_11eb_9c19_0242ac120002row2_col10\" class=\"data row2 col10\" >Asian</td> \n",
       "        <td id=\"T_836dced2_a80f_11eb_9c19_0242ac120002row2_col11\" class=\"data row2 col11\" >4759</td> \n",
       "    </tr>    <tr> \n",
       "        <td id=\"T_836dced2_a80f_11eb_9c19_0242ac120002row3_col0\" class=\"data row3 col0\" >Rancho Cucamonga</td> \n",
       "        <td id=\"T_836dced2_a80f_11eb_9c19_0242ac120002row3_col1\" class=\"data row3 col1\" >California</td> \n",
       "        <td id=\"T_836dced2_a80f_11eb_9c19_0242ac120002row3_col2\" class=\"data row3 col2\" >34.5</td> \n",
       "        <td id=\"T_836dced2_a80f_11eb_9c19_0242ac120002row3_col3\" class=\"data row3 col3\" >88127</td> \n",
       "        <td id=\"T_836dced2_a80f_11eb_9c19_0242ac120002row3_col4\" class=\"data row3 col4\" >87105</td> \n",
       "        <td id=\"T_836dced2_a80f_11eb_9c19_0242ac120002row3_col5\" class=\"data row3 col5\" >175232</td> \n",
       "        <td id=\"T_836dced2_a80f_11eb_9c19_0242ac120002row3_col6\" class=\"data row3 col6\" >5821</td> \n",
       "        <td id=\"T_836dced2_a80f_11eb_9c19_0242ac120002row3_col7\" class=\"data row3 col7\" >33878</td> \n",
       "        <td id=\"T_836dced2_a80f_11eb_9c19_0242ac120002row3_col8\" class=\"data row3 col8\" >3.18</td> \n",
       "        <td id=\"T_836dced2_a80f_11eb_9c19_0242ac120002row3_col9\" class=\"data row3 col9\" >CA</td> \n",
       "        <td id=\"T_836dced2_a80f_11eb_9c19_0242ac120002row3_col10\" class=\"data row3 col10\" >Black or African-American</td> \n",
       "        <td id=\"T_836dced2_a80f_11eb_9c19_0242ac120002row3_col11\" class=\"data row3 col11\" >24437</td> \n",
       "    </tr>    <tr> \n",
       "        <td id=\"T_836dced2_a80f_11eb_9c19_0242ac120002row4_col0\" class=\"data row4 col0\" >Newark</td> \n",
       "        <td id=\"T_836dced2_a80f_11eb_9c19_0242ac120002row4_col1\" class=\"data row4 col1\" >New Jersey</td> \n",
       "        <td id=\"T_836dced2_a80f_11eb_9c19_0242ac120002row4_col2\" class=\"data row4 col2\" >34.6</td> \n",
       "        <td id=\"T_836dced2_a80f_11eb_9c19_0242ac120002row4_col3\" class=\"data row4 col3\" >138040</td> \n",
       "        <td id=\"T_836dced2_a80f_11eb_9c19_0242ac120002row4_col4\" class=\"data row4 col4\" >143873</td> \n",
       "        <td id=\"T_836dced2_a80f_11eb_9c19_0242ac120002row4_col5\" class=\"data row4 col5\" >281913</td> \n",
       "        <td id=\"T_836dced2_a80f_11eb_9c19_0242ac120002row4_col6\" class=\"data row4 col6\" >5829</td> \n",
       "        <td id=\"T_836dced2_a80f_11eb_9c19_0242ac120002row4_col7\" class=\"data row4 col7\" >86253</td> \n",
       "        <td id=\"T_836dced2_a80f_11eb_9c19_0242ac120002row4_col8\" class=\"data row4 col8\" >2.73</td> \n",
       "        <td id=\"T_836dced2_a80f_11eb_9c19_0242ac120002row4_col9\" class=\"data row4 col9\" >NJ</td> \n",
       "        <td id=\"T_836dced2_a80f_11eb_9c19_0242ac120002row4_col10\" class=\"data row4 col10\" >White</td> \n",
       "        <td id=\"T_836dced2_a80f_11eb_9c19_0242ac120002row4_col11\" class=\"data row4 col11\" >76402</td> \n",
       "    </tr></tbody> \n",
       "</table> "
      ],
      "text/plain": [
       "<pandas.io.formats.style.Styler at 0x7f329ec6fac8>"
      ]
     },
     "execution_count": 8,
     "metadata": {},
     "output_type": "execute_result"
    }
   ],
   "source": [
    "demographic_df = pd.read_csv('us-cities-demographics.csv',delimiter=';')\n",
    "demographic_df.head().style.hide_index()"
   ]
  },
  {
   "cell_type": "code",
   "execution_count": 9,
   "metadata": {},
   "outputs": [
    {
     "name": "stdout",
     "output_type": "stream",
     "text": [
      "The demographic data set contains 2891 rows and 12 columns\n"
     ]
    }
   ],
   "source": [
    "print(f'The demographic data set contains {demographic_df.shape[0]} rows and {demographic_df.shape[1]} columns')"
   ]
  },
  {
   "cell_type": "code",
   "execution_count": 10,
   "metadata": {},
   "outputs": [
    {
     "data": {
      "text/html": [
       "<style  type=\"text/css\" >\n",
       "</style>  \n",
       "<table id=\"T_842ff458_a80f_11eb_9c19_0242ac120002\" > \n",
       "<thead>    <tr> \n",
       "        <th class=\"col_heading level0 col0\" >Column_Names</th> \n",
       "    </tr></thead> \n",
       "<tbody>    <tr> \n",
       "        <td id=\"T_842ff458_a80f_11eb_9c19_0242ac120002row0_col0\" class=\"data row0 col0\" >City</td> \n",
       "    </tr>    <tr> \n",
       "        <td id=\"T_842ff458_a80f_11eb_9c19_0242ac120002row1_col0\" class=\"data row1 col0\" >State</td> \n",
       "    </tr>    <tr> \n",
       "        <td id=\"T_842ff458_a80f_11eb_9c19_0242ac120002row2_col0\" class=\"data row2 col0\" >Median Age</td> \n",
       "    </tr>    <tr> \n",
       "        <td id=\"T_842ff458_a80f_11eb_9c19_0242ac120002row3_col0\" class=\"data row3 col0\" >Male Population</td> \n",
       "    </tr>    <tr> \n",
       "        <td id=\"T_842ff458_a80f_11eb_9c19_0242ac120002row4_col0\" class=\"data row4 col0\" >Female Population</td> \n",
       "    </tr>    <tr> \n",
       "        <td id=\"T_842ff458_a80f_11eb_9c19_0242ac120002row5_col0\" class=\"data row5 col0\" >Total Population</td> \n",
       "    </tr>    <tr> \n",
       "        <td id=\"T_842ff458_a80f_11eb_9c19_0242ac120002row6_col0\" class=\"data row6 col0\" >Number of Veterans</td> \n",
       "    </tr>    <tr> \n",
       "        <td id=\"T_842ff458_a80f_11eb_9c19_0242ac120002row7_col0\" class=\"data row7 col0\" >Foreign-born</td> \n",
       "    </tr>    <tr> \n",
       "        <td id=\"T_842ff458_a80f_11eb_9c19_0242ac120002row8_col0\" class=\"data row8 col0\" >Average Household Size</td> \n",
       "    </tr>    <tr> \n",
       "        <td id=\"T_842ff458_a80f_11eb_9c19_0242ac120002row9_col0\" class=\"data row9 col0\" >State Code</td> \n",
       "    </tr>    <tr> \n",
       "        <td id=\"T_842ff458_a80f_11eb_9c19_0242ac120002row10_col0\" class=\"data row10 col0\" >Race</td> \n",
       "    </tr>    <tr> \n",
       "        <td id=\"T_842ff458_a80f_11eb_9c19_0242ac120002row11_col0\" class=\"data row11 col0\" >Count</td> \n",
       "    </tr></tbody> \n",
       "</table> "
      ],
      "text/plain": [
       "<pandas.io.formats.style.Styler at 0x7f329f7a4828>"
      ]
     },
     "execution_count": 10,
     "metadata": {},
     "output_type": "execute_result"
    }
   ],
   "source": [
    "pd.DataFrame(demographic_df.columns, columns=['Column_Names']).style.hide_index()"
   ]
  },
  {
   "cell_type": "markdown",
   "metadata": {},
   "source": [
    "#### Airport data"
   ]
  },
  {
   "cell_type": "code",
   "execution_count": 11,
   "metadata": {},
   "outputs": [
    {
     "data": {
      "text/html": [
       "<style  type=\"text/css\" >\n",
       "</style>  \n",
       "<table id=\"T_85063c84_a80f_11eb_9c19_0242ac120002\" > \n",
       "<thead>    <tr> \n",
       "        <th class=\"col_heading level0 col0\" >ident</th> \n",
       "        <th class=\"col_heading level0 col1\" >type</th> \n",
       "        <th class=\"col_heading level0 col2\" >name</th> \n",
       "        <th class=\"col_heading level0 col3\" >elevation_ft</th> \n",
       "        <th class=\"col_heading level0 col4\" >continent</th> \n",
       "        <th class=\"col_heading level0 col5\" >iso_country</th> \n",
       "        <th class=\"col_heading level0 col6\" >iso_region</th> \n",
       "        <th class=\"col_heading level0 col7\" >municipality</th> \n",
       "        <th class=\"col_heading level0 col8\" >gps_code</th> \n",
       "        <th class=\"col_heading level0 col9\" >iata_code</th> \n",
       "        <th class=\"col_heading level0 col10\" >local_code</th> \n",
       "        <th class=\"col_heading level0 col11\" >coordinates</th> \n",
       "    </tr></thead> \n",
       "<tbody>    <tr> \n",
       "        <td id=\"T_85063c84_a80f_11eb_9c19_0242ac120002row0_col0\" class=\"data row0 col0\" >00A</td> \n",
       "        <td id=\"T_85063c84_a80f_11eb_9c19_0242ac120002row0_col1\" class=\"data row0 col1\" >heliport</td> \n",
       "        <td id=\"T_85063c84_a80f_11eb_9c19_0242ac120002row0_col2\" class=\"data row0 col2\" >Total Rf Heliport</td> \n",
       "        <td id=\"T_85063c84_a80f_11eb_9c19_0242ac120002row0_col3\" class=\"data row0 col3\" >11</td> \n",
       "        <td id=\"T_85063c84_a80f_11eb_9c19_0242ac120002row0_col4\" class=\"data row0 col4\" >nan</td> \n",
       "        <td id=\"T_85063c84_a80f_11eb_9c19_0242ac120002row0_col5\" class=\"data row0 col5\" >US</td> \n",
       "        <td id=\"T_85063c84_a80f_11eb_9c19_0242ac120002row0_col6\" class=\"data row0 col6\" >US-PA</td> \n",
       "        <td id=\"T_85063c84_a80f_11eb_9c19_0242ac120002row0_col7\" class=\"data row0 col7\" >Bensalem</td> \n",
       "        <td id=\"T_85063c84_a80f_11eb_9c19_0242ac120002row0_col8\" class=\"data row0 col8\" >00A</td> \n",
       "        <td id=\"T_85063c84_a80f_11eb_9c19_0242ac120002row0_col9\" class=\"data row0 col9\" >nan</td> \n",
       "        <td id=\"T_85063c84_a80f_11eb_9c19_0242ac120002row0_col10\" class=\"data row0 col10\" >00A</td> \n",
       "        <td id=\"T_85063c84_a80f_11eb_9c19_0242ac120002row0_col11\" class=\"data row0 col11\" >-74.93360137939453, 40.07080078125</td> \n",
       "    </tr>    <tr> \n",
       "        <td id=\"T_85063c84_a80f_11eb_9c19_0242ac120002row1_col0\" class=\"data row1 col0\" >00AA</td> \n",
       "        <td id=\"T_85063c84_a80f_11eb_9c19_0242ac120002row1_col1\" class=\"data row1 col1\" >small_airport</td> \n",
       "        <td id=\"T_85063c84_a80f_11eb_9c19_0242ac120002row1_col2\" class=\"data row1 col2\" >Aero B Ranch Airport</td> \n",
       "        <td id=\"T_85063c84_a80f_11eb_9c19_0242ac120002row1_col3\" class=\"data row1 col3\" >3435</td> \n",
       "        <td id=\"T_85063c84_a80f_11eb_9c19_0242ac120002row1_col4\" class=\"data row1 col4\" >nan</td> \n",
       "        <td id=\"T_85063c84_a80f_11eb_9c19_0242ac120002row1_col5\" class=\"data row1 col5\" >US</td> \n",
       "        <td id=\"T_85063c84_a80f_11eb_9c19_0242ac120002row1_col6\" class=\"data row1 col6\" >US-KS</td> \n",
       "        <td id=\"T_85063c84_a80f_11eb_9c19_0242ac120002row1_col7\" class=\"data row1 col7\" >Leoti</td> \n",
       "        <td id=\"T_85063c84_a80f_11eb_9c19_0242ac120002row1_col8\" class=\"data row1 col8\" >00AA</td> \n",
       "        <td id=\"T_85063c84_a80f_11eb_9c19_0242ac120002row1_col9\" class=\"data row1 col9\" >nan</td> \n",
       "        <td id=\"T_85063c84_a80f_11eb_9c19_0242ac120002row1_col10\" class=\"data row1 col10\" >00AA</td> \n",
       "        <td id=\"T_85063c84_a80f_11eb_9c19_0242ac120002row1_col11\" class=\"data row1 col11\" >-101.473911, 38.704022</td> \n",
       "    </tr>    <tr> \n",
       "        <td id=\"T_85063c84_a80f_11eb_9c19_0242ac120002row2_col0\" class=\"data row2 col0\" >00AK</td> \n",
       "        <td id=\"T_85063c84_a80f_11eb_9c19_0242ac120002row2_col1\" class=\"data row2 col1\" >small_airport</td> \n",
       "        <td id=\"T_85063c84_a80f_11eb_9c19_0242ac120002row2_col2\" class=\"data row2 col2\" >Lowell Field</td> \n",
       "        <td id=\"T_85063c84_a80f_11eb_9c19_0242ac120002row2_col3\" class=\"data row2 col3\" >450</td> \n",
       "        <td id=\"T_85063c84_a80f_11eb_9c19_0242ac120002row2_col4\" class=\"data row2 col4\" >nan</td> \n",
       "        <td id=\"T_85063c84_a80f_11eb_9c19_0242ac120002row2_col5\" class=\"data row2 col5\" >US</td> \n",
       "        <td id=\"T_85063c84_a80f_11eb_9c19_0242ac120002row2_col6\" class=\"data row2 col6\" >US-AK</td> \n",
       "        <td id=\"T_85063c84_a80f_11eb_9c19_0242ac120002row2_col7\" class=\"data row2 col7\" >Anchor Point</td> \n",
       "        <td id=\"T_85063c84_a80f_11eb_9c19_0242ac120002row2_col8\" class=\"data row2 col8\" >00AK</td> \n",
       "        <td id=\"T_85063c84_a80f_11eb_9c19_0242ac120002row2_col9\" class=\"data row2 col9\" >nan</td> \n",
       "        <td id=\"T_85063c84_a80f_11eb_9c19_0242ac120002row2_col10\" class=\"data row2 col10\" >00AK</td> \n",
       "        <td id=\"T_85063c84_a80f_11eb_9c19_0242ac120002row2_col11\" class=\"data row2 col11\" >-151.695999146, 59.94919968</td> \n",
       "    </tr></tbody> \n",
       "</table> "
      ],
      "text/plain": [
       "<pandas.io.formats.style.Styler at 0x7f329d81c630>"
      ]
     },
     "execution_count": 11,
     "metadata": {},
     "output_type": "execute_result"
    }
   ],
   "source": [
    "airport_df = pd.read_csv('airport-codes_csv.csv')\n",
    "airport_df.head(3).style.hide_index()\n"
   ]
  },
  {
   "cell_type": "code",
   "execution_count": 12,
   "metadata": {},
   "outputs": [
    {
     "name": "stdout",
     "output_type": "stream",
     "text": [
      "The airport data set contains 55075 rows and 12 columns\n"
     ]
    }
   ],
   "source": [
    "print(f'The airport data set contains {airport_df.shape[0]} rows and {airport_df.shape[1]} columns')"
   ]
  },
  {
   "cell_type": "code",
   "execution_count": 13,
   "metadata": {},
   "outputs": [
    {
     "data": {
      "text/html": [
       "<style  type=\"text/css\" >\n",
       "</style>  \n",
       "<table id=\"T_859e6446_a80f_11eb_9c19_0242ac120002\" > \n",
       "<thead>    <tr> \n",
       "        <th class=\"col_heading level0 col0\" >Column_Names</th> \n",
       "    </tr></thead> \n",
       "<tbody>    <tr> \n",
       "        <td id=\"T_859e6446_a80f_11eb_9c19_0242ac120002row0_col0\" class=\"data row0 col0\" >ident</td> \n",
       "    </tr>    <tr> \n",
       "        <td id=\"T_859e6446_a80f_11eb_9c19_0242ac120002row1_col0\" class=\"data row1 col0\" >type</td> \n",
       "    </tr>    <tr> \n",
       "        <td id=\"T_859e6446_a80f_11eb_9c19_0242ac120002row2_col0\" class=\"data row2 col0\" >name</td> \n",
       "    </tr>    <tr> \n",
       "        <td id=\"T_859e6446_a80f_11eb_9c19_0242ac120002row3_col0\" class=\"data row3 col0\" >elevation_ft</td> \n",
       "    </tr>    <tr> \n",
       "        <td id=\"T_859e6446_a80f_11eb_9c19_0242ac120002row4_col0\" class=\"data row4 col0\" >continent</td> \n",
       "    </tr>    <tr> \n",
       "        <td id=\"T_859e6446_a80f_11eb_9c19_0242ac120002row5_col0\" class=\"data row5 col0\" >iso_country</td> \n",
       "    </tr>    <tr> \n",
       "        <td id=\"T_859e6446_a80f_11eb_9c19_0242ac120002row6_col0\" class=\"data row6 col0\" >iso_region</td> \n",
       "    </tr>    <tr> \n",
       "        <td id=\"T_859e6446_a80f_11eb_9c19_0242ac120002row7_col0\" class=\"data row7 col0\" >municipality</td> \n",
       "    </tr>    <tr> \n",
       "        <td id=\"T_859e6446_a80f_11eb_9c19_0242ac120002row8_col0\" class=\"data row8 col0\" >gps_code</td> \n",
       "    </tr>    <tr> \n",
       "        <td id=\"T_859e6446_a80f_11eb_9c19_0242ac120002row9_col0\" class=\"data row9 col0\" >iata_code</td> \n",
       "    </tr>    <tr> \n",
       "        <td id=\"T_859e6446_a80f_11eb_9c19_0242ac120002row10_col0\" class=\"data row10 col0\" >local_code</td> \n",
       "    </tr>    <tr> \n",
       "        <td id=\"T_859e6446_a80f_11eb_9c19_0242ac120002row11_col0\" class=\"data row11 col0\" >coordinates</td> \n",
       "    </tr></tbody> \n",
       "</table> "
      ],
      "text/plain": [
       "<pandas.io.formats.style.Styler at 0x7f329d81c6d8>"
      ]
     },
     "execution_count": 13,
     "metadata": {},
     "output_type": "execute_result"
    }
   ],
   "source": [
    "pd.DataFrame(airport_df.columns, columns=['Column_Names']).style.hide_index()"
   ]
  },
  {
   "cell_type": "markdown",
   "metadata": {},
   "source": [
    "#### World Temperature Data"
   ]
  },
  {
   "cell_type": "code",
   "execution_count": 14,
   "metadata": {},
   "outputs": [
    {
     "data": {
      "text/html": [
       "<style  type=\"text/css\" >\n",
       "</style>  \n",
       "<table id=\"T_8ca3bfde_a80f_11eb_9c19_0242ac120002\" > \n",
       "<thead>    <tr> \n",
       "        <th class=\"col_heading level0 col0\" >dt</th> \n",
       "        <th class=\"col_heading level0 col1\" >AverageTemperature</th> \n",
       "        <th class=\"col_heading level0 col2\" >AverageTemperatureUncertainty</th> \n",
       "        <th class=\"col_heading level0 col3\" >City</th> \n",
       "        <th class=\"col_heading level0 col4\" >Country</th> \n",
       "        <th class=\"col_heading level0 col5\" >Latitude</th> \n",
       "        <th class=\"col_heading level0 col6\" >Longitude</th> \n",
       "    </tr></thead> \n",
       "<tbody>    <tr> \n",
       "        <td id=\"T_8ca3bfde_a80f_11eb_9c19_0242ac120002row0_col0\" class=\"data row0 col0\" >1743-11-01</td> \n",
       "        <td id=\"T_8ca3bfde_a80f_11eb_9c19_0242ac120002row0_col1\" class=\"data row0 col1\" >6.068</td> \n",
       "        <td id=\"T_8ca3bfde_a80f_11eb_9c19_0242ac120002row0_col2\" class=\"data row0 col2\" >1.737</td> \n",
       "        <td id=\"T_8ca3bfde_a80f_11eb_9c19_0242ac120002row0_col3\" class=\"data row0 col3\" >Århus</td> \n",
       "        <td id=\"T_8ca3bfde_a80f_11eb_9c19_0242ac120002row0_col4\" class=\"data row0 col4\" >Denmark</td> \n",
       "        <td id=\"T_8ca3bfde_a80f_11eb_9c19_0242ac120002row0_col5\" class=\"data row0 col5\" >57.05N</td> \n",
       "        <td id=\"T_8ca3bfde_a80f_11eb_9c19_0242ac120002row0_col6\" class=\"data row0 col6\" >10.33E</td> \n",
       "    </tr>    <tr> \n",
       "        <td id=\"T_8ca3bfde_a80f_11eb_9c19_0242ac120002row1_col0\" class=\"data row1 col0\" >1743-12-01</td> \n",
       "        <td id=\"T_8ca3bfde_a80f_11eb_9c19_0242ac120002row1_col1\" class=\"data row1 col1\" >nan</td> \n",
       "        <td id=\"T_8ca3bfde_a80f_11eb_9c19_0242ac120002row1_col2\" class=\"data row1 col2\" >nan</td> \n",
       "        <td id=\"T_8ca3bfde_a80f_11eb_9c19_0242ac120002row1_col3\" class=\"data row1 col3\" >Århus</td> \n",
       "        <td id=\"T_8ca3bfde_a80f_11eb_9c19_0242ac120002row1_col4\" class=\"data row1 col4\" >Denmark</td> \n",
       "        <td id=\"T_8ca3bfde_a80f_11eb_9c19_0242ac120002row1_col5\" class=\"data row1 col5\" >57.05N</td> \n",
       "        <td id=\"T_8ca3bfde_a80f_11eb_9c19_0242ac120002row1_col6\" class=\"data row1 col6\" >10.33E</td> \n",
       "    </tr>    <tr> \n",
       "        <td id=\"T_8ca3bfde_a80f_11eb_9c19_0242ac120002row2_col0\" class=\"data row2 col0\" >1744-01-01</td> \n",
       "        <td id=\"T_8ca3bfde_a80f_11eb_9c19_0242ac120002row2_col1\" class=\"data row2 col1\" >nan</td> \n",
       "        <td id=\"T_8ca3bfde_a80f_11eb_9c19_0242ac120002row2_col2\" class=\"data row2 col2\" >nan</td> \n",
       "        <td id=\"T_8ca3bfde_a80f_11eb_9c19_0242ac120002row2_col3\" class=\"data row2 col3\" >Århus</td> \n",
       "        <td id=\"T_8ca3bfde_a80f_11eb_9c19_0242ac120002row2_col4\" class=\"data row2 col4\" >Denmark</td> \n",
       "        <td id=\"T_8ca3bfde_a80f_11eb_9c19_0242ac120002row2_col5\" class=\"data row2 col5\" >57.05N</td> \n",
       "        <td id=\"T_8ca3bfde_a80f_11eb_9c19_0242ac120002row2_col6\" class=\"data row2 col6\" >10.33E</td> \n",
       "    </tr>    <tr> \n",
       "        <td id=\"T_8ca3bfde_a80f_11eb_9c19_0242ac120002row3_col0\" class=\"data row3 col0\" >1744-02-01</td> \n",
       "        <td id=\"T_8ca3bfde_a80f_11eb_9c19_0242ac120002row3_col1\" class=\"data row3 col1\" >nan</td> \n",
       "        <td id=\"T_8ca3bfde_a80f_11eb_9c19_0242ac120002row3_col2\" class=\"data row3 col2\" >nan</td> \n",
       "        <td id=\"T_8ca3bfde_a80f_11eb_9c19_0242ac120002row3_col3\" class=\"data row3 col3\" >Århus</td> \n",
       "        <td id=\"T_8ca3bfde_a80f_11eb_9c19_0242ac120002row3_col4\" class=\"data row3 col4\" >Denmark</td> \n",
       "        <td id=\"T_8ca3bfde_a80f_11eb_9c19_0242ac120002row3_col5\" class=\"data row3 col5\" >57.05N</td> \n",
       "        <td id=\"T_8ca3bfde_a80f_11eb_9c19_0242ac120002row3_col6\" class=\"data row3 col6\" >10.33E</td> \n",
       "    </tr>    <tr> \n",
       "        <td id=\"T_8ca3bfde_a80f_11eb_9c19_0242ac120002row4_col0\" class=\"data row4 col0\" >1744-03-01</td> \n",
       "        <td id=\"T_8ca3bfde_a80f_11eb_9c19_0242ac120002row4_col1\" class=\"data row4 col1\" >nan</td> \n",
       "        <td id=\"T_8ca3bfde_a80f_11eb_9c19_0242ac120002row4_col2\" class=\"data row4 col2\" >nan</td> \n",
       "        <td id=\"T_8ca3bfde_a80f_11eb_9c19_0242ac120002row4_col3\" class=\"data row4 col3\" >Århus</td> \n",
       "        <td id=\"T_8ca3bfde_a80f_11eb_9c19_0242ac120002row4_col4\" class=\"data row4 col4\" >Denmark</td> \n",
       "        <td id=\"T_8ca3bfde_a80f_11eb_9c19_0242ac120002row4_col5\" class=\"data row4 col5\" >57.05N</td> \n",
       "        <td id=\"T_8ca3bfde_a80f_11eb_9c19_0242ac120002row4_col6\" class=\"data row4 col6\" >10.33E</td> \n",
       "    </tr></tbody> \n",
       "</table> "
      ],
      "text/plain": [
       "<pandas.io.formats.style.Styler at 0x7f329b6818d0>"
      ]
     },
     "execution_count": 14,
     "metadata": {},
     "output_type": "execute_result"
    }
   ],
   "source": [
    "\n",
    "fname = '../../data2/GlobalLandTemperaturesByCity.csv'\n",
    "temperature_df = pd.read_csv(fname)\n",
    "temperature_df.head().style.hide_index()"
   ]
  },
  {
   "cell_type": "code",
   "execution_count": 15,
   "metadata": {},
   "outputs": [
    {
     "name": "stdout",
     "output_type": "stream",
     "text": [
      "The temperature data set contains 8599212 rows and 7 columns\n"
     ]
    }
   ],
   "source": [
    "print(f'The temperature data set contains {temperature_df.shape[0]} rows and {temperature_df.shape[1]} columns')"
   ]
  },
  {
   "cell_type": "code",
   "execution_count": 15,
   "metadata": {},
   "outputs": [
    {
     "data": {
      "text/html": [
       "<style  type=\"text/css\" >\n",
       "</style>  \n",
       "<table id=\"T_8fc151e0_a80f_11eb_9c19_0242ac120002\" > \n",
       "<thead>    <tr> \n",
       "        <th class=\"col_heading level0 col0\" >Column_Names</th> \n",
       "    </tr></thead> \n",
       "<tbody>    <tr> \n",
       "        <td id=\"T_8fc151e0_a80f_11eb_9c19_0242ac120002row0_col0\" class=\"data row0 col0\" >dt</td> \n",
       "    </tr>    <tr> \n",
       "        <td id=\"T_8fc151e0_a80f_11eb_9c19_0242ac120002row1_col0\" class=\"data row1 col0\" >AverageTemperature</td> \n",
       "    </tr>    <tr> \n",
       "        <td id=\"T_8fc151e0_a80f_11eb_9c19_0242ac120002row2_col0\" class=\"data row2 col0\" >AverageTemperatureUncertainty</td> \n",
       "    </tr>    <tr> \n",
       "        <td id=\"T_8fc151e0_a80f_11eb_9c19_0242ac120002row3_col0\" class=\"data row3 col0\" >City</td> \n",
       "    </tr>    <tr> \n",
       "        <td id=\"T_8fc151e0_a80f_11eb_9c19_0242ac120002row4_col0\" class=\"data row4 col0\" >Country</td> \n",
       "    </tr>    <tr> \n",
       "        <td id=\"T_8fc151e0_a80f_11eb_9c19_0242ac120002row5_col0\" class=\"data row5 col0\" >Latitude</td> \n",
       "    </tr>    <tr> \n",
       "        <td id=\"T_8fc151e0_a80f_11eb_9c19_0242ac120002row6_col0\" class=\"data row6 col0\" >Longitude</td> \n",
       "    </tr></tbody> \n",
       "</table> "
      ],
      "text/plain": [
       "<pandas.io.formats.style.Styler at 0x7f329b681b70>"
      ]
     },
     "execution_count": 15,
     "metadata": {},
     "output_type": "execute_result"
    }
   ],
   "source": [
    "pd.DataFrame(temperature_df.columns, columns=['Column_Names']).style.hide_index()"
   ]
  },
  {
   "cell_type": "markdown",
   "metadata": {},
   "source": [
    "#### Full Immigration data set"
   ]
  },
  {
   "cell_type": "code",
   "execution_count": 16,
   "metadata": {},
   "outputs": [],
   "source": [
    "from pyspark.sql import SparkSession\n",
    "spark = SparkSession.builder.\\\n",
    "config(\"spark.jars.packages\",\"saurfang:spark-sas7bdat:2.0.0-s_2.11\")\\\n",
    ".enableHiveSupport().getOrCreate()\n",
    "df_spark =spark.read.format('com.github.saurfang.sas.spark').load('../../data/18-83510-I94-Data-2016/i94_apr16_sub.sas7bdat')\n"
   ]
  },
  {
   "cell_type": "code",
   "execution_count": 18,
   "metadata": {},
   "outputs": [
    {
     "name": "stdout",
     "output_type": "stream",
     "text": [
      "The Full Immigration Dataset has 3096313 rows and 28 columns\n"
     ]
    }
   ],
   "source": [
    "print(f'The Full Immigration Dataset has {df_spark.count()} rows and {len(df_spark.columns)} columns')"
   ]
  },
  {
   "cell_type": "code",
   "execution_count": 17,
   "metadata": {},
   "outputs": [
    {
     "name": "stdout",
     "output_type": "stream",
     "text": [
      "root\n",
      " |-- cicid: double (nullable = true)\n",
      " |-- i94yr: double (nullable = true)\n",
      " |-- i94mon: double (nullable = true)\n",
      " |-- i94cit: double (nullable = true)\n",
      " |-- i94res: double (nullable = true)\n",
      " |-- i94port: string (nullable = true)\n",
      " |-- arrdate: double (nullable = true)\n",
      " |-- i94mode: double (nullable = true)\n",
      " |-- i94addr: string (nullable = true)\n",
      " |-- depdate: double (nullable = true)\n",
      " |-- i94bir: double (nullable = true)\n",
      " |-- i94visa: double (nullable = true)\n",
      " |-- count: double (nullable = true)\n",
      " |-- dtadfile: string (nullable = true)\n",
      " |-- visapost: string (nullable = true)\n",
      " |-- occup: string (nullable = true)\n",
      " |-- entdepa: string (nullable = true)\n",
      " |-- entdepd: string (nullable = true)\n",
      " |-- entdepu: string (nullable = true)\n",
      " |-- matflag: string (nullable = true)\n",
      " |-- biryear: double (nullable = true)\n",
      " |-- dtaddto: string (nullable = true)\n",
      " |-- gender: string (nullable = true)\n",
      " |-- insnum: string (nullable = true)\n",
      " |-- airline: string (nullable = true)\n",
      " |-- admnum: double (nullable = true)\n",
      " |-- fltno: string (nullable = true)\n",
      " |-- visatype: string (nullable = true)\n",
      "\n"
     ]
    }
   ],
   "source": [
    "df_spark.printSchema()"
   ]
  },
  {
   "cell_type": "code",
   "execution_count": null,
   "metadata": {},
   "outputs": [],
   "source": [
    "#write to parquet\n",
    "df_spark.write.parquet(\"sas_data\")\n",
    "df_spark=spark.read.parquet(\"sas_data\")"
   ]
  },
  {
   "cell_type": "markdown",
   "metadata": {},
   "source": [
    "### Step 2: Explore and Assess the Data\n",
    "\n",
    "#### Temperature Dataset"
   ]
  },
  {
   "cell_type": "code",
   "execution_count": 19,
   "metadata": {},
   "outputs": [
    {
     "name": "stdout",
     "output_type": "stream",
     "text": [
      "The temperature data set contains 8599212 rows and 7 columns\n"
     ]
    }
   ],
   "source": [
    "print(f'The temperature data set contains {temperature_df.shape[0]} rows and {temperature_df.shape[1]} columns')\n",
    "\n",
    "\n",
    "\n"
   ]
  },
  {
   "cell_type": "code",
   "execution_count": 20,
   "metadata": {},
   "outputs": [
    {
     "name": "stdout",
     "output_type": "stream",
     "text": [
      "<class 'pandas.core.frame.DataFrame'>\n",
      "RangeIndex: 8599212 entries, 0 to 8599211\n",
      "Data columns (total 7 columns):\n",
      "dt                               object\n",
      "AverageTemperature               float64\n",
      "AverageTemperatureUncertainty    float64\n",
      "City                             object\n",
      "Country                          object\n",
      "Latitude                         object\n",
      "Longitude                        object\n",
      "dtypes: float64(2), object(5)\n",
      "memory usage: 459.2+ MB\n"
     ]
    }
   ],
   "source": [
    "temperature_df.info()"
   ]
  },
  {
   "cell_type": "markdown",
   "metadata": {},
   "source": [
    "<i>The <b>dt</b> column will need to be converted from string to datetime.</i>"
   ]
  },
  {
   "cell_type": "code",
   "execution_count": 21,
   "metadata": {},
   "outputs": [],
   "source": [
    "temperature_df['convertedDate'] = pd.to_datetime(temperature_df.dt)"
   ]
  },
  {
   "cell_type": "code",
   "execution_count": 22,
   "metadata": {},
   "outputs": [
    {
     "data": {
      "text/html": [
       "<div>\n",
       "<style scoped>\n",
       "    .dataframe tbody tr th:only-of-type {\n",
       "        vertical-align: middle;\n",
       "    }\n",
       "\n",
       "    .dataframe tbody tr th {\n",
       "        vertical-align: top;\n",
       "    }\n",
       "\n",
       "    .dataframe thead th {\n",
       "        text-align: right;\n",
       "    }\n",
       "</style>\n",
       "<table border=\"1\" class=\"dataframe\">\n",
       "  <thead>\n",
       "    <tr style=\"text-align: right;\">\n",
       "      <th></th>\n",
       "      <th>dt</th>\n",
       "      <th>AverageTemperature</th>\n",
       "      <th>AverageTemperatureUncertainty</th>\n",
       "      <th>City</th>\n",
       "      <th>Country</th>\n",
       "      <th>Latitude</th>\n",
       "      <th>Longitude</th>\n",
       "      <th>convertedDate</th>\n",
       "    </tr>\n",
       "  </thead>\n",
       "  <tbody>\n",
       "    <tr>\n",
       "      <th>0</th>\n",
       "      <td>1743-11-01</td>\n",
       "      <td>6.068</td>\n",
       "      <td>1.737</td>\n",
       "      <td>Århus</td>\n",
       "      <td>Denmark</td>\n",
       "      <td>57.05N</td>\n",
       "      <td>10.33E</td>\n",
       "      <td>1743-11-01</td>\n",
       "    </tr>\n",
       "    <tr>\n",
       "      <th>1</th>\n",
       "      <td>1743-12-01</td>\n",
       "      <td>NaN</td>\n",
       "      <td>NaN</td>\n",
       "      <td>Århus</td>\n",
       "      <td>Denmark</td>\n",
       "      <td>57.05N</td>\n",
       "      <td>10.33E</td>\n",
       "      <td>1743-12-01</td>\n",
       "    </tr>\n",
       "    <tr>\n",
       "      <th>2</th>\n",
       "      <td>1744-01-01</td>\n",
       "      <td>NaN</td>\n",
       "      <td>NaN</td>\n",
       "      <td>Århus</td>\n",
       "      <td>Denmark</td>\n",
       "      <td>57.05N</td>\n",
       "      <td>10.33E</td>\n",
       "      <td>1744-01-01</td>\n",
       "    </tr>\n",
       "  </tbody>\n",
       "</table>\n",
       "</div>"
      ],
      "text/plain": [
       "           dt  AverageTemperature  AverageTemperatureUncertainty   City  \\\n",
       "0  1743-11-01               6.068                          1.737  Århus   \n",
       "1  1743-12-01                 NaN                            NaN  Århus   \n",
       "2  1744-01-01                 NaN                            NaN  Århus   \n",
       "\n",
       "   Country Latitude Longitude convertedDate  \n",
       "0  Denmark   57.05N    10.33E    1743-11-01  \n",
       "1  Denmark   57.05N    10.33E    1743-12-01  \n",
       "2  Denmark   57.05N    10.33E    1744-01-01  "
      ]
     },
     "execution_count": 22,
     "metadata": {},
     "output_type": "execute_result"
    }
   ],
   "source": [
    "temperature_df.head(3)"
   ]
  },
  {
   "cell_type": "code",
   "execution_count": 23,
   "metadata": {},
   "outputs": [
    {
     "data": {
      "text/plain": [
       "count                 8599212\n",
       "unique                   3239\n",
       "top       1939-11-01 00:00:00\n",
       "freq                     3510\n",
       "first     1743-11-01 00:00:00\n",
       "last      2013-09-01 00:00:00\n",
       "Name: convertedDate, dtype: object"
      ]
     },
     "execution_count": 23,
     "metadata": {},
     "output_type": "execute_result"
    }
   ],
   "source": [
    "temperature_df.convertedDate.describe()"
   ]
  },
  {
   "cell_type": "code",
   "execution_count": 24,
   "metadata": {},
   "outputs": [
    {
     "name": "stdout",
     "output_type": "stream",
     "text": [
      " The temperature dataframe includes data for 159 countries; however, we will be only analyzing a substet of the data which only inlcudes the United States\n"
     ]
    }
   ],
   "source": [
    "print(f' The temperature dataframe includes data for {len(temperature_df.Country.unique())} countries; however, we will be only analyzing a substet of the data which only inlcudes the United States')"
   ]
  },
  {
   "cell_type": "code",
   "execution_count": 25,
   "metadata": {},
   "outputs": [
    {
     "name": "stdout",
     "output_type": "stream",
     "text": [
      "In addition we can see that the earliest date in the dataframe is 1743-11-01 00:00:00 which is before air travel even developed; therefore we can subset temperature_df further more\n"
     ]
    }
   ],
   "source": [
    "print(f'In addition we can see that the earliest date in the dataframe is {temperature_df.convertedDate.describe()[4]} which is before air travel even developed; therefore we can subset temperature_df further more')"
   ]
  },
  {
   "cell_type": "code",
   "execution_count": 26,
   "metadata": {},
   "outputs": [],
   "source": [
    "temperature_df= temperature_df[(temperature_df['convertedDate']>\"1950-01-01\") &(temperature_df['Country']=='United States')]"
   ]
  },
  {
   "cell_type": "code",
   "execution_count": 27,
   "metadata": {},
   "outputs": [
    {
     "name": "stdout",
     "output_type": "stream",
     "text": [
      "The temperature data set contains 196348 rows and 8 columns\n"
     ]
    }
   ],
   "source": [
    "print(f'The temperature data set contains {temperature_df.shape[0]} rows and {temperature_df.shape[1]} columns')\n"
   ]
  },
  {
   "cell_type": "code",
   "execution_count": 28,
   "metadata": {},
   "outputs": [
    {
     "data": {
      "text/plain": [
       "count                  196348\n",
       "unique                    764\n",
       "top       1964-12-01 00:00:00\n",
       "freq                      257\n",
       "first     1950-02-01 00:00:00\n",
       "last      2013-09-01 00:00:00\n",
       "Name: convertedDate, dtype: object"
      ]
     },
     "execution_count": 28,
     "metadata": {},
     "output_type": "execute_result"
    }
   ],
   "source": [
    "temperature_df.convertedDate.describe()"
   ]
  },
  {
   "cell_type": "markdown",
   "metadata": {},
   "source": [
    "<i> Max date in timeframe_df is <b>2013-09-01</b>,thus it will not possible to join timeframe_df with immigration data.</i>"
   ]
  },
  {
   "cell_type": "markdown",
   "metadata": {},
   "source": [
    "#### Checking for missing data"
   ]
  },
  {
   "cell_type": "code",
   "execution_count": 30,
   "metadata": {},
   "outputs": [
    {
     "data": {
      "text/plain": [
       "<matplotlib.axes._subplots.AxesSubplot at 0x7f901cc4aba8>"
      ]
     },
     "execution_count": 30,
     "metadata": {},
     "output_type": "execute_result"
    },
    {
     "data": {
      "image/png": "[encoded data removed]",
      "text/plain": [
       "<matplotlib.figure.Figure at 0x7f901d7cdd68>"
      ]
     },
     "metadata": {
      "needs_background": "light"
     },
     "output_type": "display_data"
    }
   ],
   "source": [
    "sns.heatmap(temperature_df.isnull(), cbar=False)"
   ]
  },
  {
   "cell_type": "code",
   "execution_count": 31,
   "metadata": {},
   "outputs": [
    {
     "data": {
      "text/plain": [
       "dt                               False\n",
       "AverageTemperature                True\n",
       "AverageTemperatureUncertainty     True\n",
       "City                             False\n",
       "Country                          False\n",
       "Latitude                         False\n",
       "Longitude                        False\n",
       "convertedDate                    False\n",
       "dtype: bool"
      ]
     },
     "execution_count": 31,
     "metadata": {},
     "output_type": "execute_result"
    }
   ],
   "source": [
    "temperature_df.isnull().any()\n"
   ]
  },
  {
   "cell_type": "code",
   "execution_count": 32,
   "metadata": {},
   "outputs": [
    {
     "data": {
      "text/html": [
       "<div>\n",
       "<style scoped>\n",
       "    .dataframe tbody tr th:only-of-type {\n",
       "        vertical-align: middle;\n",
       "    }\n",
       "\n",
       "    .dataframe tbody tr th {\n",
       "        vertical-align: top;\n",
       "    }\n",
       "\n",
       "    .dataframe thead th {\n",
       "        text-align: right;\n",
       "    }\n",
       "</style>\n",
       "<table border=\"1\" class=\"dataframe\">\n",
       "  <thead>\n",
       "    <tr style=\"text-align: right;\">\n",
       "      <th></th>\n",
       "      <th>dt</th>\n",
       "      <th>AverageTemperature</th>\n",
       "      <th>AverageTemperatureUncertainty</th>\n",
       "      <th>City</th>\n",
       "      <th>Country</th>\n",
       "      <th>Latitude</th>\n",
       "      <th>Longitude</th>\n",
       "      <th>convertedDate</th>\n",
       "    </tr>\n",
       "  </thead>\n",
       "  <tbody>\n",
       "    <tr>\n",
       "      <th>287781</th>\n",
       "      <td>2013-09-01</td>\n",
       "      <td>NaN</td>\n",
       "      <td>NaN</td>\n",
       "      <td>Anchorage</td>\n",
       "      <td>United States</td>\n",
       "      <td>61.88N</td>\n",
       "      <td>151.13W</td>\n",
       "      <td>2013-09-01</td>\n",
       "    </tr>\n",
       "  </tbody>\n",
       "</table>\n",
       "</div>"
      ],
      "text/plain": [
       "                dt  AverageTemperature  AverageTemperatureUncertainty  \\\n",
       "287781  2013-09-01                 NaN                            NaN   \n",
       "\n",
       "             City        Country Latitude Longitude convertedDate  \n",
       "287781  Anchorage  United States   61.88N   151.13W    2013-09-01  "
      ]
     },
     "execution_count": 32,
     "metadata": {},
     "output_type": "execute_result"
    }
   ],
   "source": [
    "temperature_df.loc[temperature_df.AverageTemperatureUncertainty .isnull()]"
   ]
  },
  {
   "cell_type": "markdown",
   "metadata": {},
   "source": [
    "Null values will not be addressed since temperature_df is not going to be joined immigration data."
   ]
  },
  {
   "cell_type": "code",
   "execution_count": 33,
   "metadata": {},
   "outputs": [
    {
     "data": {
      "text/html": [
       "<div>\n",
       "<style scoped>\n",
       "    .dataframe tbody tr th:only-of-type {\n",
       "        vertical-align: middle;\n",
       "    }\n",
       "\n",
       "    .dataframe tbody tr th {\n",
       "        vertical-align: top;\n",
       "    }\n",
       "\n",
       "    .dataframe thead th {\n",
       "        text-align: right;\n",
       "    }\n",
       "</style>\n",
       "<table border=\"1\" class=\"dataframe\">\n",
       "  <thead>\n",
       "    <tr style=\"text-align: right;\">\n",
       "      <th></th>\n",
       "      <th>count</th>\n",
       "      <th>mean</th>\n",
       "      <th>std</th>\n",
       "      <th>min</th>\n",
       "      <th>25%</th>\n",
       "      <th>50%</th>\n",
       "      <th>75%</th>\n",
       "      <th>max</th>\n",
       "    </tr>\n",
       "    <tr>\n",
       "      <th>City</th>\n",
       "      <th></th>\n",
       "      <th></th>\n",
       "      <th></th>\n",
       "      <th></th>\n",
       "      <th></th>\n",
       "      <th></th>\n",
       "      <th></th>\n",
       "      <th></th>\n",
       "    </tr>\n",
       "  </thead>\n",
       "  <tbody>\n",
       "    <tr>\n",
       "      <th>Abilene</th>\n",
       "      <td>764.0</td>\n",
       "      <td>17.292291</td>\n",
       "      <td>8.222154</td>\n",
       "      <td>0.225</td>\n",
       "      <td>9.81025</td>\n",
       "      <td>17.5615</td>\n",
       "      <td>25.03475</td>\n",
       "      <td>32.110</td>\n",
       "    </tr>\n",
       "    <tr>\n",
       "      <th>Akron</th>\n",
       "      <td>764.0</td>\n",
       "      <td>10.199669</td>\n",
       "      <td>9.211566</td>\n",
       "      <td>-11.416</td>\n",
       "      <td>1.77275</td>\n",
       "      <td>10.3440</td>\n",
       "      <td>19.22900</td>\n",
       "      <td>24.966</td>\n",
       "    </tr>\n",
       "    <tr>\n",
       "      <th>Albuquerque</th>\n",
       "      <td>764.0</td>\n",
       "      <td>11.454635</td>\n",
       "      <td>8.263940</td>\n",
       "      <td>-2.729</td>\n",
       "      <td>4.03425</td>\n",
       "      <td>11.2815</td>\n",
       "      <td>19.58775</td>\n",
       "      <td>25.688</td>\n",
       "    </tr>\n",
       "  </tbody>\n",
       "</table>\n",
       "</div>"
      ],
      "text/plain": [
       "             count       mean       std     min      25%      50%       75%  \\\n",
       "City                                                                          \n",
       "Abilene      764.0  17.292291  8.222154   0.225  9.81025  17.5615  25.03475   \n",
       "Akron        764.0  10.199669  9.211566 -11.416  1.77275  10.3440  19.22900   \n",
       "Albuquerque  764.0  11.454635  8.263940  -2.729  4.03425  11.2815  19.58775   \n",
       "\n",
       "                max  \n",
       "City                 \n",
       "Abilene      32.110  \n",
       "Akron        24.966  \n",
       "Albuquerque  25.688  "
      ]
     },
     "execution_count": 33,
     "metadata": {},
     "output_type": "execute_result"
    }
   ],
   "source": [
    "temperature_df.groupby('City')['AverageTemperature'].describe().head(3)"
   ]
  },
  {
   "cell_type": "markdown",
   "metadata": {},
   "source": [
    "Since each city temperature is recorded multiple times, when creating the dimension table the composite primary key will have to be city and average temperature.\n"
   ]
  },
  {
   "cell_type": "markdown",
   "metadata": {},
   "source": [
    "#### Airport Dataset"
   ]
  },
  {
   "cell_type": "code",
   "execution_count": 34,
   "metadata": {},
   "outputs": [
    {
     "name": "stdout",
     "output_type": "stream",
     "text": [
      "The airport data set contains 55075 rows and 12 columns\n"
     ]
    }
   ],
   "source": [
    "print(f'The airport data set contains {airport_df.shape[0]} rows and {airport_df.shape[1]} columns')"
   ]
  },
  {
   "cell_type": "code",
   "execution_count": 35,
   "metadata": {},
   "outputs": [
    {
     "data": {
      "text/html": [
       "<div>\n",
       "<style scoped>\n",
       "    .dataframe tbody tr th:only-of-type {\n",
       "        vertical-align: middle;\n",
       "    }\n",
       "\n",
       "    .dataframe tbody tr th {\n",
       "        vertical-align: top;\n",
       "    }\n",
       "\n",
       "    .dataframe thead th {\n",
       "        text-align: right;\n",
       "    }\n",
       "</style>\n",
       "<table border=\"1\" class=\"dataframe\">\n",
       "  <thead>\n",
       "    <tr style=\"text-align: right;\">\n",
       "      <th></th>\n",
       "      <th>ident</th>\n",
       "      <th>type</th>\n",
       "      <th>name</th>\n",
       "      <th>elevation_ft</th>\n",
       "      <th>continent</th>\n",
       "      <th>iso_country</th>\n",
       "      <th>iso_region</th>\n",
       "      <th>municipality</th>\n",
       "      <th>gps_code</th>\n",
       "      <th>iata_code</th>\n",
       "      <th>local_code</th>\n",
       "      <th>coordinates</th>\n",
       "    </tr>\n",
       "  </thead>\n",
       "  <tbody>\n",
       "    <tr>\n",
       "      <th>0</th>\n",
       "      <td>00A</td>\n",
       "      <td>heliport</td>\n",
       "      <td>Total Rf Heliport</td>\n",
       "      <td>11.0</td>\n",
       "      <td>NaN</td>\n",
       "      <td>US</td>\n",
       "      <td>US-PA</td>\n",
       "      <td>Bensalem</td>\n",
       "      <td>00A</td>\n",
       "      <td>NaN</td>\n",
       "      <td>00A</td>\n",
       "      <td>-74.93360137939453, 40.07080078125</td>\n",
       "    </tr>\n",
       "    <tr>\n",
       "      <th>1</th>\n",
       "      <td>00AA</td>\n",
       "      <td>small_airport</td>\n",
       "      <td>Aero B Ranch Airport</td>\n",
       "      <td>3435.0</td>\n",
       "      <td>NaN</td>\n",
       "      <td>US</td>\n",
       "      <td>US-KS</td>\n",
       "      <td>Leoti</td>\n",
       "      <td>00AA</td>\n",
       "      <td>NaN</td>\n",
       "      <td>00AA</td>\n",
       "      <td>-101.473911, 38.704022</td>\n",
       "    </tr>\n",
       "    <tr>\n",
       "      <th>2</th>\n",
       "      <td>00AK</td>\n",
       "      <td>small_airport</td>\n",
       "      <td>Lowell Field</td>\n",
       "      <td>450.0</td>\n",
       "      <td>NaN</td>\n",
       "      <td>US</td>\n",
       "      <td>US-AK</td>\n",
       "      <td>Anchor Point</td>\n",
       "      <td>00AK</td>\n",
       "      <td>NaN</td>\n",
       "      <td>00AK</td>\n",
       "      <td>-151.695999146, 59.94919968</td>\n",
       "    </tr>\n",
       "  </tbody>\n",
       "</table>\n",
       "</div>"
      ],
      "text/plain": [
       "  ident           type                  name  elevation_ft continent  \\\n",
       "0   00A       heliport     Total Rf Heliport          11.0       NaN   \n",
       "1  00AA  small_airport  Aero B Ranch Airport        3435.0       NaN   \n",
       "2  00AK  small_airport          Lowell Field         450.0       NaN   \n",
       "\n",
       "  iso_country iso_region  municipality gps_code iata_code local_code  \\\n",
       "0          US      US-PA      Bensalem      00A       NaN        00A   \n",
       "1          US      US-KS         Leoti     00AA       NaN       00AA   \n",
       "2          US      US-AK  Anchor Point     00AK       NaN       00AK   \n",
       "\n",
       "                          coordinates  \n",
       "0  -74.93360137939453, 40.07080078125  \n",
       "1              -101.473911, 38.704022  \n",
       "2         -151.695999146, 59.94919968  "
      ]
     },
     "execution_count": 35,
     "metadata": {},
     "output_type": "execute_result"
    }
   ],
   "source": [
    "airport_df.head(3)"
   ]
  },
  {
   "cell_type": "markdown",
   "metadata": {},
   "source": [
    "<i>Since this project focuses on US immigration data, we will be taking a subset of the airport data to only include US airports.</i>\n"
   ]
  },
  {
   "cell_type": "code",
   "execution_count": 29,
   "metadata": {},
   "outputs": [],
   "source": [
    " airport_df = airport_df[airport_df.iso_country =='US']"
   ]
  },
  {
   "cell_type": "code",
   "execution_count": 30,
   "metadata": {},
   "outputs": [
    {
     "data": {
      "text/html": [
       "<div>\n",
       "<style scoped>\n",
       "    .dataframe tbody tr th:only-of-type {\n",
       "        vertical-align: middle;\n",
       "    }\n",
       "\n",
       "    .dataframe tbody tr th {\n",
       "        vertical-align: top;\n",
       "    }\n",
       "\n",
       "    .dataframe thead th {\n",
       "        text-align: right;\n",
       "    }\n",
       "</style>\n",
       "<table border=\"1\" class=\"dataframe\">\n",
       "  <thead>\n",
       "    <tr style=\"text-align: right;\">\n",
       "      <th></th>\n",
       "      <th>ident</th>\n",
       "      <th>type</th>\n",
       "      <th>name</th>\n",
       "      <th>elevation_ft</th>\n",
       "      <th>continent</th>\n",
       "      <th>iso_country</th>\n",
       "      <th>iso_region</th>\n",
       "      <th>municipality</th>\n",
       "      <th>gps_code</th>\n",
       "      <th>iata_code</th>\n",
       "      <th>local_code</th>\n",
       "      <th>coordinates</th>\n",
       "    </tr>\n",
       "  </thead>\n",
       "  <tbody>\n",
       "    <tr>\n",
       "      <th>0</th>\n",
       "      <td>00A</td>\n",
       "      <td>heliport</td>\n",
       "      <td>Total Rf Heliport</td>\n",
       "      <td>11.0</td>\n",
       "      <td>NaN</td>\n",
       "      <td>US</td>\n",
       "      <td>US-PA</td>\n",
       "      <td>Bensalem</td>\n",
       "      <td>00A</td>\n",
       "      <td>NaN</td>\n",
       "      <td>00A</td>\n",
       "      <td>-74.93360137939453, 40.07080078125</td>\n",
       "    </tr>\n",
       "    <tr>\n",
       "      <th>1</th>\n",
       "      <td>00AA</td>\n",
       "      <td>small_airport</td>\n",
       "      <td>Aero B Ranch Airport</td>\n",
       "      <td>3435.0</td>\n",
       "      <td>NaN</td>\n",
       "      <td>US</td>\n",
       "      <td>US-KS</td>\n",
       "      <td>Leoti</td>\n",
       "      <td>00AA</td>\n",
       "      <td>NaN</td>\n",
       "      <td>00AA</td>\n",
       "      <td>-101.473911, 38.704022</td>\n",
       "    </tr>\n",
       "    <tr>\n",
       "      <th>2</th>\n",
       "      <td>00AK</td>\n",
       "      <td>small_airport</td>\n",
       "      <td>Lowell Field</td>\n",
       "      <td>450.0</td>\n",
       "      <td>NaN</td>\n",
       "      <td>US</td>\n",
       "      <td>US-AK</td>\n",
       "      <td>Anchor Point</td>\n",
       "      <td>00AK</td>\n",
       "      <td>NaN</td>\n",
       "      <td>00AK</td>\n",
       "      <td>-151.695999146, 59.94919968</td>\n",
       "    </tr>\n",
       "  </tbody>\n",
       "</table>\n",
       "</div>"
      ],
      "text/plain": [
       "  ident           type                  name  elevation_ft continent  \\\n",
       "0   00A       heliport     Total Rf Heliport          11.0       NaN   \n",
       "1  00AA  small_airport  Aero B Ranch Airport        3435.0       NaN   \n",
       "2  00AK  small_airport          Lowell Field         450.0       NaN   \n",
       "\n",
       "  iso_country iso_region  municipality gps_code iata_code local_code  \\\n",
       "0          US      US-PA      Bensalem      00A       NaN        00A   \n",
       "1          US      US-KS         Leoti     00AA       NaN       00AA   \n",
       "2          US      US-AK  Anchor Point     00AK       NaN       00AK   \n",
       "\n",
       "                          coordinates  \n",
       "0  -74.93360137939453, 40.07080078125  \n",
       "1              -101.473911, 38.704022  \n",
       "2         -151.695999146, 59.94919968  "
      ]
     },
     "execution_count": 30,
     "metadata": {},
     "output_type": "execute_result"
    }
   ],
   "source": [
    "airport_df.head(3)"
   ]
  },
  {
   "cell_type": "code",
   "execution_count": 38,
   "metadata": {},
   "outputs": [
    {
     "data": {
      "text/html": [
       "<div>\n",
       "<style scoped>\n",
       "    .dataframe tbody tr th:only-of-type {\n",
       "        vertical-align: middle;\n",
       "    }\n",
       "\n",
       "    .dataframe tbody tr th {\n",
       "        vertical-align: top;\n",
       "    }\n",
       "\n",
       "    .dataframe thead th {\n",
       "        text-align: right;\n",
       "    }\n",
       "</style>\n",
       "<table border=\"1\" class=\"dataframe\">\n",
       "  <thead>\n",
       "    <tr style=\"text-align: right;\">\n",
       "      <th></th>\n",
       "      <th>iso_country</th>\n",
       "    </tr>\n",
       "  </thead>\n",
       "  <tbody>\n",
       "    <tr>\n",
       "      <th>US</th>\n",
       "      <td>22757</td>\n",
       "    </tr>\n",
       "  </tbody>\n",
       "</table>\n",
       "</div>"
      ],
      "text/plain": [
       "    iso_country\n",
       "US        22757"
      ]
     },
     "execution_count": 38,
     "metadata": {},
     "output_type": "execute_result"
    }
   ],
   "source": [
    "pd.DataFrame(airport_df.iso_country.value_counts())"
   ]
  },
  {
   "cell_type": "code",
   "execution_count": 39,
   "metadata": {},
   "outputs": [
    {
     "data": {
      "text/plain": [
       "small_airport     13720\n",
       "heliport           6265\n",
       "closed             1326\n",
       "medium_airport      692\n",
       "seaplane_base       566\n",
       "large_airport       170\n",
       "balloonport          18\n",
       "Name: type, dtype: int64"
      ]
     },
     "execution_count": 39,
     "metadata": {},
     "output_type": "execute_result"
    }
   ],
   "source": [
    "airport_df.type.value_counts()"
   ]
  },
  {
   "cell_type": "markdown",
   "metadata": {},
   "source": [
    "Balloonports, seaplane base, closed, and heliport can be excluded from the analysis since they don't collect immigration data.\n"
   ]
  },
  {
   "cell_type": "code",
   "execution_count": 31,
   "metadata": {},
   "outputs": [],
   "source": [
    "#deciding  possible approach in following sections\n",
    "values =  ['closed', 'heliport', 'seaplane_base', 'balloonport']\n",
    "airport_df = airport_df[~airport_df.type.isin(values)]"
   ]
  },
  {
   "cell_type": "code",
   "execution_count": 32,
   "metadata": {},
   "outputs": [
    {
     "data": {
      "text/plain": [
       "small_airport     13720\n",
       "medium_airport      692\n",
       "large_airport       170\n",
       "Name: type, dtype: int64"
      ]
     },
     "execution_count": 32,
     "metadata": {},
     "output_type": "execute_result"
    }
   ],
   "source": [
    "airport_df.type.value_counts()"
   ]
  },
  {
   "cell_type": "markdown",
   "metadata": {},
   "source": [
    "<i>Visually checking for missing data</i>"
   ]
  },
  {
   "cell_type": "code",
   "execution_count": 42,
   "metadata": {},
   "outputs": [
    {
     "data": {
      "text/plain": [
       "<matplotlib.axes._subplots.AxesSubplot at 0x7f901cb829e8>"
      ]
     },
     "execution_count": 42,
     "metadata": {},
     "output_type": "execute_result"
    },
    {
     "data": {
      "image/png": "[encoded data removed]",
      "text/plain": [
       "<matplotlib.figure.Figure at 0x7f901cb82518>"
      ]
     },
     "metadata": {
      "needs_background": "light"
     },
     "output_type": "display_data"
    }
   ],
   "source": [
    "sns.heatmap(airport_df.isnull(), cbar=False)"
   ]
  },
  {
   "cell_type": "code",
   "execution_count": 43,
   "metadata": {},
   "outputs": [
    {
     "data": {
      "text/plain": [
       "ident               0\n",
       "type                0\n",
       "name                0\n",
       "elevation_ft       63\n",
       "continent       14582\n",
       "iso_country         0\n",
       "iso_region          0\n",
       "municipality       50\n",
       "gps_code          399\n",
       "iata_code       12717\n",
       "local_code        199\n",
       "coordinates         0\n",
       "dtype: int64"
      ]
     },
     "execution_count": 43,
     "metadata": {},
     "output_type": "execute_result"
    }
   ],
   "source": [
    "airport_df.isnull().sum()"
   ]
  },
  {
   "cell_type": "code",
   "execution_count": 33,
   "metadata": {},
   "outputs": [],
   "source": [
    "# possible approach on how to eliminate null values\n",
    "airport_df = airport_df[~airport_df['municipality'].isna()]"
   ]
  },
  {
   "cell_type": "code",
   "execution_count": 34,
   "metadata": {},
   "outputs": [],
   "source": [
    "# possible approach to be applied in next section to make municipalities upper case\n",
    "airport_df['municipality'] = airport_df.municipality.str.upper()"
   ]
  },
  {
   "cell_type": "markdown",
   "metadata": {},
   "source": [
    "Identifying non standard entries in the iso_region field."
   ]
  },
  {
   "cell_type": "code",
   "execution_count": 35,
   "metadata": {},
   "outputs": [
    {
     "data": {
      "text/plain": [
       "US-DE     36\n",
       "US-HI     35\n",
       "US-RI     10\n",
       "US-U-A     3\n",
       "US-DC      2\n",
       "Name: iso_region, dtype: int64"
      ]
     },
     "execution_count": 35,
     "metadata": {},
     "output_type": "execute_result"
    }
   ],
   "source": [
    "airport_df.iso_region.value_counts().tail()"
   ]
  },
  {
   "cell_type": "code",
   "execution_count": 36,
   "metadata": {},
   "outputs": [],
   "source": [
    "# possible approach in addressing the US-U-A value n the iso_region field\n",
    "airport_df['iso_region_length'] = airport_df[\"iso_region\"].apply(len)\n",
    "airport_df = airport_df[airport_df['iso_region_length']==5]\n",
    "airport_df['state'] = airport_df['iso_region'].str[-2:]\n",
    "airport_df.drop(['iso_region_length'],axis=1,inplace=True)"
   ]
  },
  {
   "cell_type": "code",
   "execution_count": 37,
   "metadata": {},
   "outputs": [
    {
     "data": {
      "text/html": [
       "<div>\n",
       "<style scoped>\n",
       "    .dataframe tbody tr th:only-of-type {\n",
       "        vertical-align: middle;\n",
       "    }\n",
       "\n",
       "    .dataframe tbody tr th {\n",
       "        vertical-align: top;\n",
       "    }\n",
       "\n",
       "    .dataframe thead th {\n",
       "        text-align: right;\n",
       "    }\n",
       "</style>\n",
       "<table border=\"1\" class=\"dataframe\">\n",
       "  <thead>\n",
       "    <tr style=\"text-align: right;\">\n",
       "      <th></th>\n",
       "      <th>ident</th>\n",
       "      <th>type</th>\n",
       "      <th>name</th>\n",
       "      <th>elevation_ft</th>\n",
       "      <th>continent</th>\n",
       "      <th>iso_country</th>\n",
       "      <th>iso_region</th>\n",
       "      <th>municipality</th>\n",
       "      <th>gps_code</th>\n",
       "      <th>iata_code</th>\n",
       "      <th>local_code</th>\n",
       "      <th>coordinates</th>\n",
       "      <th>state</th>\n",
       "    </tr>\n",
       "  </thead>\n",
       "  <tbody>\n",
       "    <tr>\n",
       "      <th>1</th>\n",
       "      <td>00AA</td>\n",
       "      <td>small_airport</td>\n",
       "      <td>Aero B Ranch Airport</td>\n",
       "      <td>3435.0</td>\n",
       "      <td>NaN</td>\n",
       "      <td>US</td>\n",
       "      <td>US-KS</td>\n",
       "      <td>LEOTI</td>\n",
       "      <td>00AA</td>\n",
       "      <td>NaN</td>\n",
       "      <td>00AA</td>\n",
       "      <td>-101.473911, 38.704022</td>\n",
       "      <td>KS</td>\n",
       "    </tr>\n",
       "    <tr>\n",
       "      <th>2</th>\n",
       "      <td>00AK</td>\n",
       "      <td>small_airport</td>\n",
       "      <td>Lowell Field</td>\n",
       "      <td>450.0</td>\n",
       "      <td>NaN</td>\n",
       "      <td>US</td>\n",
       "      <td>US-AK</td>\n",
       "      <td>ANCHOR POINT</td>\n",
       "      <td>00AK</td>\n",
       "      <td>NaN</td>\n",
       "      <td>00AK</td>\n",
       "      <td>-151.695999146, 59.94919968</td>\n",
       "      <td>AK</td>\n",
       "    </tr>\n",
       "    <tr>\n",
       "      <th>3</th>\n",
       "      <td>00AL</td>\n",
       "      <td>small_airport</td>\n",
       "      <td>Epps Airpark</td>\n",
       "      <td>820.0</td>\n",
       "      <td>NaN</td>\n",
       "      <td>US</td>\n",
       "      <td>US-AL</td>\n",
       "      <td>HARVEST</td>\n",
       "      <td>00AL</td>\n",
       "      <td>NaN</td>\n",
       "      <td>00AL</td>\n",
       "      <td>-86.77030181884766, 34.86479949951172</td>\n",
       "      <td>AL</td>\n",
       "    </tr>\n",
       "  </tbody>\n",
       "</table>\n",
       "</div>"
      ],
      "text/plain": [
       "  ident           type                  name  elevation_ft continent  \\\n",
       "1  00AA  small_airport  Aero B Ranch Airport        3435.0       NaN   \n",
       "2  00AK  small_airport          Lowell Field         450.0       NaN   \n",
       "3  00AL  small_airport          Epps Airpark         820.0       NaN   \n",
       "\n",
       "  iso_country iso_region  municipality gps_code iata_code local_code  \\\n",
       "1          US      US-KS         LEOTI     00AA       NaN       00AA   \n",
       "2          US      US-AK  ANCHOR POINT     00AK       NaN       00AK   \n",
       "3          US      US-AL       HARVEST     00AL       NaN       00AL   \n",
       "\n",
       "                             coordinates state  \n",
       "1                 -101.473911, 38.704022    KS  \n",
       "2            -151.695999146, 59.94919968    AK  \n",
       "3  -86.77030181884766, 34.86479949951172    AL  "
      ]
     },
     "execution_count": 37,
     "metadata": {},
     "output_type": "execute_result"
    }
   ],
   "source": [
    "airport_df.head(3)"
   ]
  },
  {
   "cell_type": "markdown",
   "metadata": {},
   "source": [
    "#### Demographic Data"
   ]
  },
  {
   "cell_type": "code",
   "execution_count": 49,
   "metadata": {},
   "outputs": [
    {
     "name": "stdout",
     "output_type": "stream",
     "text": [
      "The demographic data set contains 2891 rows and 8 columns\n"
     ]
    }
   ],
   "source": [
    "print(f'The demographic data set contains {demographic_df.shape[0]} rows and {temperature_df.shape[1]} columns')"
   ]
  },
  {
   "cell_type": "code",
   "execution_count": 50,
   "metadata": {},
   "outputs": [
    {
     "data": {
      "text/plain": [
       "<matplotlib.axes._subplots.AxesSubplot at 0x7f901c9d3d68>"
      ]
     },
     "execution_count": 50,
     "metadata": {},
     "output_type": "execute_result"
    },
    {
     "data": {
      "image/png": "[encoded data removed]",
      "text/plain": [
       "<matplotlib.figure.Figure at 0x7f901c9d3940>"
      ]
     },
     "metadata": {
      "needs_background": "light"
     },
     "output_type": "display_data"
    }
   ],
   "source": [
    "sns.heatmap(demographic_df.isnull(), cbar=False)"
   ]
  },
  {
   "cell_type": "code",
   "execution_count": 51,
   "metadata": {},
   "outputs": [
    {
     "data": {
      "text/plain": [
       "City                       0\n",
       "State                      0\n",
       "Median Age                 0\n",
       "Male Population            3\n",
       "Female Population          3\n",
       "Total Population           0\n",
       "Number of Veterans        13\n",
       "Foreign-born              13\n",
       "Average Household Size    16\n",
       "State Code                 0\n",
       "Race                       0\n",
       "Count                      0\n",
       "dtype: int64"
      ]
     },
     "execution_count": 51,
     "metadata": {},
     "output_type": "execute_result"
    }
   ],
   "source": [
    "demographic_df.isnull().sum()"
   ]
  },
  {
   "cell_type": "markdown",
   "metadata": {},
   "source": [
    "Since the amount of missing data is not significant, we will focus on formatting some of the columns such as City."
   ]
  },
  {
   "cell_type": "code",
   "execution_count": 38,
   "metadata": {},
   "outputs": [],
   "source": [
    "# possible approach to make city names upper case for next section\n",
    "demographic_df['City'] = demographic_df['City'].str.strip().str.upper()"
   ]
  },
  {
   "cell_type": "code",
   "execution_count": 39,
   "metadata": {},
   "outputs": [
    {
     "data": {
      "text/html": [
       "<div>\n",
       "<style scoped>\n",
       "    .dataframe tbody tr th:only-of-type {\n",
       "        vertical-align: middle;\n",
       "    }\n",
       "\n",
       "    .dataframe tbody tr th {\n",
       "        vertical-align: top;\n",
       "    }\n",
       "\n",
       "    .dataframe thead th {\n",
       "        text-align: right;\n",
       "    }\n",
       "</style>\n",
       "<table border=\"1\" class=\"dataframe\">\n",
       "  <thead>\n",
       "    <tr style=\"text-align: right;\">\n",
       "      <th></th>\n",
       "      <th>City</th>\n",
       "      <th>State</th>\n",
       "      <th>Median Age</th>\n",
       "      <th>Male Population</th>\n",
       "      <th>Female Population</th>\n",
       "      <th>Total Population</th>\n",
       "      <th>Number of Veterans</th>\n",
       "      <th>Foreign-born</th>\n",
       "      <th>Average Household Size</th>\n",
       "      <th>State Code</th>\n",
       "      <th>Race</th>\n",
       "      <th>Count</th>\n",
       "    </tr>\n",
       "  </thead>\n",
       "  <tbody>\n",
       "    <tr>\n",
       "      <th>0</th>\n",
       "      <td>SILVER SPRING</td>\n",
       "      <td>Maryland</td>\n",
       "      <td>33.8</td>\n",
       "      <td>40601.0</td>\n",
       "      <td>41862.0</td>\n",
       "      <td>82463</td>\n",
       "      <td>1562.0</td>\n",
       "      <td>30908.0</td>\n",
       "      <td>2.60</td>\n",
       "      <td>MD</td>\n",
       "      <td>Hispanic or Latino</td>\n",
       "      <td>25924</td>\n",
       "    </tr>\n",
       "    <tr>\n",
       "      <th>1</th>\n",
       "      <td>QUINCY</td>\n",
       "      <td>Massachusetts</td>\n",
       "      <td>41.0</td>\n",
       "      <td>44129.0</td>\n",
       "      <td>49500.0</td>\n",
       "      <td>93629</td>\n",
       "      <td>4147.0</td>\n",
       "      <td>32935.0</td>\n",
       "      <td>2.39</td>\n",
       "      <td>MA</td>\n",
       "      <td>White</td>\n",
       "      <td>58723</td>\n",
       "    </tr>\n",
       "    <tr>\n",
       "      <th>2</th>\n",
       "      <td>HOOVER</td>\n",
       "      <td>Alabama</td>\n",
       "      <td>38.5</td>\n",
       "      <td>38040.0</td>\n",
       "      <td>46799.0</td>\n",
       "      <td>84839</td>\n",
       "      <td>4819.0</td>\n",
       "      <td>8229.0</td>\n",
       "      <td>2.58</td>\n",
       "      <td>AL</td>\n",
       "      <td>Asian</td>\n",
       "      <td>4759</td>\n",
       "    </tr>\n",
       "    <tr>\n",
       "      <th>3</th>\n",
       "      <td>RANCHO CUCAMONGA</td>\n",
       "      <td>California</td>\n",
       "      <td>34.5</td>\n",
       "      <td>88127.0</td>\n",
       "      <td>87105.0</td>\n",
       "      <td>175232</td>\n",
       "      <td>5821.0</td>\n",
       "      <td>33878.0</td>\n",
       "      <td>3.18</td>\n",
       "      <td>CA</td>\n",
       "      <td>Black or African-American</td>\n",
       "      <td>24437</td>\n",
       "    </tr>\n",
       "    <tr>\n",
       "      <th>4</th>\n",
       "      <td>NEWARK</td>\n",
       "      <td>New Jersey</td>\n",
       "      <td>34.6</td>\n",
       "      <td>138040.0</td>\n",
       "      <td>143873.0</td>\n",
       "      <td>281913</td>\n",
       "      <td>5829.0</td>\n",
       "      <td>86253.0</td>\n",
       "      <td>2.73</td>\n",
       "      <td>NJ</td>\n",
       "      <td>White</td>\n",
       "      <td>76402</td>\n",
       "    </tr>\n",
       "  </tbody>\n",
       "</table>\n",
       "</div>"
      ],
      "text/plain": [
       "               City          State  Median Age  Male Population  \\\n",
       "0     SILVER SPRING       Maryland        33.8          40601.0   \n",
       "1            QUINCY  Massachusetts        41.0          44129.0   \n",
       "2            HOOVER        Alabama        38.5          38040.0   \n",
       "3  RANCHO CUCAMONGA     California        34.5          88127.0   \n",
       "4            NEWARK     New Jersey        34.6         138040.0   \n",
       "\n",
       "   Female Population  Total Population  Number of Veterans  Foreign-born  \\\n",
       "0            41862.0             82463              1562.0       30908.0   \n",
       "1            49500.0             93629              4147.0       32935.0   \n",
       "2            46799.0             84839              4819.0        8229.0   \n",
       "3            87105.0            175232              5821.0       33878.0   \n",
       "4           143873.0            281913              5829.0       86253.0   \n",
       "\n",
       "   Average Household Size State Code                       Race  Count  \n",
       "0                    2.60         MD         Hispanic or Latino  25924  \n",
       "1                    2.39         MA                      White  58723  \n",
       "2                    2.58         AL                      Asian   4759  \n",
       "3                    3.18         CA  Black or African-American  24437  \n",
       "4                    2.73         NJ                      White  76402  "
      ]
     },
     "execution_count": 39,
     "metadata": {},
     "output_type": "execute_result"
    }
   ],
   "source": [
    "demographic_df.head()"
   ]
  },
  {
   "cell_type": "code",
   "execution_count": 40,
   "metadata": {},
   "outputs": [],
   "source": [
    "duplicated_rows = len(demographic_df[demographic_df[['City', 'State','Race']].duplicated()])"
   ]
  },
  {
   "cell_type": "code",
   "execution_count": 41,
   "metadata": {},
   "outputs": [
    {
     "name": "stdout",
     "output_type": "stream",
     "text": [
      "The number of duplicate rows when using a combined primary key with City,State, and Race is 0 rows, which means that this combined primary key can be used.\n"
     ]
    }
   ],
   "source": [
    "print(f'The number of duplicate rows when using a combined primary key with City,State, and Race is {duplicated_rows} rows, which means that this combined primary key can be used.')"
   ]
  },
  {
   "cell_type": "markdown",
   "metadata": {},
   "source": [
    "#### Immigration Data (full dataset)\n",
    "\n",
    "Briefly exploring the full immigration dataset, and performing some data cleaning actions."
   ]
  },
  {
   "cell_type": "code",
   "execution_count": 42,
   "metadata": {},
   "outputs": [
    {
     "data": {
      "text/html": [
       "<div>\n",
       "<style scoped>\n",
       "    .dataframe tbody tr th:only-of-type {\n",
       "        vertical-align: middle;\n",
       "    }\n",
       "\n",
       "    .dataframe tbody tr th {\n",
       "        vertical-align: top;\n",
       "    }\n",
       "\n",
       "    .dataframe thead th {\n",
       "        text-align: right;\n",
       "    }\n",
       "</style>\n",
       "<table border=\"1\" class=\"dataframe\">\n",
       "  <thead>\n",
       "    <tr style=\"text-align: right;\">\n",
       "      <th></th>\n",
       "      <th>cicid</th>\n",
       "      <th>i94yr</th>\n",
       "      <th>i94mon</th>\n",
       "      <th>i94cit</th>\n",
       "      <th>i94res</th>\n",
       "      <th>i94port</th>\n",
       "      <th>arrdate</th>\n",
       "      <th>i94mode</th>\n",
       "      <th>i94addr</th>\n",
       "      <th>depdate</th>\n",
       "      <th>i94bir</th>\n",
       "      <th>i94visa</th>\n",
       "      <th>count</th>\n",
       "      <th>dtadfile</th>\n",
       "      <th>visapost</th>\n",
       "      <th>occup</th>\n",
       "      <th>entdepa</th>\n",
       "      <th>entdepd</th>\n",
       "      <th>entdepu</th>\n",
       "      <th>matflag</th>\n",
       "      <th>biryear</th>\n",
       "      <th>dtaddto</th>\n",
       "      <th>gender</th>\n",
       "      <th>insnum</th>\n",
       "      <th>airline</th>\n",
       "      <th>admnum</th>\n",
       "      <th>fltno</th>\n",
       "      <th>visatype</th>\n",
       "    </tr>\n",
       "  </thead>\n",
       "  <tbody>\n",
       "    <tr>\n",
       "      <th>0</th>\n",
       "      <td>6.0</td>\n",
       "      <td>2016.0</td>\n",
       "      <td>4.0</td>\n",
       "      <td>692.0</td>\n",
       "      <td>692.0</td>\n",
       "      <td>XXX</td>\n",
       "      <td>20573.0</td>\n",
       "      <td>NaN</td>\n",
       "      <td>None</td>\n",
       "      <td>NaN</td>\n",
       "      <td>37.0</td>\n",
       "      <td>2.0</td>\n",
       "      <td>1.0</td>\n",
       "      <td>None</td>\n",
       "      <td>None</td>\n",
       "      <td>None</td>\n",
       "      <td>T</td>\n",
       "      <td>None</td>\n",
       "      <td>U</td>\n",
       "      <td>None</td>\n",
       "      <td>1979.0</td>\n",
       "      <td>10282016</td>\n",
       "      <td>None</td>\n",
       "      <td>None</td>\n",
       "      <td>None</td>\n",
       "      <td>1.897628e+09</td>\n",
       "      <td>None</td>\n",
       "      <td>B2</td>\n",
       "    </tr>\n",
       "    <tr>\n",
       "      <th>1</th>\n",
       "      <td>7.0</td>\n",
       "      <td>2016.0</td>\n",
       "      <td>4.0</td>\n",
       "      <td>254.0</td>\n",
       "      <td>276.0</td>\n",
       "      <td>ATL</td>\n",
       "      <td>20551.0</td>\n",
       "      <td>1.0</td>\n",
       "      <td>AL</td>\n",
       "      <td>NaN</td>\n",
       "      <td>25.0</td>\n",
       "      <td>3.0</td>\n",
       "      <td>1.0</td>\n",
       "      <td>20130811</td>\n",
       "      <td>SEO</td>\n",
       "      <td>None</td>\n",
       "      <td>G</td>\n",
       "      <td>None</td>\n",
       "      <td>Y</td>\n",
       "      <td>None</td>\n",
       "      <td>1991.0</td>\n",
       "      <td>D/S</td>\n",
       "      <td>M</td>\n",
       "      <td>None</td>\n",
       "      <td>None</td>\n",
       "      <td>3.736796e+09</td>\n",
       "      <td>00296</td>\n",
       "      <td>F1</td>\n",
       "    </tr>\n",
       "    <tr>\n",
       "      <th>2</th>\n",
       "      <td>15.0</td>\n",
       "      <td>2016.0</td>\n",
       "      <td>4.0</td>\n",
       "      <td>101.0</td>\n",
       "      <td>101.0</td>\n",
       "      <td>WAS</td>\n",
       "      <td>20545.0</td>\n",
       "      <td>1.0</td>\n",
       "      <td>MI</td>\n",
       "      <td>20691.0</td>\n",
       "      <td>55.0</td>\n",
       "      <td>2.0</td>\n",
       "      <td>1.0</td>\n",
       "      <td>20160401</td>\n",
       "      <td>None</td>\n",
       "      <td>None</td>\n",
       "      <td>T</td>\n",
       "      <td>O</td>\n",
       "      <td>None</td>\n",
       "      <td>M</td>\n",
       "      <td>1961.0</td>\n",
       "      <td>09302016</td>\n",
       "      <td>M</td>\n",
       "      <td>None</td>\n",
       "      <td>OS</td>\n",
       "      <td>6.666432e+08</td>\n",
       "      <td>93</td>\n",
       "      <td>B2</td>\n",
       "    </tr>\n",
       "  </tbody>\n",
       "</table>\n",
       "</div>"
      ],
      "text/plain": [
       "   cicid   i94yr  i94mon  i94cit  i94res i94port  arrdate  i94mode i94addr  \\\n",
       "0    6.0  2016.0     4.0   692.0   692.0     XXX  20573.0      NaN    None   \n",
       "1    7.0  2016.0     4.0   254.0   276.0     ATL  20551.0      1.0      AL   \n",
       "2   15.0  2016.0     4.0   101.0   101.0     WAS  20545.0      1.0      MI   \n",
       "\n",
       "   depdate  i94bir  i94visa  count  dtadfile visapost occup entdepa entdepd  \\\n",
       "0      NaN    37.0      2.0    1.0      None     None  None       T    None   \n",
       "1      NaN    25.0      3.0    1.0  20130811      SEO  None       G    None   \n",
       "2  20691.0    55.0      2.0    1.0  20160401     None  None       T       O   \n",
       "\n",
       "  entdepu matflag  biryear   dtaddto gender insnum airline        admnum  \\\n",
       "0       U    None   1979.0  10282016   None   None    None  1.897628e+09   \n",
       "1       Y    None   1991.0       D/S      M   None    None  3.736796e+09   \n",
       "2    None       M   1961.0  09302016      M   None      OS  6.666432e+08   \n",
       "\n",
       "   fltno visatype  \n",
       "0   None       B2  \n",
       "1  00296       F1  \n",
       "2     93       B2  "
      ]
     },
     "execution_count": 42,
     "metadata": {},
     "output_type": "execute_result"
    }
   ],
   "source": [
    "pd.set_option('max_columns', None)\n",
    "df_spark.limit(3).toPandas().head()"
   ]
  },
  {
   "cell_type": "code",
   "execution_count": 43,
   "metadata": {},
   "outputs": [],
   "source": [
    "df_spark.createOrReplaceTempView('immigration_tbl')"
   ]
  },
  {
   "cell_type": "code",
   "execution_count": 60,
   "metadata": {},
   "outputs": [
    {
     "data": {
      "text/plain": [
       "3096313"
      ]
     },
     "execution_count": 60,
     "metadata": {},
     "output_type": "execute_result"
    }
   ],
   "source": [
    "df_spark.count()"
   ]
  },
  {
   "cell_type": "code",
   "execution_count": 61,
   "metadata": {},
   "outputs": [
    {
     "data": {
      "text/html": [
       "<div>\n",
       "<style scoped>\n",
       "    .dataframe tbody tr th:only-of-type {\n",
       "        vertical-align: middle;\n",
       "    }\n",
       "\n",
       "    .dataframe tbody tr th {\n",
       "        vertical-align: top;\n",
       "    }\n",
       "\n",
       "    .dataframe thead th {\n",
       "        text-align: right;\n",
       "    }\n",
       "</style>\n",
       "<table border=\"1\" class=\"dataframe\">\n",
       "  <thead>\n",
       "    <tr style=\"text-align: right;\">\n",
       "      <th></th>\n",
       "      <th>count(DISTINCT cicid)</th>\n",
       "    </tr>\n",
       "  </thead>\n",
       "  <tbody>\n",
       "    <tr>\n",
       "      <th>0</th>\n",
       "      <td>3096313</td>\n",
       "    </tr>\n",
       "  </tbody>\n",
       "</table>\n",
       "</div>"
      ],
      "text/plain": [
       "   count(DISTINCT cicid)\n",
       "0                3096313"
      ]
     },
     "execution_count": 61,
     "metadata": {},
     "output_type": "execute_result"
    }
   ],
   "source": [
    "spark.sql(\"\"\"\n",
    "SELECT COUNT (DISTINCT cicid)\n",
    "FROM immigration_tbl\n",
    "\"\"\").toPandas().head()"
   ]
  },
  {
   "cell_type": "markdown",
   "metadata": {},
   "source": [
    "<i> Is cicid a unique identifier to be used as a primary key? </i>"
   ]
  },
  {
   "cell_type": "code",
   "execution_count": 62,
   "metadata": {},
   "outputs": [
    {
     "data": {
      "text/html": [
       "<div>\n",
       "<style scoped>\n",
       "    .dataframe tbody tr th:only-of-type {\n",
       "        vertical-align: middle;\n",
       "    }\n",
       "\n",
       "    .dataframe tbody tr th {\n",
       "        vertical-align: top;\n",
       "    }\n",
       "\n",
       "    .dataframe thead th {\n",
       "        text-align: right;\n",
       "    }\n",
       "</style>\n",
       "<table border=\"1\" class=\"dataframe\">\n",
       "  <thead>\n",
       "    <tr style=\"text-align: right;\">\n",
       "      <th></th>\n",
       "      <th>count(DISTINCT cicid)</th>\n",
       "    </tr>\n",
       "  </thead>\n",
       "  <tbody>\n",
       "    <tr>\n",
       "      <th>0</th>\n",
       "      <td>True</td>\n",
       "    </tr>\n",
       "  </tbody>\n",
       "</table>\n",
       "</div>"
      ],
      "text/plain": [
       "   count(DISTINCT cicid)\n",
       "0                   True"
      ]
     },
     "execution_count": 62,
     "metadata": {},
     "output_type": "execute_result"
    }
   ],
   "source": [
    "df_spark.count() == spark.sql(\"\"\"\n",
    "SELECT COUNT (DISTINCT cicid)\n",
    "FROM immigration_tbl\n",
    "\"\"\").toPandas().head()"
   ]
  },
  {
   "cell_type": "code",
   "execution_count": 65,
   "metadata": {},
   "outputs": [
    {
     "data": {
      "text/html": [
       "<div>\n",
       "<style scoped>\n",
       "    .dataframe tbody tr th:only-of-type {\n",
       "        vertical-align: middle;\n",
       "    }\n",
       "\n",
       "    .dataframe tbody tr th {\n",
       "        vertical-align: top;\n",
       "    }\n",
       "\n",
       "    .dataframe thead th {\n",
       "        text-align: right;\n",
       "    }\n",
       "</style>\n",
       "<table border=\"1\" class=\"dataframe\">\n",
       "  <thead>\n",
       "    <tr style=\"text-align: right;\">\n",
       "      <th></th>\n",
       "      <th>len</th>\n",
       "    </tr>\n",
       "  </thead>\n",
       "  <tbody>\n",
       "    <tr>\n",
       "      <th>0</th>\n",
       "      <td>3</td>\n",
       "    </tr>\n",
       "  </tbody>\n",
       "</table>\n",
       "</div>"
      ],
      "text/plain": [
       "   len\n",
       "0    3"
      ]
     },
     "execution_count": 65,
     "metadata": {},
     "output_type": "execute_result"
    }
   ],
   "source": [
    "spark.sql(\"\"\"\n",
    "SELECT LENGTH (i94port) AS len\n",
    "FROM immigration_tbl\n",
    "GROUP BY len\n",
    "\"\"\").toPandas().head()"
   ]
  },
  {
   "cell_type": "markdown",
   "metadata": {},
   "source": [
    "Visualizing some of the i94port codes for inconsistency"
   ]
  },
  {
   "cell_type": "code",
   "execution_count": 66,
   "metadata": {},
   "outputs": [
    {
     "data": {
      "text/html": [
       "<div>\n",
       "<style scoped>\n",
       "    .dataframe tbody tr th:only-of-type {\n",
       "        vertical-align: middle;\n",
       "    }\n",
       "\n",
       "    .dataframe tbody tr th {\n",
       "        vertical-align: top;\n",
       "    }\n",
       "\n",
       "    .dataframe thead th {\n",
       "        text-align: right;\n",
       "    }\n",
       "</style>\n",
       "<table border=\"1\" class=\"dataframe\">\n",
       "  <thead>\n",
       "    <tr style=\"text-align: right;\">\n",
       "      <th></th>\n",
       "      <th>i94port</th>\n",
       "      <th>COUNT</th>\n",
       "    </tr>\n",
       "  </thead>\n",
       "  <tbody>\n",
       "    <tr>\n",
       "      <th>0</th>\n",
       "      <td>YSL</td>\n",
       "      <td>344</td>\n",
       "    </tr>\n",
       "    <tr>\n",
       "      <th>1</th>\n",
       "      <td>YIP</td>\n",
       "      <td>1</td>\n",
       "    </tr>\n",
       "    <tr>\n",
       "      <th>2</th>\n",
       "      <td>YHC</td>\n",
       "      <td>772</td>\n",
       "    </tr>\n",
       "    <tr>\n",
       "      <th>3</th>\n",
       "      <td>YGF</td>\n",
       "      <td>1763</td>\n",
       "    </tr>\n",
       "    <tr>\n",
       "      <th>4</th>\n",
       "      <td>XXX</td>\n",
       "      <td>3522</td>\n",
       "    </tr>\n",
       "    <tr>\n",
       "      <th>5</th>\n",
       "      <td>X96</td>\n",
       "      <td>2378</td>\n",
       "    </tr>\n",
       "    <tr>\n",
       "      <th>6</th>\n",
       "      <td>X44</td>\n",
       "      <td>11</td>\n",
       "    </tr>\n",
       "    <tr>\n",
       "      <th>7</th>\n",
       "      <td>WPB</td>\n",
       "      <td>9093</td>\n",
       "    </tr>\n",
       "    <tr>\n",
       "      <th>8</th>\n",
       "      <td>WLL</td>\n",
       "      <td>14</td>\n",
       "    </tr>\n",
       "    <tr>\n",
       "      <th>9</th>\n",
       "      <td>WIN</td>\n",
       "      <td>330</td>\n",
       "    </tr>\n",
       "  </tbody>\n",
       "</table>\n",
       "</div>"
      ],
      "text/plain": [
       "  i94port  COUNT\n",
       "0     YSL    344\n",
       "1     YIP      1\n",
       "2     YHC    772\n",
       "3     YGF   1763\n",
       "4     XXX   3522\n",
       "5     X96   2378\n",
       "6     X44     11\n",
       "7     WPB   9093\n",
       "8     WLL     14\n",
       "9     WIN    330"
      ]
     },
     "execution_count": 66,
     "metadata": {},
     "output_type": "execute_result"
    }
   ],
   "source": [
    "spark.sql(\"\"\"\n",
    "SELECT i94port,Count(i94port) as COUNT\n",
    "FROM immigration_tbl\n",
    "group by i94port\n",
    "order by i94port DESC\n",
    "LIMIT 10\n",
    "\"\"\").toPandas()"
   ]
  },
  {
   "cell_type": "code",
   "execution_count": 44,
   "metadata": {},
   "outputs": [],
   "source": [
    "#Computing the arrival date from the SAS starting from 1960-01-01\n",
    "df_spark = spark.sql(\"SELECT *, date_add(to_date('1960-01-01'), arrdate) AS arrival_date FROM immigration_tbl\")\n",
    "df_spark.createOrReplaceTempView(\"immigration_tbl\")"
   ]
  },
  {
   "cell_type": "code",
   "execution_count": 45,
   "metadata": {},
   "outputs": [],
   "source": [
    "#Replacing I94VISA column values with (1=Business, 2=Pleasure,3=Student)\n",
    "\n",
    "spark.sql(\"\"\"SELECT *, CASE \n",
    "                        WHEN i94visa = 1.0 THEN 'Business' \n",
    "                        WHEN i94visa = 2.0 THEN 'Pleasure'\n",
    "                        WHEN i94visa = 3.0 THEN 'Student'\n",
    "                        ELSE 'N/A' END AS visa_type \n",
    "                        \n",
    "                FROM immigration_tbl\"\"\").createOrReplaceTempView(\"immigration_tbl\")"
   ]
  },
  {
   "cell_type": "code",
   "execution_count": 46,
   "metadata": {},
   "outputs": [],
   "source": [
    "# Replacing N/A values\n",
    "spark.sql(\"\"\"SELECT *, CASE \n",
    "                        WHEN depdate >= 1.0 THEN date_add(to_date('1960-01-01'), depdate)\n",
    "                        WHEN depdate IS NULL THEN NULL\n",
    "                        ELSE 'N/A' END AS departure_date \n",
    "                        \n",
    "                FROM immigration_tbl\"\"\").createOrReplaceTempView(\"immigration_tbl\")"
   ]
  },
  {
   "cell_type": "markdown",
   "metadata": {},
   "source": [
    "<i> Ensuring the feasibiity of previous queries</i>"
   ]
  },
  {
   "cell_type": "code",
   "execution_count": 61,
   "metadata": {},
   "outputs": [
    {
     "data": {
      "text/html": [
       "<div>\n",
       "<style scoped>\n",
       "    .dataframe tbody tr th:only-of-type {\n",
       "        vertical-align: middle;\n",
       "    }\n",
       "\n",
       "    .dataframe tbody tr th {\n",
       "        vertical-align: top;\n",
       "    }\n",
       "\n",
       "    .dataframe thead th {\n",
       "        text-align: right;\n",
       "    }\n",
       "</style>\n",
       "<table border=\"1\" class=\"dataframe\">\n",
       "  <thead>\n",
       "    <tr style=\"text-align: right;\">\n",
       "      <th></th>\n",
       "      <th>count(1)</th>\n",
       "    </tr>\n",
       "  </thead>\n",
       "  <tbody>\n",
       "    <tr>\n",
       "      <th>0</th>\n",
       "      <td>0</td>\n",
       "    </tr>\n",
       "  </tbody>\n",
       "</table>\n",
       "</div>"
      ],
      "text/plain": [
       "   count(1)\n",
       "0         0"
      ]
     },
     "execution_count": 61,
     "metadata": {},
     "output_type": "execute_result"
    }
   ],
   "source": [
    "spark.sql(\"SELECT count(*) FROM immigration_tbl WHERE departure_date = 'N/A'\").toPandas().head()"
   ]
  },
  {
   "cell_type": "code",
   "execution_count": 66,
   "metadata": {},
   "outputs": [
    {
     "data": {
      "text/html": [
       "<div>\n",
       "<style scoped>\n",
       "    .dataframe tbody tr th:only-of-type {\n",
       "        vertical-align: middle;\n",
       "    }\n",
       "\n",
       "    .dataframe tbody tr th {\n",
       "        vertical-align: top;\n",
       "    }\n",
       "\n",
       "    .dataframe thead th {\n",
       "        text-align: right;\n",
       "    }\n",
       "</style>\n",
       "<table border=\"1\" class=\"dataframe\">\n",
       "  <thead>\n",
       "    <tr style=\"text-align: right;\">\n",
       "      <th></th>\n",
       "      <th>count(1)</th>\n",
       "    </tr>\n",
       "  </thead>\n",
       "  <tbody>\n",
       "    <tr>\n",
       "      <th>0</th>\n",
       "      <td>375</td>\n",
       "    </tr>\n",
       "  </tbody>\n",
       "</table>\n",
       "</div>"
      ],
      "text/plain": [
       "   count(1)\n",
       "0       375"
      ]
     },
     "execution_count": 66,
     "metadata": {},
     "output_type": "execute_result"
    }
   ],
   "source": [
    "spark.sql(\"\"\"\n",
    "SELECT COUNT(*)\n",
    "FROM immigration_tbl\n",
    "WHERE departure_date <= arrival_date\n",
    "\"\"\").toPandas().head()"
   ]
  },
  {
   "cell_type": "code",
   "execution_count": 62,
   "metadata": {},
   "outputs": [],
   "source": [
    "# Dropping rows where deperature date is greater or equal than arrival date\n",
    "spark.sql(\"\"\"\n",
    "SELECT *\n",
    "FROM immigration_tbl\n",
    "WHERE departure_date >= arrival_date\n",
    "\"\"\").createOrReplaceTempView(\"immigration_tbl\")"
   ]
  },
  {
   "cell_type": "markdown",
   "metadata": {},
   "source": [
    "<i>Continuing data exploration and identifying possible approaches for data cleaning purposes</i>"
   ]
  },
  {
   "cell_type": "code",
   "execution_count": 68,
   "metadata": {},
   "outputs": [
    {
     "data": {
      "text/html": [
       "<div>\n",
       "<style scoped>\n",
       "    .dataframe tbody tr th:only-of-type {\n",
       "        vertical-align: middle;\n",
       "    }\n",
       "\n",
       "    .dataframe tbody tr th {\n",
       "        vertical-align: top;\n",
       "    }\n",
       "\n",
       "    .dataframe thead th {\n",
       "        text-align: right;\n",
       "    }\n",
       "</style>\n",
       "<table border=\"1\" class=\"dataframe\">\n",
       "  <thead>\n",
       "    <tr style=\"text-align: right;\">\n",
       "      <th></th>\n",
       "      <th>i94mode</th>\n",
       "      <th>count(1)</th>\n",
       "    </tr>\n",
       "  </thead>\n",
       "  <tbody>\n",
       "    <tr>\n",
       "      <th>0</th>\n",
       "      <td>NaN</td>\n",
       "      <td>238</td>\n",
       "    </tr>\n",
       "    <tr>\n",
       "      <th>1</th>\n",
       "      <td>1.0</td>\n",
       "      <td>2871184</td>\n",
       "    </tr>\n",
       "    <tr>\n",
       "      <th>2</th>\n",
       "      <td>3.0</td>\n",
       "      <td>61572</td>\n",
       "    </tr>\n",
       "    <tr>\n",
       "      <th>3</th>\n",
       "      <td>2.0</td>\n",
       "      <td>17970</td>\n",
       "    </tr>\n",
       "    <tr>\n",
       "      <th>4</th>\n",
       "      <td>9.0</td>\n",
       "      <td>2517</td>\n",
       "    </tr>\n",
       "  </tbody>\n",
       "</table>\n",
       "</div>"
      ],
      "text/plain": [
       "   i94mode  count(1)\n",
       "0      NaN       238\n",
       "1      1.0   2871184\n",
       "2      3.0     61572\n",
       "3      2.0     17970\n",
       "4      9.0      2517"
      ]
     },
     "execution_count": 68,
     "metadata": {},
     "output_type": "execute_result"
    }
   ],
   "source": [
    "# Determing arrival modes\n",
    "spark.sql(\"\"\"\n",
    "SELECT i94mode, count(*)\n",
    "FROM immigration_tbl\n",
    "GROUP BY i94mode\n",
    "\"\"\").toPandas().head()"
   ]
  },
  {
   "cell_type": "code",
   "execution_count": 47,
   "metadata": {},
   "outputs": [],
   "source": [
    "# Dropping rows where arrival mode is not equal to 1 = 'Air'\n",
    "spark.sql(\"\"\"\n",
    "SELECT *\n",
    "FROM immigration_tbl\n",
    "WHERE i94mode == 1.0\n",
    "\"\"\").createOrReplaceTempView(\"immigration_tbl\")"
   ]
  },
  {
   "cell_type": "code",
   "execution_count": 64,
   "metadata": {},
   "outputs": [
    {
     "data": {
      "text/html": [
       "<div>\n",
       "<style scoped>\n",
       "    .dataframe tbody tr th:only-of-type {\n",
       "        vertical-align: middle;\n",
       "    }\n",
       "\n",
       "    .dataframe tbody tr th {\n",
       "        vertical-align: top;\n",
       "    }\n",
       "\n",
       "    .dataframe thead th {\n",
       "        text-align: right;\n",
       "    }\n",
       "</style>\n",
       "<table border=\"1\" class=\"dataframe\">\n",
       "  <thead>\n",
       "    <tr style=\"text-align: right;\">\n",
       "      <th></th>\n",
       "      <th>i94mode</th>\n",
       "      <th>count(1)</th>\n",
       "    </tr>\n",
       "  </thead>\n",
       "  <tbody>\n",
       "    <tr>\n",
       "      <th>0</th>\n",
       "      <td>1.0</td>\n",
       "      <td>2871184</td>\n",
       "    </tr>\n",
       "  </tbody>\n",
       "</table>\n",
       "</div>"
      ],
      "text/plain": [
       "   i94mode  count(1)\n",
       "0      1.0   2871184"
      ]
     },
     "execution_count": 64,
     "metadata": {},
     "output_type": "execute_result"
    }
   ],
   "source": [
    "# Determing arrival modes\n",
    "spark.sql(\"\"\"\n",
    "SELECT i94mode, count(*)\n",
    "FROM immigration_tbl\n",
    "GROUP BY i94mode\n",
    "\"\"\").toPandas().head()"
   ]
  },
  {
   "cell_type": "code",
   "execution_count": 65,
   "metadata": {},
   "outputs": [
    {
     "data": {
      "text/html": [
       "<div>\n",
       "<style scoped>\n",
       "    .dataframe tbody tr th:only-of-type {\n",
       "        vertical-align: middle;\n",
       "    }\n",
       "\n",
       "    .dataframe tbody tr th {\n",
       "        vertical-align: top;\n",
       "    }\n",
       "\n",
       "    .dataframe thead th {\n",
       "        text-align: right;\n",
       "    }\n",
       "</style>\n",
       "<table border=\"1\" class=\"dataframe\">\n",
       "  <thead>\n",
       "    <tr style=\"text-align: right;\">\n",
       "      <th></th>\n",
       "      <th>count(1)</th>\n",
       "    </tr>\n",
       "  </thead>\n",
       "  <tbody>\n",
       "    <tr>\n",
       "      <th>0</th>\n",
       "      <td>42</td>\n",
       "    </tr>\n",
       "  </tbody>\n",
       "</table>\n",
       "</div>"
      ],
      "text/plain": [
       "   count(1)\n",
       "0        42"
      ]
     },
     "execution_count": 65,
     "metadata": {},
     "output_type": "execute_result"
    }
   ],
   "source": [
    "# Checking missing values in age column\n",
    "spark.sql(\"\"\"\n",
    "SELECT COUNT(*)\n",
    "FROM immigration_tbl\n",
    "WHERE i94bir IS NULL\n",
    "\"\"\").toPandas()"
   ]
  },
  {
   "cell_type": "code",
   "execution_count": 76,
   "metadata": {},
   "outputs": [
    {
     "data": {
      "text/html": [
       "<div>\n",
       "<style scoped>\n",
       "    .dataframe tbody tr th:only-of-type {\n",
       "        vertical-align: middle;\n",
       "    }\n",
       "\n",
       "    .dataframe tbody tr th {\n",
       "        vertical-align: top;\n",
       "    }\n",
       "\n",
       "    .dataframe thead th {\n",
       "        text-align: right;\n",
       "    }\n",
       "</style>\n",
       "<table border=\"1\" class=\"dataframe\">\n",
       "  <thead>\n",
       "    <tr style=\"text-align: right;\">\n",
       "      <th></th>\n",
       "      <th>max(biryear)</th>\n",
       "      <th>min(biryear)</th>\n",
       "    </tr>\n",
       "  </thead>\n",
       "  <tbody>\n",
       "    <tr>\n",
       "      <th>0</th>\n",
       "      <td>2016.0</td>\n",
       "      <td>1916.0</td>\n",
       "    </tr>\n",
       "  </tbody>\n",
       "</table>\n",
       "</div>"
      ],
      "text/plain": [
       "   max(biryear)  min(biryear)\n",
       "0        2016.0        1916.0"
      ]
     },
     "execution_count": 76,
     "metadata": {},
     "output_type": "execute_result"
    }
   ],
   "source": [
    "spark.sql(\"SELECT MAX(biryear), MIN(biryear) FROM immigration_tbl WHERE biryear IS NOT NULL\").toPandas()"
   ]
  },
  {
   "cell_type": "code",
   "execution_count": 77,
   "metadata": {},
   "outputs": [
    {
     "data": {
      "text/plain": [
       "DataFrame[summary: string, biryear: string]"
      ]
     },
     "execution_count": 77,
     "metadata": {},
     "output_type": "execute_result"
    }
   ],
   "source": [
    "df_spark.select('biryear').describe()\n"
   ]
  },
  {
   "cell_type": "code",
   "execution_count": 78,
   "metadata": {},
   "outputs": [
    {
     "data": {
      "text/html": [
       "<div>\n",
       "<style scoped>\n",
       "    .dataframe tbody tr th:only-of-type {\n",
       "        vertical-align: middle;\n",
       "    }\n",
       "\n",
       "    .dataframe tbody tr th {\n",
       "        vertical-align: top;\n",
       "    }\n",
       "\n",
       "    .dataframe thead th {\n",
       "        text-align: right;\n",
       "    }\n",
       "</style>\n",
       "<table border=\"1\" class=\"dataframe\">\n",
       "  <thead>\n",
       "    <tr style=\"text-align: right;\">\n",
       "      <th></th>\n",
       "      <th>count(biryear)</th>\n",
       "    </tr>\n",
       "  </thead>\n",
       "  <tbody>\n",
       "    <tr>\n",
       "      <th>0</th>\n",
       "      <td>0</td>\n",
       "    </tr>\n",
       "  </tbody>\n",
       "</table>\n",
       "</div>"
      ],
      "text/plain": [
       "   count(biryear)\n",
       "0               0"
      ]
     },
     "execution_count": 78,
     "metadata": {},
     "output_type": "execute_result"
    }
   ],
   "source": [
    "#checking missing values in biryear column\n",
    "spark.sql(\"SELECT COUNT(biryear) FROM immigration_tbl WHERE biryear IS NULL\").toPandas()"
   ]
  },
  {
   "cell_type": "code",
   "execution_count": 79,
   "metadata": {},
   "outputs": [
    {
     "name": "stdout",
     "output_type": "stream",
     "text": [
      "+----------+--------+\n",
      "|difference|count(1)|\n",
      "+----------+--------+\n",
      "|       0.0| 2871142|\n",
      "+----------+--------+\n",
      "\n"
     ]
    }
   ],
   "source": [
    "spark.sql(\"SELECT (2016-biryear)-i94bir AS difference, count(*) FROM immigration_tbl WHERE i94bir IS NOT NULL GROUP BY difference\").show()"
   ]
  },
  {
   "cell_type": "code",
   "execution_count": 80,
   "metadata": {},
   "outputs": [
    {
     "data": {
      "text/html": [
       "<div>\n",
       "<style scoped>\n",
       "    .dataframe tbody tr th:only-of-type {\n",
       "        vertical-align: middle;\n",
       "    }\n",
       "\n",
       "    .dataframe tbody tr th {\n",
       "        vertical-align: top;\n",
       "    }\n",
       "\n",
       "    .dataframe thead th {\n",
       "        text-align: right;\n",
       "    }\n",
       "</style>\n",
       "<table border=\"1\" class=\"dataframe\">\n",
       "  <thead>\n",
       "    <tr style=\"text-align: right;\">\n",
       "      <th></th>\n",
       "      <th>gender</th>\n",
       "      <th>count(1)</th>\n",
       "    </tr>\n",
       "  </thead>\n",
       "  <tbody>\n",
       "    <tr>\n",
       "      <th>0</th>\n",
       "      <td>F</td>\n",
       "      <td>1190456</td>\n",
       "    </tr>\n",
       "    <tr>\n",
       "      <th>1</th>\n",
       "      <td>None</td>\n",
       "      <td>405106</td>\n",
       "    </tr>\n",
       "    <tr>\n",
       "      <th>2</th>\n",
       "      <td>M</td>\n",
       "      <td>1274898</td>\n",
       "    </tr>\n",
       "    <tr>\n",
       "      <th>3</th>\n",
       "      <td>U</td>\n",
       "      <td>13</td>\n",
       "    </tr>\n",
       "    <tr>\n",
       "      <th>4</th>\n",
       "      <td>X</td>\n",
       "      <td>711</td>\n",
       "    </tr>\n",
       "  </tbody>\n",
       "</table>\n",
       "</div>"
      ],
      "text/plain": [
       "  gender  count(1)\n",
       "0      F   1190456\n",
       "1   None    405106\n",
       "2      M   1274898\n",
       "3      U        13\n",
       "4      X       711"
      ]
     },
     "execution_count": 80,
     "metadata": {},
     "output_type": "execute_result"
    }
   ],
   "source": [
    "# Checking the gendder field values\n",
    "spark.sql(\"\"\"\n",
    "SELECT gender, count(*) \n",
    "FROM immigration_tbl\n",
    "GROUP BY gender\n",
    "\"\"\").toPandas()"
   ]
  },
  {
   "cell_type": "code",
   "execution_count": 48,
   "metadata": {},
   "outputs": [],
   "source": [
    "# dropping rows where gender is not identified with F or M\n",
    "spark.sql(\"\"\"SELECT * FROM immigration_tbl WHERE gender IN ('F', 'M')\"\"\").createOrReplaceTempView(\"immigration_tbl\")"
   ]
  },
  {
   "cell_type": "code",
   "execution_count": 67,
   "metadata": {},
   "outputs": [
    {
     "data": {
      "text/html": [
       "<div>\n",
       "<style scoped>\n",
       "    .dataframe tbody tr th:only-of-type {\n",
       "        vertical-align: middle;\n",
       "    }\n",
       "\n",
       "    .dataframe tbody tr th {\n",
       "        vertical-align: top;\n",
       "    }\n",
       "\n",
       "    .dataframe thead th {\n",
       "        text-align: right;\n",
       "    }\n",
       "</style>\n",
       "<table border=\"1\" class=\"dataframe\">\n",
       "  <thead>\n",
       "    <tr style=\"text-align: right;\">\n",
       "      <th></th>\n",
       "      <th>gender</th>\n",
       "      <th>count(1)</th>\n",
       "    </tr>\n",
       "  </thead>\n",
       "  <tbody>\n",
       "    <tr>\n",
       "      <th>0</th>\n",
       "      <td>F</td>\n",
       "      <td>1190456</td>\n",
       "    </tr>\n",
       "    <tr>\n",
       "      <th>1</th>\n",
       "      <td>M</td>\n",
       "      <td>1274898</td>\n",
       "    </tr>\n",
       "  </tbody>\n",
       "</table>\n",
       "</div>"
      ],
      "text/plain": [
       "  gender  count(1)\n",
       "0      F   1190456\n",
       "1      M   1274898"
      ]
     },
     "execution_count": 67,
     "metadata": {},
     "output_type": "execute_result"
    }
   ],
   "source": [
    "# Checking the gendder field values\n",
    "spark.sql(\"\"\"\n",
    "SELECT gender, count(*) \n",
    "FROM immigration_tbl\n",
    "GROUP BY gender\n",
    "\"\"\").toPandas()"
   ]
  },
  {
   "cell_type": "markdown",
   "metadata": {},
   "source": [
    "<i>Checking for missing values in the i94cit,i94res, i94addr, visatype, occup.</i>"
   ]
  },
  {
   "cell_type": "code",
   "execution_count": 68,
   "metadata": {},
   "outputs": [],
   "source": [
    "def missing_values_check(spark_ctxt, tables_to_check):\n",
    "    \"\"\"\n",
    "    This function performs null value checks on specific columns of given tables received as parameters and raises a ValueError exception when null values are encountered.\n",
    "    It receives the following parameters:\n",
    "    spark_ctxt: spark context where the data quality check is to be performed\n",
    "    tables_to_check: A dictionary containing (table, columns) pairs specifying for each table, which column is to be checked for null values.   \n",
    "    \"\"\"  \n",
    "    for table in tables_to_check:\n",
    "        print(f\"Performing data quality check on table {table}...\")\n",
    "        for column in tables_to_check[table]:\n",
    "            returnedVal = spark_ctxt.sql(f\"\"\"SELECT COUNT(*) as nbr FROM {table} WHERE {column} IS NULL\"\"\")\n",
    "            if returnedVal.head()[0] > 0:\n",
    "                print(f\"Data quality check failed! Found {returnedVal.head()[0]} NULL values in {table} {column} column!\")\n",
    "            else:\n",
    "                print(f\"Table {table} - {column} passed.\")"
   ]
  },
  {
   "cell_type": "code",
   "execution_count": 69,
   "metadata": {},
   "outputs": [
    {
     "name": "stdout",
     "output_type": "stream",
     "text": [
      "Performing data quality check on table immigration_tbl...\n",
      "Table immigration_tbl - i94cit passed.\n",
      "Table immigration_tbl - i94res passed.\n",
      "Data quality check failed! Found 87458 NULL values in immigration_tbl i94addr column!\n",
      "Table immigration_tbl - visatype passed.\n",
      "Data quality check failed! Found 2459850 NULL values in immigration_tbl occup column!\n"
     ]
    }
   ],
   "source": [
    "tables_to_check = { 'immigration_tbl' : ['i94cit','i94res', 'i94addr', 'visatype', 'occup']}\n",
    "missing_values_check(spark, tables_to_check)"
   ]
  },
  {
   "cell_type": "markdown",
   "metadata": {},
   "source": [
    "Analyzing tables twith null values to decide whether trying to include them in the analysis."
   ]
  },
  {
   "cell_type": "code",
   "execution_count": 94,
   "metadata": {},
   "outputs": [
    {
     "name": "stdout",
     "output_type": "stream",
     "text": [
      "+-----+-------+\n",
      "|occup|  COUNT|\n",
      "+-----+-------+\n",
      "| null|2459850|\n",
      "|  ACH|     28|\n",
      "|  ACN|      8|\n",
      "|  ADM|    118|\n",
      "|  AGR|     11|\n",
      "|  ASP|     17|\n",
      "|  AST|      1|\n",
      "|  ATH|     18|\n",
      "|  BIL|      6|\n",
      "|  BUG|      1|\n",
      "|  CAN|      2|\n",
      "|  CEO|     53|\n",
      "|  CHE|      1|\n",
      "|  CLN|      1|\n",
      "|  CMP|     42|\n",
      "|  CNS|      8|\n",
      "|  CPA|     28|\n",
      "|  DDS|     15|\n",
      "|  DVM|      2|\n",
      "|  EAG|      9|\n",
      "+-----+-------+\n",
      "only showing top 20 rows\n",
      "\n"
     ]
    }
   ],
   "source": [
    "spark.sql(\"\"\"\n",
    "SELECT occup, count(*) as COUNT\n",
    "FROM immigration_tbl\n",
    "GROUP BY occup\n",
    "ORDER BY occup\n",
    "\"\"\").show()"
   ]
  },
  {
   "cell_type": "code",
   "execution_count": 95,
   "metadata": {},
   "outputs": [
    {
     "name": "stdout",
     "output_type": "stream",
     "text": [
      "+-------+-----+\n",
      "|i94addr|COUNT|\n",
      "+-------+-----+\n",
      "|   null|87458|\n",
      "|     ..|    3|\n",
      "|     .C|    1|\n",
      "|     .I|    1|\n",
      "|     .N|    3|\n",
      "|     .T|    4|\n",
      "|      0|    7|\n",
      "|     10|    1|\n",
      "|     20|    1|\n",
      "|     33|    1|\n",
      "|     70|    1|\n",
      "|     99|   15|\n",
      "|     AA|  101|\n",
      "|     AE|    7|\n",
      "|     AK| 1121|\n",
      "|     AL| 5963|\n",
      "|     AN|   84|\n",
      "|     AO|    1|\n",
      "|     AP|    8|\n",
      "|     AQ|    4|\n",
      "+-------+-----+\n",
      "only showing top 20 rows\n",
      "\n"
     ]
    }
   ],
   "source": [
    "spark.sql(\"\"\"\n",
    "SELECT i94addr, count(*) as COUNT\n",
    "FROM immigration_tbl\n",
    "GROUP BY i94addr\n",
    "ORDER BY i94addr\n",
    "\"\"\").show()"
   ]
  },
  {
   "cell_type": "markdown",
   "metadata": {},
   "source": [
    "The occup field and i94addr have large amount of data missing, and their values are coded in way that is not useful; thus,these column may  not be part of the data model."
   ]
  },
  {
   "cell_type": "code",
   "execution_count": 89,
   "metadata": {},
   "outputs": [
    {
     "name": "stdout",
     "output_type": "stream",
     "text": [
      "+---------+--------+--------+\n",
      "|visa_type|visatype|count(1)|\n",
      "+---------+--------+--------+\n",
      "| Business|      B1|  182161|\n",
      "| Business|      E1|    3027|\n",
      "| Business|      E2|   15153|\n",
      "| Business|     GMB|     132|\n",
      "| Business|       I|    2931|\n",
      "| Business|      I1|     211|\n",
      "| Business|      WB|  183877|\n",
      "| Pleasure|      B2|  931439|\n",
      "| Pleasure|      CP|   11607|\n",
      "| Pleasure|     CPL|       8|\n",
      "| Pleasure|     GMT|   79354|\n",
      "| Pleasure|     SBP|       2|\n",
      "| Pleasure|      WT| 1028526|\n",
      "|  Student|      F1|   24597|\n",
      "|  Student|      F2|    1622|\n",
      "|  Student|      M1|     679|\n",
      "|  Student|      M2|      28|\n",
      "+---------+--------+--------+\n",
      "\n"
     ]
    }
   ],
   "source": [
    "spark.sql(\"\"\"\n",
    "SELECT visa_type, visatype, count(*)\n",
    "FROM immigration_tbl\n",
    "GROUP BY visa_type, visatype\n",
    "ORDER BY visa_type, visatype\n",
    "\"\"\").show()"
   ]
  },
  {
   "cell_type": "code",
   "execution_count": 49,
   "metadata": {},
   "outputs": [],
   "source": [
    "df_spark = spark.sql(\"\"\"SELECT * FROM immigration_tbl\"\"\")"
   ]
  },
  {
   "cell_type": "markdown",
   "metadata": {},
   "source": [
    "### Step 3: Define the Data Model"
   ]
  },
  {
   "cell_type": "code",
   "execution_count": null,
   "metadata": {},
   "outputs": [],
   "source": [
    "<div align= \"justify\">Schema on read refers to an innovative data analysis strategy in new data-handling tools and other more involved database technologies. In schema on read, data is applied to a plan or schema as it is pulled out of a stored location, rather than as it goes in. More and more these days, data is a shared asset among groups of people with differing roles and differing interests who want to get different insights from that data; this approach is especially beneficial When delaing with increasingly large volume of data such as the immigration dataset in this project. With schema-on-read data can be presented in a schema that is adapted best to the queries being issued rather than being limited by a one-size-fits-all schema.</div>"
   ]
  },
  {
   "cell_type": "code",
   "execution_count": null,
   "metadata": {},
   "outputs": [],
   "source": [
    "<img align=\"left\" src=\"DBdiagram.png\" >"
   ]
  },
  {
   "cell_type": "code",
   "execution_count": null,
   "metadata": {},
   "outputs": [],
   "source": [
    "#### 3.1 Conceptual Data Model\n",
    "\n",
    "The fact table is immigration_fact, and includes the following fields:\n",
    "    \n",
    "* cicid\n",
    "* citizenship_country\n",
    "* residence_country\n",
    "* city\n",
    "* state\n",
    "* arrival_date\n",
    "* departure_date\n",
    "* age\n",
    "* visa_type\n",
    "* detailed_visa_type\n",
    "\n",
    "Dimension tables are time_dim, airport_dim, demographic_dim, temperature_dim, and includes the following fields:\n",
    "\n",
    "**time_dim** (aggretate data by time)\n",
    "* date \n",
    "* year \n",
    "* month \n",
    "* day \n",
    "* week\n",
    "* weekday\n",
    "* year_day\n",
    "\n",
    "**airport_dim** (determines area flow of travellers)\n",
    "* ident\n",
    "* type \n",
    "* name, \n",
    "* elevation_ft \n",
    "* state\n",
    "* municipality \n",
    "* iata_code\n",
    "\n",
    "**demographic_dim** (travellers origin areas demographic)\n",
    "* City \n",
    "* State \n",
    "* median_age \n",
    "* male_population \n",
    "* female_population \n",
    "* total population\n",
    "* foreign_born \n",
    "* average_Household_Size \n",
    "* state_code\n",
    "* Race \n",
    "* Count\n",
    "\n",
    "**temperature_dim**: (temperature data)\n",
    "* date \n",
    "* city\n",
    "* average temperature \n",
    "* average temperature uncertainty \n",
    "\n",
    "\n",
    "#### 3.2 Mapping Out Data Pipelines\n",
    "\n",
    "Most steps to clean the data have been described in section 2.\n",
    "##### Data Extraction:\n",
    "* Load all the datasets from CSV and SAS data files;\n",
    "\n",
    "##### Data Transformation and Loading:\n",
    "\n",
    "##### immigration_fact :\n",
    "* Dropping rows where the mode of arrival is not air travel\n",
    "* Dropping rows with incorrect gender data\n",
    "* Converting arrival and departure dates\n",
    "* Replacing country codes with string equivalents\n",
    "* Replacing visa_type with character string\n",
    "* Replacing port of entry with city and state\n",
    "* Dropping non US port of entry rows\n",
    "* Computing age in a new row using birth year and year of our current date\n",
    "* Inserting into fact table\n",
    "* Write to parquet\n",
    "\n",
    "##### temperature_dim:\n",
    "* Dropping all data for cities outside the US\n",
    "* Droppingtemperature table, drop all data for dates before 1950 \n",
    "* Converting city to upper case\n",
    "* Computing the average temperature and uncertainty over date+city partitions\n",
    "* Inserting into the temperature table\n",
    "* Writing to parquet\n",
    "\n",
    "##### time_dim:\n",
    "* Extracting arrival dates from the immigration dataset;\n",
    "* Extracting year, month, day, week and inserting it time_dim \n",
    "* Write to parquet\n",
    "\n",
    "##### airport_dim:\n",
    "* Removing non US airports\n",
    "* Removing non usable port of entries such as <b>closed, heliport, seaplane_base, balloonport</b>\n",
    "* Removing rows with  missing municipalities\n",
    "* Converting municipalities to upper case\n",
    "* Inserting into table\n",
    "* Writing to parquet\n",
    "\n",
    "##### demographic_dim:\n",
    "* Converting city names to upper case\n",
    "* Inserting into table\n",
    "* Writing to parquet"
   ]
  },
  {
   "cell_type": "markdown",
   "metadata": {},
   "source": [
    "### Step 4: Run Pipelines to Model the Data \n",
    "#### 4.1 Create the data model\n",
    "Build the data pipelines to create the data model."
   ]
  },
  {
   "cell_type": "code",
   "execution_count": 50,
   "metadata": {},
   "outputs": [],
   "source": [
    "spark_df_demographic = spark.read.format(\"csv\").option(\"header\",\"true\").option(\"delimiter\",\";\").load('us-cities-demographics.csv')"
   ]
  },
  {
   "cell_type": "code",
   "execution_count": 51,
   "metadata": {},
   "outputs": [
    {
     "name": "stdout",
     "output_type": "stream",
     "text": [
      "root\n",
      " |-- City: string (nullable = true)\n",
      " |-- State: string (nullable = true)\n",
      " |-- Median Age: string (nullable = true)\n",
      " |-- Male Population: string (nullable = true)\n",
      " |-- Female Population: string (nullable = true)\n",
      " |-- Total Population: string (nullable = true)\n",
      " |-- Number of Veterans: string (nullable = true)\n",
      " |-- Foreign-born: string (nullable = true)\n",
      " |-- Average Household Size: string (nullable = true)\n",
      " |-- State Code: string (nullable = true)\n",
      " |-- Race: string (nullable = true)\n",
      " |-- Count: string (nullable = true)\n",
      "\n"
     ]
    }
   ],
   "source": [
    "spark_df_demographic.printSchema()"
   ]
  },
  {
   "cell_type": "code",
   "execution_count": 52,
   "metadata": {},
   "outputs": [
    {
     "name": "stdout",
     "output_type": "stream",
     "text": [
      "root\n",
      " |-- City: string (nullable = true)\n",
      " |-- State: string (nullable = true)\n",
      " |-- Median Age: double (nullable = true)\n",
      " |-- Male Population: double (nullable = true)\n",
      " |-- Female Population: double (nullable = true)\n",
      " |-- Total Population: long (nullable = true)\n",
      " |-- Number of Veterans: double (nullable = true)\n",
      " |-- Foreign-born: double (nullable = true)\n",
      " |-- Average Household Size: double (nullable = true)\n",
      " |-- State Code: string (nullable = true)\n",
      " |-- Race: string (nullable = true)\n",
      " |-- Count: long (nullable = true)\n",
      "\n"
     ]
    }
   ],
   "source": [
    "spark.createDataFrame(demographic_df).printSchema()"
   ]
  },
  {
   "cell_type": "markdown",
   "metadata": {},
   "source": [
    "#### Staging data"
   ]
  },
  {
   "cell_type": "code",
   "execution_count": 53,
   "metadata": {},
   "outputs": [],
   "source": [
    "# loading dictionaries\n",
    "countryCodes_df = pd.read_csv('countries.csv')\n",
    "i94portCodes_df = pd.read_csv('i94ports_coding.csv')\n",
    "\n",
    "# loading CSV files into pandas dataframes\n",
    "demographics_df = pd.read_csv('us-cities-demographics.csv', sep=';')\n",
    "temperatures_df = pd.read_csv('../../data2/GlobalLandTemperaturesByCity.csv')\n",
    "\n",
    "# loading SAS data\n",
    "df_immigration=spark.read.parquet(\"sas_data\")"
   ]
  },
  {
   "cell_type": "code",
   "execution_count": 54,
   "metadata": {},
   "outputs": [],
   "source": [
    "#Converting dictionaries to Spark\n",
    "spark_df_countryCodes = spark.createDataFrame(countryCodes_df)\n",
    "spark_df_countryCodes .createOrReplaceTempView(\"countryCodes\")"
   ]
  },
  {
   "cell_type": "code",
   "execution_count": 55,
   "metadata": {},
   "outputs": [],
   "source": [
    "#removing null values entries\n",
    "i94portCodes_df = i94portCodes_df[~i94portCodes_df['state'].isna()].copy()"
   ]
  },
  {
   "cell_type": "code",
   "execution_count": 56,
   "metadata": {},
   "outputs": [],
   "source": [
    "# List of non US countries/territories\n",
    "non_US = ['ARGENTINA',\n",
    " 'BAHAMAS',\n",
    " 'BERMUDA',\n",
    " 'BRAZIL',\n",
    " 'CANADA',\n",
    " 'CAYMAN ISLAND',\n",
    " 'COLOMBIA',\n",
    " 'Canada',\n",
    " 'ECUADOR',\n",
    " 'EL SALVADOR',\n",
    " 'ENGLAND',\n",
    " 'ETHIOPIA',\n",
    " 'GABON',\n",
    " 'INDONESIA',\n",
    " 'IRELAND',\n",
    " 'ITALY',\n",
    " 'JAPAN',\n",
    " 'KENYA',\n",
    " 'MEXICO',\n",
    " 'MX',\n",
    " 'NETH ANTILLES',\n",
    " 'NETHERLANDS',\n",
    " 'NEW GUINEA',\n",
    " 'PANAMA',\n",
    " 'PRC',\n",
    " 'ROMANIA',\n",
    " 'SEOUL KOREA',\n",
    " 'SOUTH AFRICA',\n",
    " 'THAILAND',\n",
    " 'TURK & CAIMAN',\n",
    " 'URUGUAY']"
   ]
  },
  {
   "cell_type": "code",
   "execution_count": 57,
   "metadata": {},
   "outputs": [],
   "source": [
    "#Exluding non_US countries.\n",
    "i94portCodes_df = i94portCodes_df[~i94portCodes_df['state'].isin(non_US)].copy()"
   ]
  },
  {
   "cell_type": "code",
   "execution_count": 58,
   "metadata": {},
   "outputs": [],
   "source": [
    "spark_df_i94portCodes = spark.createDataFrame(i94portCodes_df)\n",
    "spark_df_i94portCodes .createOrReplaceTempView(\"i94portCodes\")"
   ]
  },
  {
   "cell_type": "code",
   "execution_count": 59,
   "metadata": {},
   "outputs": [],
   "source": [
    "df_immigration.createOrReplaceTempView(\"immigration_table\")"
   ]
  },
  {
   "cell_type": "code",
   "execution_count": 60,
   "metadata": {},
   "outputs": [],
   "source": [
    "# Remove non air-travel entries  \n",
    "spark.sql(\"\"\"\n",
    "SELECT *\n",
    "FROM immigration_table\n",
    "WHERE i94mode = 1\n",
    "\"\"\").createOrReplaceTempView(\"immigration_table\")"
   ]
  },
  {
   "cell_type": "code",
   "execution_count": 61,
   "metadata": {},
   "outputs": [],
   "source": [
    "# dropping undifned gender rows\n",
    "spark.sql(\"\"\"SELECT * FROM immigration_table WHERE gender IN ('F', 'M')\"\"\").createOrReplaceTempView(\"immigration_table\")"
   ]
  },
  {
   "cell_type": "code",
   "execution_count": 62,
   "metadata": {},
   "outputs": [],
   "source": [
    "# converting  the arrival dates to_date\n",
    "spark.sql(\"SELECT *, date_add(to_date('1960-01-01'), arrdate) AS arrival_date FROM immigration_table\").createOrReplaceTempView(\"immigration_table\")"
   ]
  },
  {
   "cell_type": "code",
   "execution_count": 63,
   "metadata": {},
   "outputs": [],
   "source": [
    "# converting the departure dates\n",
    "spark.sql(\"\"\"SELECT *, CASE \n",
    "                        WHEN depdate >= 1.0 THEN date_add(to_date('1960-01-01'), depdate)\n",
    "                        WHEN depdate IS NULL THEN NULL\n",
    "                        ELSE 'N/A' END AS departure_date \n",
    "                        \n",
    "                FROM immigration_table\"\"\").createOrReplaceTempView(\"immigration_table\")"
   ]
  },
  {
   "cell_type": "code",
   "execution_count": 64,
   "metadata": {},
   "outputs": [],
   "source": [
    "# dropping invalid country of citizenship codes\n",
    "spark.sql(\"\"\"\n",
    "SELECT imd.*, cit.country AS citizenship_country\n",
    "FROM immigration_table imd\n",
    "INNER JOIN countryCodes cit\n",
    "ON imd.i94cit = cit.code\n",
    "\"\"\").createOrReplaceTempView(\"immigration_table\")"
   ]
  },
  {
   "cell_type": "code",
   "execution_count": 65,
   "metadata": {},
   "outputs": [],
   "source": [
    "# dropping invalid residence codes\n",
    "spark.sql(\"\"\"\n",
    "SELECT imd.*, cit.country AS residence_country\n",
    "FROM immigration_table imd\n",
    "INNER JOIN countryCodes cit\n",
    "ON imd.i94res = cit.code\n",
    "\"\"\").createOrReplaceTempView(\"immigration_table\")"
   ]
  },
  {
   "cell_type": "code",
   "execution_count": 66,
   "metadata": {},
   "outputs": [],
   "source": [
    "# Casting visa codes\n",
    "spark.sql(\"\"\"SELECT *, CASE \n",
    "                        WHEN i94visa = 1.0 THEN 'Business' \n",
    "                        WHEN i94visa = 2.0 THEN 'Pleasure'\n",
    "                        WHEN i94visa = 3.0 THEN 'Student'\n",
    "                        ELSE 'N/A' END AS visa_type \n",
    "                        \n",
    "                FROM immigration_table\"\"\").createOrReplaceTempView(\"immigration_table\")"
   ]
  },
  {
   "cell_type": "code",
   "execution_count": 67,
   "metadata": {},
   "outputs": [],
   "source": [
    "# Adding entry_port names and entry port states\n",
    "spark.sql(\"\"\"\n",
    "SELECT imd.*, pc.location AS entry_port, pc.state AS entry_port_state\n",
    "FROM immigration_table imd \n",
    "INNER JOIN i94portCodes pc\n",
    "ON imd.i94port = pc.code\n",
    "\"\"\").createOrReplaceTempView(\"immigration_table\")"
   ]
  },
  {
   "cell_type": "code",
   "execution_count": 68,
   "metadata": {},
   "outputs": [],
   "source": [
    "# Computing age\n",
    "spark.sql(\"\"\"\n",
    "SELECT *, (2016-biryear) AS age \n",
    "FROM immigration_table\n",
    "\"\"\").createOrReplaceTempView(\"immigration_table\")"
   ]
  },
  {
   "cell_type": "code",
   "execution_count": 69,
   "metadata": {},
   "outputs": [],
   "source": [
    "# Inserting fact table data into spark dataframe\n",
    "immigration_fact = spark.sql(\"\"\"\n",
    "                        SELECT \n",
    "                            cicid, \n",
    "                            citizenship_country,\n",
    "                            residence_country,\n",
    "                            TRIM(UPPER (entry_port)) AS city,\n",
    "                            TRIM(UPPER (entry_port_state)) AS state,\n",
    "                            arrival_date,\n",
    "                            departure_date,\n",
    "                            age,\n",
    "                            visa_type,\n",
    "                            visatype AS detailed_visa_type\n",
    "\n",
    "                        FROM immigration_table\n",
    "\"\"\")"
   ]
  },
  {
   "cell_type": "code",
   "execution_count": 70,
   "metadata": {},
   "outputs": [
    {
     "name": "stdout",
     "output_type": "stream",
     "text": [
      "+---------+-------------------+-----------------+------+-----+------------+--------------+----+---------+------------------+\n",
      "|    cicid|citizenship_country|residence_country|  city|state|arrival_date|departure_date| age|visa_type|detailed_visa_type|\n",
      "+---------+-------------------+-----------------+------+-----+------------+--------------+----+---------+------------------+\n",
      "|4041803.0|            GERMANY|          GERMANY|BANGOR|   ME|  2016-04-22|    2016-05-07|49.0| Business|                B1|\n",
      "|4041804.0|            GERMANY|          GERMANY|BANGOR|   ME|  2016-04-22|          null|38.0| Business|                B1|\n",
      "+---------+-------------------+-----------------+------+-----+------------+--------------+----+---------+------------------+\n",
      "only showing top 2 rows\n",
      "\n"
     ]
    }
   ],
   "source": [
    "immigration_fact.show(2)"
   ]
  },
  {
   "cell_type": "code",
   "execution_count": 71,
   "metadata": {},
   "outputs": [],
   "source": [
    "# extracting distinct dates from arrival and departure to create time_dim table\n",
    "dim_time = spark.sql(\"\"\"\n",
    "SELECT DISTINCT arrival_date AS date\n",
    "FROM immigration_table\n",
    "UNION\n",
    "SELECT DISTINCT departure_date AS date\n",
    "FROM immigration_table\n",
    "WHERE departure_date IS NOT NULL\n",
    "\"\"\")\n",
    "dim_time.createOrReplaceTempView(\"time_dim\")"
   ]
  },
  {
   "cell_type": "code",
   "execution_count": 72,
   "metadata": {},
   "outputs": [],
   "source": [
    "# Extracting year, month, day, weekofyear, dayofweek and weekofyear\n",
    "time_dim = spark.sql(\"\"\"\n",
    "SELECT date, YEAR(date) AS year, MONTH(date) AS month, DAY(date) AS day, WEEKOFYEAR(date) AS week, DAYOFWEEK(date) as weekday, DAYOFYEAR(date) year_day\n",
    "FROM time_dim\n",
    "ORDER BY date ASC\n",
    "\"\"\")"
   ]
  },
  {
   "cell_type": "code",
   "execution_count": 73,
   "metadata": {},
   "outputs": [
    {
     "name": "stdout",
     "output_type": "stream",
     "text": [
      "+----------+----+-----+---+----+-------+--------+\n",
      "|      date|year|month|day|week|weekday|year_day|\n",
      "+----------+----+-----+---+----+-------+--------+\n",
      "|2012-04-12|2012|    4| 12|  15|      5|     103|\n",
      "|2015-05-18|2015|    5| 18|  21|      2|     138|\n",
      "+----------+----+-----+---+----+-------+--------+\n",
      "only showing top 2 rows\n",
      "\n"
     ]
    }
   ],
   "source": [
    "time_dim.show(2)"
   ]
  },
  {
   "cell_type": "code",
   "execution_count": 74,
   "metadata": {},
   "outputs": [],
   "source": [
    "# Excluding non US data\n",
    "temperature_df = temperature_df[temperature_df['Country']=='United States'].copy()\n",
    "\n",
    "# Converting date column to datetime objects\n",
    "temperature_df['date'] = pd.to_datetime(temperature_df.dt)\n",
    "\n",
    "# Removind datapoints before 1950\n",
    "temperature_df= temperature_df[temperature_df['date']>\"1950-01-01\"].copy()"
   ]
  },
  {
   "cell_type": "code",
   "execution_count": 75,
   "metadata": {},
   "outputs": [],
   "source": [
    "# Removing white space and converting to upper case\n",
    "temperature_df['City'] = temperature_df['City'].str.strip().str.upper()"
   ]
  },
  {
   "cell_type": "code",
   "execution_count": 76,
   "metadata": {},
   "outputs": [],
   "source": [
    "# converting to Spark\n",
    "spark_df_temperature = spark.createDataFrame(temperature_df)\n",
    "spark_df_temperature .createOrReplaceTempView(\"temperature\")"
   ]
  },
  {
   "cell_type": "code",
   "execution_count": 77,
   "metadata": {},
   "outputs": [],
   "source": [
    "temperature_dim = spark.sql(\"\"\"\n",
    "SELECT\n",
    "    DISTINCT date, city,\n",
    "    AVG(AverageTemperature) OVER (PARTITION BY date, City) AS average_temperature, \n",
    "    AVG(AverageTemperatureUncertainty)  OVER (PARTITION BY date, City) AS average_termperature_uncertainty\n",
    "    \n",
    "FROM temperature\n",
    "\"\"\")"
   ]
  },
  {
   "cell_type": "code",
   "execution_count": 79,
   "metadata": {},
   "outputs": [
    {
     "name": "stdout",
     "output_type": "stream",
     "text": [
      "root\n",
      " |-- date: timestamp (nullable = true)\n",
      " |-- city: string (nullable = true)\n",
      " |-- average_temperature: double (nullable = true)\n",
      " |-- average_termperature_uncertainty: double (nullable = true)\n",
      "\n"
     ]
    }
   ],
   "source": [
    "temperature_dim.printSchema()"
   ]
  },
  {
   "cell_type": "code",
   "execution_count": 80,
   "metadata": {},
   "outputs": [],
   "source": [
    "# Cleaning dempographic_df dataframe\n",
    "demographic_df['City'] = demographic_df.City.str.strip().str.upper()\n",
    "demographic_df['State Code'] = demographic_df['State Code'].str.strip().str.upper()\n",
    "demographic_df.Race = demographic_df.Race.str.strip().str.upper()"
   ]
  },
  {
   "cell_type": "code",
   "execution_count": 81,
   "metadata": {},
   "outputs": [],
   "source": [
    "# Converting to Spark\n",
    "spark_df_demographics = spark.createDataFrame(demographic_df)\n",
    "spark_df_demographics.createOrReplaceTempView(\"demographics\")"
   ]
  },
  {
   "cell_type": "code",
   "execution_count": 82,
   "metadata": {},
   "outputs": [],
   "source": [
    "# Inserting data into dempgraphic_dim\n",
    "demographic_dim = spark.sql(\"\"\"\n",
    "                                SELECT  City, \n",
    "                                        State, \n",
    "                                        `Median Age` AS median_age, \n",
    "                                        `Male Population` AS male_population, \n",
    "                                        `Female Population` AS female_population, \n",
    "                                        `Total Population` AS total_population, \n",
    "                                        `Foreign-born` AS foreign_born, \n",
    "                                        `Average Household Size` AS average_household_size, \n",
    "                                        `State Code` AS state_code, \n",
    "                                        Race, \n",
    "                                        Count\n",
    "                                FROM demographics\n",
    "\"\"\")"
   ]
  },
  {
   "cell_type": "code",
   "execution_count": 83,
   "metadata": {},
   "outputs": [
    {
     "name": "stdout",
     "output_type": "stream",
     "text": [
      "root\n",
      " |-- City: string (nullable = true)\n",
      " |-- State: string (nullable = true)\n",
      " |-- median_age: double (nullable = true)\n",
      " |-- male_population: double (nullable = true)\n",
      " |-- female_population: double (nullable = true)\n",
      " |-- total_population: long (nullable = true)\n",
      " |-- foreign_born: double (nullable = true)\n",
      " |-- average_household_size: double (nullable = true)\n",
      " |-- state_code: string (nullable = true)\n",
      " |-- Race: string (nullable = true)\n",
      " |-- Count: long (nullable = true)\n",
      "\n"
     ]
    }
   ],
   "source": [
    "demographic_dim.printSchema()"
   ]
  },
  {
   "cell_type": "code",
   "execution_count": 84,
   "metadata": {},
   "outputs": [],
   "source": [
    "#Loading airports data\n",
    "spark_df_airports = spark.read.format(\"csv\").option(\"header\", \"true\").load('airport-codes_csv.csv')\n",
    "spark_df_airports.createOrReplaceTempView(\"airports\")"
   ]
  },
  {
   "cell_type": "code",
   "execution_count": 85,
   "metadata": {},
   "outputs": [],
   "source": [
    "#Cleaning data\n",
    "spark.sql(\"\"\"\n",
    "SELECT *\n",
    "FROM airports\n",
    "WHERE iso_country IS NOT NULL\n",
    "AND UPPER(TRIM(iso_country)) LIKE 'US'\n",
    "\"\"\").createOrReplaceTempView(\"airports\")"
   ]
  },
  {
   "cell_type": "code",
   "execution_count": 86,
   "metadata": {},
   "outputs": [],
   "source": [
    "# Cleaning data\n",
    "spark.sql(\"\"\"\n",
    "SELECT *\n",
    "FROM airports\n",
    "WHERE LOWER(TRIM(type)) NOT IN ('closed', 'heliport', 'seaplane_base', 'balloonport')\n",
    "AND municipality IS NOT NULL\n",
    "AND LENGTH(iso_region) = 5\n",
    "\"\"\").createOrReplaceTempView(\"airports\")"
   ]
  },
  {
   "cell_type": "code",
   "execution_count": 87,
   "metadata": {},
   "outputs": [],
   "source": [
    "airport_dim = spark.sql(\"\"\"\n",
    "SELECT TRIM(ident) AS ident, type, name, elevation_ft, SUBSTR(iso_region, 4) AS state, TRIM(UPPER(municipality)) AS municipality, iata_code\n",
    "FROM airports\n",
    "\"\"\")"
   ]
  },
  {
   "cell_type": "code",
   "execution_count": 88,
   "metadata": {},
   "outputs": [
    {
     "name": "stdout",
     "output_type": "stream",
     "text": [
      "root\n",
      " |-- ident: string (nullable = true)\n",
      " |-- type: string (nullable = true)\n",
      " |-- name: string (nullable = true)\n",
      " |-- elevation_ft: string (nullable = true)\n",
      " |-- state: string (nullable = true)\n",
      " |-- municipality: string (nullable = true)\n",
      " |-- iata_code: string (nullable = true)\n",
      "\n"
     ]
    }
   ],
   "source": [
    "airport_dim.printSchema()"
   ]
  },
  {
   "cell_type": "code",
   "execution_count": 89,
   "metadata": {},
   "outputs": [
    {
     "name": "stdout",
     "output_type": "stream",
     "text": [
      "+-----+-------------+--------------------+------------+-----+------------+---------+\n",
      "|ident|         type|                name|elevation_ft|state|municipality|iata_code|\n",
      "+-----+-------------+--------------------+------------+-----+------------+---------+\n",
      "| 00AA|small_airport|Aero B Ranch Airport|        3435|   KS|       LEOTI|     null|\n",
      "| 00AK|small_airport|        Lowell Field|         450|   AK|ANCHOR POINT|     null|\n",
      "+-----+-------------+--------------------+------------+-----+------------+---------+\n",
      "only showing top 2 rows\n",
      "\n"
     ]
    }
   ],
   "source": [
    "airport_dim.show(2)"
   ]
  },
  {
   "cell_type": "code",
   "execution_count": null,
   "metadata": {},
   "outputs": [],
   "source": [
    "# Saving the data in parquet format\n",
    "demographic_dim.write.parquet(\"demographic_dim\")\n",
    "time_dim.write.parquet(\"time_dim\")\n",
    "airport_dim.write.parquet(\"airport_dim\")\n",
    "temperature_dim.write.parquet(\"temperature_dim\")\n",
    "immigration_fact.write.parquet(\"immigration_fact\")"
   ]
  },
  {
   "cell_type": "markdown",
   "metadata": {},
   "source": [
    "#### 4.2 Data Quality Checks\n",
    "Explain the data quality checks you'll perform to ensure the pipeline ran as expected. These could include:\n",
    " * Integrity constraints on the relational database (e.g., unique key, data type, etc.)\n",
    " * Unit tests for the scripts to ensure they are doing the right thing\n",
    " * Source/Count checks to ensure completeness\n",
    " \n",
    "Run Quality Checks"
   ]
  },
  {
   "cell_type": "markdown",
   "metadata": {},
   "source": [
    "##### Performing two automated quality checks on missing values and number of rows."
   ]
  },
  {
   "cell_type": "code",
   "execution_count": 130,
   "metadata": {},
   "outputs": [],
   "source": [
    "# Loading data for data checks\n",
    "demographic_dim.createOrReplaceTempView(\"demographic_dim\")\n",
    "time_dim.createOrReplaceTempView(\"time_dim\")\n",
    "airport_dim.createOrReplaceTempView(\"airport_dim\")\n",
    "temperature_dim.createOrReplaceTempView(\"temperature_dim\")\n",
    "immigration_fact.createOrReplaceTempView(\"immigration_fact\")"
   ]
  },
  {
   "cell_type": "code",
   "execution_count": 131,
   "metadata": {},
   "outputs": [],
   "source": [
    "def null_check(spark_c, table):\n",
    "    \"\"\"\n",
    "    Function performs null vchecks on columns received as parameters and raises a ValueError exception when null values are encountered.\n",
    "    Parameters:\n",
    "    spark: where the data quality check is to be performed\n",
    "    tables_to_check: A dictionary containing (table, columns) pairs specifying for each table, which column is to be checked for null values.   \n",
    "    \"\"\"  \n",
    "    for table in tables_to_check:\n",
    "        print(f\"Performing data quality check on table {table}...\")\n",
    "        for column in tables_to_check[table]:\n",
    "            returnedVal = spark_c.sql(f\"\"\"SELECT COUNT(*) as nbr FROM {table} WHERE {column} IS NULL\"\"\")\n",
    "            if returnedVal.head()[0] > 0:\n",
    "                raise ValueError(f\"Data quality check failed! Found NULL values in {column} column!\")\n",
    "        print(f\"Table {table} passed.\")"
   ]
  },
  {
   "cell_type": "code",
   "execution_count": 132,
   "metadata": {},
   "outputs": [
    {
     "name": "stdout",
     "output_type": "stream",
     "text": [
      "Performing data quality check on table immigration_fact...\n",
      "Table immigration_fact passed.\n",
      "Performing data quality check on table time_dim...\n",
      "Table time_dim passed.\n",
      "Performing data quality check on table demographic_dim...\n",
      "Table demographic_dim passed.\n",
      "Performing data quality check on table airport_dim...\n",
      "Table airport_dim passed.\n",
      "Performing data quality check on table temperature_dim...\n",
      "Table temperature_dim passed.\n"
     ]
    }
   ],
   "source": [
    "#dictionary of tables and columns to be checked\n",
    "tables_to_check = { 'immigration_fact' : ['cicid'], 'time_dim':['date'], 'demographic_dim': ['City','state_code'], 'airport_dim':['ident'], 'temperature_dim':['date','City']}\n",
    "\n",
    "#We call our function on the spark context\n",
    "null_check(spark, tables_to_check)"
   ]
  },
  {
   "cell_type": "code",
   "execution_count": 146,
   "metadata": {},
   "outputs": [],
   "source": [
    "def number_of_rows_check(spark_ctxt, tables_to_check):\n",
    "    \"\"\"\n",
    "    This function performs a check on number of rows of given tables to ensure it matches what is expected.\n",
    "    It receives the following parameters:\n",
    "    spark_ctxt: spark context where the data quality check is to be performed\n",
    "    tables_to_check: A dictionary containing (table, expected row counts) \n",
    "    \"\"\"  \n",
    "    for table in tables_to_check:\n",
    "        print(f\"Performing data quality check on table {table}...\")\n",
    "        for column in tables_to_check[table]:\n",
    "            returnedVal = spark_ctxt.sql(f\"\"\"SELECT COUNT(*) - {column} as nbr FROM {table} \"\"\")\n",
    "            if returnedVal.head()[0] > 0:\n",
    "                print(f\"Data quality check failed for {table}!\")\n",
    "            else:\n",
    "                print(f\"Table {table} passed number of rows quality check.\")"
   ]
  },
  {
   "cell_type": "code",
   "execution_count": 154,
   "metadata": {},
   "outputs": [],
   "source": [
    "tables_to_check = { 'time_dim' : [192],'airport_dim':[14529],'temperature_dim':[189472],'demographic_dim':[2891]}"
   ]
  },
  {
   "cell_type": "code",
   "execution_count": 155,
   "metadata": {},
   "outputs": [
    {
     "name": "stdout",
     "output_type": "stream",
     "text": [
      "Performing data quality check on table time_dim...\n",
      "Table time_dim passed number of rows quality check.\n",
      "Performing data quality check on table airport_dim...\n",
      "Table airport_dim passed number of rows quality check.\n",
      "Performing data quality check on table temperature_dim...\n",
      "Table temperature_dim passed number of rows quality check.\n",
      "Performing data quality check on table demographic_dim...\n",
      "Table demographic_dim passed number of rows quality check.\n"
     ]
    }
   ],
   "source": [
    "number_of_rows_check(spark,tables_to_check)"
   ]
  },
  {
   "cell_type": "markdown",
   "metadata": {},
   "source": [
    "Completing more manual quality checks"
   ]
  },
  {
   "cell_type": "code",
   "execution_count": 158,
   "metadata": {},
   "outputs": [
    {
     "name": "stdout",
     "output_type": "stream",
     "text": [
      "+--------------------------------------------+\n",
      "|(count(DISTINCT date) - CAST(192 AS BIGINT))|\n",
      "+--------------------------------------------+\n",
      "|                                           0|\n",
      "+--------------------------------------------+\n",
      "\n"
     ]
    }
   ],
   "source": [
    "# checking  distinct date key \n",
    "spark.sql(\"\"\"\n",
    "SELECT COUNT(DISTINCT date) - 192\n",
    "FROM time_dim\n",
    "\"\"\").show()"
   ]
  },
  {
   "cell_type": "code",
   "execution_count": 159,
   "metadata": {},
   "outputs": [
    {
     "name": "stdout",
     "output_type": "stream",
     "text": [
      "+----+\n",
      "|date|\n",
      "+----+\n",
      "+----+\n",
      "\n"
     ]
    }
   ],
   "source": [
    "# checking fact table and time_dim to ensure all dates match\n",
    "spark.sql(\"\"\"\n",
    "SELECT DISTINCT date\n",
    "FROM time_dim\n",
    "\n",
    "MINUS\n",
    "\n",
    "(SELECT DISTINCT arrival_date AS date\n",
    "FROM immigration_table\n",
    "UNION\n",
    "SELECT DISTINCT departure_date AS date\n",
    "FROM immigration_table\n",
    "WHERE departure_date IS NOT NULL)\n",
    "\n",
    "\"\"\").show()"
   ]
  },
  {
   "cell_type": "code",
   "execution_count": 160,
   "metadata": {},
   "outputs": [
    {
     "name": "stdout",
     "output_type": "stream",
     "text": [
      "+-------------------------------------------------+\n",
      "|(count(DISTINCT cicid) - CAST(2165257 AS BIGINT))|\n",
      "+-------------------------------------------------+\n",
      "|                                                0|\n",
      "+-------------------------------------------------+\n",
      "\n"
     ]
    }
   ],
   "source": [
    "#checking distinct counts\n",
    "spark.sql(\"\"\"\n",
    "SELECT count(distinct cicid) - 2165257\n",
    "FROM immigration_table\n",
    "\"\"\").show()"
   ]
  },
  {
   "cell_type": "code",
   "execution_count": 161,
   "metadata": {},
   "outputs": [
    {
     "name": "stdout",
     "output_type": "stream",
     "text": [
      "+-------------------------------------------------+\n",
      "|(count(DISTINCT cicid) - CAST(2165257 AS BIGINT))|\n",
      "+-------------------------------------------------+\n",
      "|                                                0|\n",
      "+-------------------------------------------------+\n",
      "\n"
     ]
    }
   ],
   "source": [
    "spark.sql(\"\"\"\n",
    "SELECT count(distinct cicid) - 2165257\n",
    "FROM immigration_fact\n",
    "\"\"\").show()"
   ]
  },
  {
   "cell_type": "code",
   "execution_count": 162,
   "metadata": {},
   "outputs": [
    {
     "name": "stdout",
     "output_type": "stream",
     "text": [
      "+------------------------------------+\n",
      "|(count(1) - CAST(2165257 AS BIGINT))|\n",
      "+------------------------------------+\n",
      "|                                   0|\n",
      "+------------------------------------+\n",
      "\n"
     ]
    }
   ],
   "source": [
    "spark.sql(\"\"\"\n",
    "SELECT count(*) - 2165257\n",
    "FROM immigration_fact\n",
    "\"\"\").show()\n",
    "\n"
   ]
  },
  {
   "cell_type": "code",
   "execution_count": 163,
   "metadata": {},
   "outputs": [
    {
     "name": "stdout",
     "output_type": "stream",
     "text": [
      "+----------------------------------------------------------+\n",
      "|(count(DISTINCT city, state, race) - CAST(2891 AS BIGINT))|\n",
      "+----------------------------------------------------------+\n",
      "|                                                         0|\n",
      "+----------------------------------------------------------+\n",
      "\n"
     ]
    }
   ],
   "source": [
    "# Checking demographics dimension table  \n",
    "spark.sql(\"\"\"\n",
    "SELECT COUNT(DISTINCT city, state, race) - 2891\n",
    "FROM demographic_dim\n",
    "\"\"\").show()\n"
   ]
  },
  {
   "cell_type": "code",
   "execution_count": 164,
   "metadata": {},
   "outputs": [
    {
     "name": "stdout",
     "output_type": "stream",
     "text": [
      "+-----------------------------------------------+\n",
      "|(count(DISTINCT ident) - CAST(14529 AS BIGINT))|\n",
      "+-----------------------------------------------+\n",
      "|                                              0|\n",
      "+-----------------------------------------------+\n",
      "\n"
     ]
    }
   ],
   "source": [
    "spark.sql(\"\"\"\n",
    "SELECT COUNT(DISTINCT ident) - 14529\n",
    "FROM airport_dim\n",
    "\"\"\").show()\n"
   ]
  },
  {
   "cell_type": "code",
   "execution_count": 165,
   "metadata": {},
   "outputs": [
    {
     "name": "stdout",
     "output_type": "stream",
     "text": [
      "+-----------------------------------------------------+\n",
      "|(count(DISTINCT date, city) - CAST(189472 AS BIGINT))|\n",
      "+-----------------------------------------------------+\n",
      "|                                                    0|\n",
      "+-----------------------------------------------------+\n",
      "\n"
     ]
    }
   ],
   "source": [
    "spark.sql(\"\"\"\n",
    "SELECT COUNT(DISTINCT date, city) - 189472\n",
    "FROM temperature_dim\n",
    "\"\"\").show()\n",
    "\n"
   ]
  },
  {
   "cell_type": "markdown",
   "metadata": {},
   "source": [
    "Checking the distinct number of pair couple (city/state) in the fact table"
   ]
  },
  {
   "cell_type": "code",
   "execution_count": 166,
   "metadata": {},
   "outputs": [
    {
     "data": {
      "text/html": [
       "<div>\n",
       "<style scoped>\n",
       "    .dataframe tbody tr th:only-of-type {\n",
       "        vertical-align: middle;\n",
       "    }\n",
       "\n",
       "    .dataframe tbody tr th {\n",
       "        vertical-align: top;\n",
       "    }\n",
       "\n",
       "    .dataframe thead th {\n",
       "        text-align: right;\n",
       "    }\n",
       "</style>\n",
       "<table border=\"1\" class=\"dataframe\">\n",
       "  <thead>\n",
       "    <tr style=\"text-align: right;\">\n",
       "      <th></th>\n",
       "      <th>count(DISTINCT city, state)</th>\n",
       "    </tr>\n",
       "  </thead>\n",
       "  <tbody>\n",
       "    <tr>\n",
       "      <th>0</th>\n",
       "      <td>151</td>\n",
       "    </tr>\n",
       "  </tbody>\n",
       "</table>\n",
       "</div>"
      ],
      "text/plain": [
       "   count(DISTINCT city, state)\n",
       "0                          151"
      ]
     },
     "execution_count": 166,
     "metadata": {},
     "output_type": "execute_result"
    }
   ],
   "source": [
    "spark.sql(\"\"\"\n",
    "SELECT COUNT(DISTINCT city, state)\n",
    "FROM immigration_fact\n",
    "\"\"\").toPandas()"
   ]
  },
  {
   "cell_type": "markdown",
   "metadata": {},
   "source": [
    "Checking the distinct number of pair couple (city/state) that are present in immigration_fact and airport_dim"
   ]
  },
  {
   "cell_type": "code",
   "execution_count": 167,
   "metadata": {},
   "outputs": [
    {
     "data": {
      "text/html": [
       "<div>\n",
       "<style scoped>\n",
       "    .dataframe tbody tr th:only-of-type {\n",
       "        vertical-align: middle;\n",
       "    }\n",
       "\n",
       "    .dataframe tbody tr th {\n",
       "        vertical-align: top;\n",
       "    }\n",
       "\n",
       "    .dataframe thead th {\n",
       "        text-align: right;\n",
       "    }\n",
       "</style>\n",
       "<table border=\"1\" class=\"dataframe\">\n",
       "  <thead>\n",
       "    <tr style=\"text-align: right;\">\n",
       "      <th></th>\n",
       "      <th>count(1)</th>\n",
       "    </tr>\n",
       "  </thead>\n",
       "  <tbody>\n",
       "    <tr>\n",
       "      <th>0</th>\n",
       "      <td>102</td>\n",
       "    </tr>\n",
       "  </tbody>\n",
       "</table>\n",
       "</div>"
      ],
      "text/plain": [
       "   count(1)\n",
       "0       102"
      ]
     },
     "execution_count": 167,
     "metadata": {},
     "output_type": "execute_result"
    }
   ],
   "source": [
    "spark.sql(\"\"\"\n",
    "SELECT COUNT(*)\n",
    "FROM\n",
    "(\n",
    "SELECT DISTINCT city, state\n",
    "FROM immigration_fact\n",
    ") fi\n",
    "INNER JOIN \n",
    "(\n",
    "SELECT DISTINCT municipality, state\n",
    "FROM airport_dim\n",
    ") da\n",
    "ON fi.city = da.municipality\n",
    "AND fi.state = da.state\n",
    "\"\"\").toPandas().head()"
   ]
  },
  {
   "cell_type": "markdown",
   "metadata": {},
   "source": [
    "Checking the distinct number of pair couple (city/state) that are present in immigration_fact and demographic_dim"
   ]
  },
  {
   "cell_type": "code",
   "execution_count": 168,
   "metadata": {},
   "outputs": [
    {
     "name": "stdout",
     "output_type": "stream",
     "text": [
      "+--------+\n",
      "|count(1)|\n",
      "+--------+\n",
      "|      69|\n",
      "+--------+\n",
      "\n"
     ]
    }
   ],
   "source": [
    "spark.sql(\"\"\"\n",
    "SELECT COUNT(*)\n",
    "FROM\n",
    "(\n",
    "SELECT DISTINCT city, state\n",
    "FROM immigration_fact\n",
    ") ift\n",
    "INNER JOIN \n",
    "(\n",
    "SELECT DISTINCT City, state_code\n",
    "FROM demographic_dim\n",
    ") ddt\n",
    "ON ift.city = ddt.City\n",
    "AND ift.state = ddt.state_code\n",
    "\"\"\").show(2)"
   ]
  },
  {
   "cell_type": "markdown",
   "metadata": {},
   "source": [
    "After running the pair couple comparison we observe the following:\n",
    "* 66% of immigration data can be paired with airport data\n",
    "* 46% of immigration data can be paired with demographic data"
   ]
  },
  {
   "cell_type": "markdown",
   "metadata": {},
   "source": [
    "#### 4.3 Data dictionary \n",
    "Create a data dictionary for your data model. For each field, provide a brief description of what the data is and where it came from. You can include the data dictionary in the notebook or in a separate file."
   ]
  },
  {
   "cell_type": "markdown",
   "metadata": {},
   "source": [
    "#### Step 5: Complete Project Write Up\n",
    "<div style=\"text-align: justify\"> \n",
    "The immigration dataset has three million rows just for one month worth of observations, and combined with other data sets can lead to a significant amount of data especialy over a long period of time. Spark's ability to reduce the number of read/write cycle to disk and storing intermediate data in-memory allows to rapidily run repetead queries, making a great choice for the capstone project.  </div>"
   ]
  },
  {
   "cell_type": "markdown",
   "metadata": {},
   "source": [
    "***\n",
    "\n",
    "\n",
    "\n",
    "***"
   ]
  },
  {
   "cell_type": "markdown",
   "metadata": {},
   "source": [
    "<div style =\"text-align: justify\">The objective listed in the beginnig section of the project can all be achieved. In fact, the underlying data would most likely need to be updated once every three months or to a larger pridic time frame. In addition, Apache Spark can process data from a variety of data repositories, including the Hadoop Distributed File System (HDFS), NoSQL databases and relational data stores. The only limitation could come from the hardware configuration of the Big Data cluster or device lacks physical memory (RAM) as Spark engine heavily relies on good amounts of RAM on the relevant nodes for in-memory processing.</div>"
   ]
  },
  {
   "cell_type": "markdown",
   "metadata": {},
   "source": [
    "#### Alternate requirement scenarios:"
   ]
  },
  {
   "cell_type": "markdown",
   "metadata": {},
   "source": [
    "How would our approach change if the problem had the following requireements:\n",
    "* The database needed to be accessed by 100+ people: Once the data is ready to be consumed, it would be stored in a AWS redshift cluster supporting secure access for multiple users. \n",
    "* The data was increased by 100x: Data would be stored in an Amazon Storage Service (S3) or its alternative such as Azure Blob Storage, Google Cloud Storage, DigitalOcean Spaces, and Zadara. We would contiue using Spark as it is best suited for handling Big Data.\n",
    "* The data populates a dashboard that must be updated on a daily basis by 7am every day: To support a dynamic dashboard we could use Apache Airflow to perform the ETL/data quality validation as well as Airflow scheduler capability to ensure it updates daily.\n"
   ]
  },
  {
   "cell_type": "markdown",
   "metadata": {},
   "source": [
    "#### Aknowledgment\n",
    "\n",
    "* Chapeau to StackOverflow, GitHub, and Udacity Knowledge platforms for providing some guidance code.\n",
    "\n"
   ]
  },
  {
   "cell_type": "code",
   "execution_count": null,
   "metadata": {},
   "outputs": [],
   "source": []
  }
 ],
 "metadata": {
  "kernelspec": {
   "display_name": "Python 3",
   "language": "python",
   "name": "python3"
  },
  "language_info": {
   "codemirror_mode": {
    "name": "ipython",
    "version": 3
   },
   "file_extension": ".py",
   "mimetype": "text/x-python",
   "name": "python",
   "nbconvert_exporter": "python",
   "pygments_lexer": "ipython3",
   "version": "3.7.3"
  }
 },
 "nbformat": 4,
 "nbformat_minor": 4
}
